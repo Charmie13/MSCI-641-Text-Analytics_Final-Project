{
  "nbformat": 4,
  "nbformat_minor": 0,
  "metadata": {
    "colab": {
      "name": "Combined_Data_Prep.ipynb",
      "provenance": [],
      "collapsed_sections": [],
      "authorship_tag": "ABX9TyMbK6RVIkmVOK9IHiScqIS9",
      "include_colab_link": true
    },
    "kernelspec": {
      "name": "python3",
      "display_name": "Python 3"
    },
    "language_info": {
      "name": "python"
    },
    "gpuClass": "standard"
  },
  "cells": [
    {
      "cell_type": "markdown",
      "metadata": {
        "id": "view-in-github",
        "colab_type": "text"
      },
      "source": [
        "<a href=\"https://colab.research.google.com/github/Charmie13/MSCI-641-Text-Analytics_Final-Project/blob/main/Combined_Data_Prep.ipynb\" target=\"_parent\"><img src=\"https://colab.research.google.com/assets/colab-badge.svg\" alt=\"Open In Colab\"/></a>"
      ]
    },
    {
      "cell_type": "code",
      "execution_count": 1,
      "metadata": {
        "id": "mlWemUl1OSCs"
      },
      "outputs": [],
      "source": [
        "import os\n",
        "import csv\n",
        "import pandas as pd\n",
        "from tqdm import tqdm\n",
        "\n",
        "from sklearn.model_selection import train_test_split"
      ]
    },
    {
      "cell_type": "code",
      "source": [
        "train_bodies = pd.read_csv('train_bodies.csv')\n",
        "train_bodies.head(10)"
      ],
      "metadata": {
        "id": "ZQx2eL1COXxD"
      },
      "execution_count": null,
      "outputs": []
    },
    {
      "cell_type": "code",
      "source": [
        "test_bodies = pd.read_csv('competition_test_bodies.csv')\n",
        "test_bodies.head(10)"
      ],
      "metadata": {
        "id": "0JX3B8UEOfis"
      },
      "execution_count": null,
      "outputs": []
    },
    {
      "cell_type": "code",
      "source": [
        "# load training data\n",
        "train_df = pd.read_csv('train_stances.csv')\n",
        "# load testing data\n",
        "test_df = pd.read_csv('competition_test_stances.csv')"
      ],
      "metadata": {
        "id": "yuvDTSHkOiVS"
      },
      "execution_count": 4,
      "outputs": []
    },
    {
      "cell_type": "code",
      "source": [
        "train_df.replace('unrelated',0,True)\n",
        "train_df.replace('agree',1,True)\n",
        "train_df.replace('disagree',2,True)\n",
        "train_df.replace('discuss',3,True)\n",
        "\n",
        "test_df.replace('unrelated',0,True)\n",
        "test_df.replace('agree',1,True)\n",
        "test_df.replace('disagree',2,True)\n",
        "test_df.replace('discuss',3,True)\n"
      ],
      "metadata": {
        "id": "-PIQjDPVOlTQ"
      },
      "execution_count": 5,
      "outputs": []
    },
    {
      "cell_type": "code",
      "source": [
        "def labels(row):\n",
        "  if row['Stance'] == 0:\n",
        "    return 1\n",
        "  else:\n",
        "    return 0\n",
        "\n",
        "train_df['Modified Labels'] = train_df.apply(labels, axis=1)"
      ],
      "metadata": {
        "id": "29-6Rhm0WJS9"
      },
      "execution_count": 6,
      "outputs": []
    },
    {
      "cell_type": "code",
      "source": [
        "train_df"
      ],
      "metadata": {
        "id": "WNhcamXvXGVR"
      },
      "execution_count": null,
      "outputs": []
    },
    {
      "cell_type": "code",
      "source": [
        "combined_df_train = train_df.join(train_bodies.set_index('Body ID'), on='Body ID')\n",
        "combined_df_test = test_df.join(test_bodies.set_index('Body ID'), on='Body ID')"
      ],
      "metadata": {
        "id": "Sjn4FDiiOoQq"
      },
      "execution_count": 8,
      "outputs": []
    },
    {
      "cell_type": "code",
      "source": [
        "combined_df_train['Modified Labels'].value_counts()"
      ],
      "metadata": {
        "id": "ZhU92YbBYOpM"
      },
      "execution_count": null,
      "outputs": []
    },
    {
      "cell_type": "code",
      "source": [
        "combined_df_train"
      ],
      "metadata": {
        "id": "VCmXJMy_cE6M",
        "colab": {
          "base_uri": "https://localhost:8080/",
          "height": 467
        },
        "outputId": "a31274f5-a6ca-43fd-c876-e4122e9fa162"
      },
      "execution_count": 10,
      "outputs": [
        {
          "output_type": "execute_result",
          "data": {
            "text/plain": [
              "                                                Headline  Body ID  Stance  \\\n",
              "0      Police find mass graves with at least '15 bodi...      712       0   \n",
              "1      Hundreds of Palestinians flee floods in Gaza a...      158       1   \n",
              "2      Christian Bale passes on role of Steve Jobs, a...      137       0   \n",
              "3      HBO and Apple in Talks for $15/Month Apple TV ...     1034       0   \n",
              "4      Spider burrowed through tourist's stomach and ...     1923       2   \n",
              "...                                                  ...      ...     ...   \n",
              "49967  Urgent: The Leader of ISIL 'Abu Bakr al-Baghda...     1681       0   \n",
              "49968  Brian Williams slams social media for speculat...     2419       0   \n",
              "49969  Mexico Says Missing Students Not Found In Firs...     1156       1   \n",
              "49970  US Lawmaker: Ten ISIS Fighters Have Been Appre...     1012       3   \n",
              "49971  Shots Heard In Alleged Brown Shooting Recordin...     2044       0   \n",
              "\n",
              "       Modified Labels                                        articleBody  \n",
              "0                    1  Danny Boyle is directing the untitled film\\n\\n...  \n",
              "1                    0  Hundreds of Palestinians were evacuated from t...  \n",
              "2                    1  30-year-old Moscow resident was hospitalized w...  \n",
              "3                    1  (Reuters) - A Canadian soldier was shot at the...  \n",
              "4                    0  Fear not arachnophobes, the story of Bunbury's...  \n",
              "...                ...                                                ...  \n",
              "49967                1  (CNN) -- Boko Haram laughed off Nigeria's anno...  \n",
              "49968                1  Along with unveiling the Apple Watch earlier t...  \n",
              "49969                0  The bodies found in a mass grave were confirme...  \n",
              "49970                0  Rep. Duncan Hunter (R-CA) told Greta Van Suste...  \n",
              "49971                1  A married TV actor who met a young woman and k...  \n",
              "\n",
              "[49972 rows x 5 columns]"
            ],
            "text/html": [
              "\n",
              "  <div id=\"df-f3e96422-7568-48f7-b974-1f75043ff5dc\">\n",
              "    <div class=\"colab-df-container\">\n",
              "      <div>\n",
              "<style scoped>\n",
              "    .dataframe tbody tr th:only-of-type {\n",
              "        vertical-align: middle;\n",
              "    }\n",
              "\n",
              "    .dataframe tbody tr th {\n",
              "        vertical-align: top;\n",
              "    }\n",
              "\n",
              "    .dataframe thead th {\n",
              "        text-align: right;\n",
              "    }\n",
              "</style>\n",
              "<table border=\"1\" class=\"dataframe\">\n",
              "  <thead>\n",
              "    <tr style=\"text-align: right;\">\n",
              "      <th></th>\n",
              "      <th>Headline</th>\n",
              "      <th>Body ID</th>\n",
              "      <th>Stance</th>\n",
              "      <th>Modified Labels</th>\n",
              "      <th>articleBody</th>\n",
              "    </tr>\n",
              "  </thead>\n",
              "  <tbody>\n",
              "    <tr>\n",
              "      <th>0</th>\n",
              "      <td>Police find mass graves with at least '15 bodi...</td>\n",
              "      <td>712</td>\n",
              "      <td>0</td>\n",
              "      <td>1</td>\n",
              "      <td>Danny Boyle is directing the untitled film\\n\\n...</td>\n",
              "    </tr>\n",
              "    <tr>\n",
              "      <th>1</th>\n",
              "      <td>Hundreds of Palestinians flee floods in Gaza a...</td>\n",
              "      <td>158</td>\n",
              "      <td>1</td>\n",
              "      <td>0</td>\n",
              "      <td>Hundreds of Palestinians were evacuated from t...</td>\n",
              "    </tr>\n",
              "    <tr>\n",
              "      <th>2</th>\n",
              "      <td>Christian Bale passes on role of Steve Jobs, a...</td>\n",
              "      <td>137</td>\n",
              "      <td>0</td>\n",
              "      <td>1</td>\n",
              "      <td>30-year-old Moscow resident was hospitalized w...</td>\n",
              "    </tr>\n",
              "    <tr>\n",
              "      <th>3</th>\n",
              "      <td>HBO and Apple in Talks for $15/Month Apple TV ...</td>\n",
              "      <td>1034</td>\n",
              "      <td>0</td>\n",
              "      <td>1</td>\n",
              "      <td>(Reuters) - A Canadian soldier was shot at the...</td>\n",
              "    </tr>\n",
              "    <tr>\n",
              "      <th>4</th>\n",
              "      <td>Spider burrowed through tourist's stomach and ...</td>\n",
              "      <td>1923</td>\n",
              "      <td>2</td>\n",
              "      <td>0</td>\n",
              "      <td>Fear not arachnophobes, the story of Bunbury's...</td>\n",
              "    </tr>\n",
              "    <tr>\n",
              "      <th>...</th>\n",
              "      <td>...</td>\n",
              "      <td>...</td>\n",
              "      <td>...</td>\n",
              "      <td>...</td>\n",
              "      <td>...</td>\n",
              "    </tr>\n",
              "    <tr>\n",
              "      <th>49967</th>\n",
              "      <td>Urgent: The Leader of ISIL 'Abu Bakr al-Baghda...</td>\n",
              "      <td>1681</td>\n",
              "      <td>0</td>\n",
              "      <td>1</td>\n",
              "      <td>(CNN) -- Boko Haram laughed off Nigeria's anno...</td>\n",
              "    </tr>\n",
              "    <tr>\n",
              "      <th>49968</th>\n",
              "      <td>Brian Williams slams social media for speculat...</td>\n",
              "      <td>2419</td>\n",
              "      <td>0</td>\n",
              "      <td>1</td>\n",
              "      <td>Along with unveiling the Apple Watch earlier t...</td>\n",
              "    </tr>\n",
              "    <tr>\n",
              "      <th>49969</th>\n",
              "      <td>Mexico Says Missing Students Not Found In Firs...</td>\n",
              "      <td>1156</td>\n",
              "      <td>1</td>\n",
              "      <td>0</td>\n",
              "      <td>The bodies found in a mass grave were confirme...</td>\n",
              "    </tr>\n",
              "    <tr>\n",
              "      <th>49970</th>\n",
              "      <td>US Lawmaker: Ten ISIS Fighters Have Been Appre...</td>\n",
              "      <td>1012</td>\n",
              "      <td>3</td>\n",
              "      <td>0</td>\n",
              "      <td>Rep. Duncan Hunter (R-CA) told Greta Van Suste...</td>\n",
              "    </tr>\n",
              "    <tr>\n",
              "      <th>49971</th>\n",
              "      <td>Shots Heard In Alleged Brown Shooting Recordin...</td>\n",
              "      <td>2044</td>\n",
              "      <td>0</td>\n",
              "      <td>1</td>\n",
              "      <td>A married TV actor who met a young woman and k...</td>\n",
              "    </tr>\n",
              "  </tbody>\n",
              "</table>\n",
              "<p>49972 rows × 5 columns</p>\n",
              "</div>\n",
              "      <button class=\"colab-df-convert\" onclick=\"convertToInteractive('df-f3e96422-7568-48f7-b974-1f75043ff5dc')\"\n",
              "              title=\"Convert this dataframe to an interactive table.\"\n",
              "              style=\"display:none;\">\n",
              "        \n",
              "  <svg xmlns=\"http://www.w3.org/2000/svg\" height=\"24px\"viewBox=\"0 0 24 24\"\n",
              "       width=\"24px\">\n",
              "    <path d=\"M0 0h24v24H0V0z\" fill=\"none\"/>\n",
              "    <path d=\"M18.56 5.44l.94 2.06.94-2.06 2.06-.94-2.06-.94-.94-2.06-.94 2.06-2.06.94zm-11 1L8.5 8.5l.94-2.06 2.06-.94-2.06-.94L8.5 2.5l-.94 2.06-2.06.94zm10 10l.94 2.06.94-2.06 2.06-.94-2.06-.94-.94-2.06-.94 2.06-2.06.94z\"/><path d=\"M17.41 7.96l-1.37-1.37c-.4-.4-.92-.59-1.43-.59-.52 0-1.04.2-1.43.59L10.3 9.45l-7.72 7.72c-.78.78-.78 2.05 0 2.83L4 21.41c.39.39.9.59 1.41.59.51 0 1.02-.2 1.41-.59l7.78-7.78 2.81-2.81c.8-.78.8-2.07 0-2.86zM5.41 20L4 18.59l7.72-7.72 1.47 1.35L5.41 20z\"/>\n",
              "  </svg>\n",
              "      </button>\n",
              "      \n",
              "  <style>\n",
              "    .colab-df-container {\n",
              "      display:flex;\n",
              "      flex-wrap:wrap;\n",
              "      gap: 12px;\n",
              "    }\n",
              "\n",
              "    .colab-df-convert {\n",
              "      background-color: #E8F0FE;\n",
              "      border: none;\n",
              "      border-radius: 50%;\n",
              "      cursor: pointer;\n",
              "      display: none;\n",
              "      fill: #1967D2;\n",
              "      height: 32px;\n",
              "      padding: 0 0 0 0;\n",
              "      width: 32px;\n",
              "    }\n",
              "\n",
              "    .colab-df-convert:hover {\n",
              "      background-color: #E2EBFA;\n",
              "      box-shadow: 0px 1px 2px rgba(60, 64, 67, 0.3), 0px 1px 3px 1px rgba(60, 64, 67, 0.15);\n",
              "      fill: #174EA6;\n",
              "    }\n",
              "\n",
              "    [theme=dark] .colab-df-convert {\n",
              "      background-color: #3B4455;\n",
              "      fill: #D2E3FC;\n",
              "    }\n",
              "\n",
              "    [theme=dark] .colab-df-convert:hover {\n",
              "      background-color: #434B5C;\n",
              "      box-shadow: 0px 1px 3px 1px rgba(0, 0, 0, 0.15);\n",
              "      filter: drop-shadow(0px 1px 2px rgba(0, 0, 0, 0.3));\n",
              "      fill: #FFFFFF;\n",
              "    }\n",
              "  </style>\n",
              "\n",
              "      <script>\n",
              "        const buttonEl =\n",
              "          document.querySelector('#df-f3e96422-7568-48f7-b974-1f75043ff5dc button.colab-df-convert');\n",
              "        buttonEl.style.display =\n",
              "          google.colab.kernel.accessAllowed ? 'block' : 'none';\n",
              "\n",
              "        async function convertToInteractive(key) {\n",
              "          const element = document.querySelector('#df-f3e96422-7568-48f7-b974-1f75043ff5dc');\n",
              "          const dataTable =\n",
              "            await google.colab.kernel.invokeFunction('convertToInteractive',\n",
              "                                                     [key], {});\n",
              "          if (!dataTable) return;\n",
              "\n",
              "          const docLinkHtml = 'Like what you see? Visit the ' +\n",
              "            '<a target=\"_blank\" href=https://colab.research.google.com/notebooks/data_table.ipynb>data table notebook</a>'\n",
              "            + ' to learn more about interactive tables.';\n",
              "          element.innerHTML = '';\n",
              "          dataTable['output_type'] = 'display_data';\n",
              "          await google.colab.output.renderOutput(dataTable, element);\n",
              "          const docLink = document.createElement('div');\n",
              "          docLink.innerHTML = docLinkHtml;\n",
              "          element.appendChild(docLink);\n",
              "        }\n",
              "      </script>\n",
              "    </div>\n",
              "  </div>\n",
              "  "
            ]
          },
          "metadata": {},
          "execution_count": 10
        }
      ]
    },
    {
      "cell_type": "code",
      "source": [
        "from sklearn.feature_extraction.text import TfidfVectorizer\n",
        "from imblearn.under_sampling import RandomUnderSampler\n",
        "from imblearn.over_sampling import RandomOverSampler"
      ],
      "metadata": {
        "id": "NHH5LQ6tYrKI"
      },
      "execution_count": 11,
      "outputs": []
    },
    {
      "cell_type": "code",
      "source": [
        "target1 = ['Stance']\n",
        "features1 = ['Headline', 'Body ID', 'Modified Labels', 'articleBody']"
      ],
      "metadata": {
        "id": "BiJPipNvsb8c"
      },
      "execution_count": 12,
      "outputs": []
    },
    {
      "cell_type": "code",
      "source": [
        "import matplotlib.pyplot as plt\n",
        "import seaborn as sns\n",
        "from matplotlib.cbook import boxplot_stats"
      ],
      "metadata": {
        "id": "7QtSB0Rmi5MP"
      },
      "execution_count": 13,
      "outputs": []
    },
    {
      "cell_type": "code",
      "source": [
        "x1 = combined_df_train[features1]\n",
        "y1 = combined_df_train[target1]\n",
        "\n",
        "fig, (ax1) = plt.subplots(1,1)\n",
        "sns.set_theme(style=\"darkgrid\")\n",
        "palette = sns.color_palette(\"PuBuGn_r\")\n",
        "sns.countplot(x = \"Stance\", data = combined_df_train, ax=ax1, palette=palette)\n",
        "fig.tight_layout()\n",
        "fig.show()"
      ],
      "metadata": {
        "colab": {
          "base_uri": "https://localhost:8080/",
          "height": 293
        },
        "id": "LbU9hb45iKhc",
        "outputId": "91123228-e55b-41ef-f71f-a84a30d7aa4c"
      },
      "execution_count": 15,
      "outputs": [
        {
          "output_type": "display_data",
          "data": {
            "text/plain": [
              "<Figure size 432x288 with 1 Axes>"
            ],
            "image/png": "[encoded data removed]"
          },
          "metadata": {}
        }
      ]
    },
    {
      "cell_type": "code",
      "source": [
        "features = ['Headline', 'Body ID', 'Stance', 'articleBody']\n",
        "target = ['Modified Labels']"
      ],
      "metadata": {
        "id": "dGSBfCL-hfZS"
      },
      "execution_count": 16,
      "outputs": []
    },
    {
      "cell_type": "code",
      "source": [
        "x = combined_df_train[features]\n",
        "y = combined_df_train[target]"
      ],
      "metadata": {
        "id": "zso1QMiqrrtk"
      },
      "execution_count": 17,
      "outputs": []
    },
    {
      "cell_type": "code",
      "source": [
        "from collections import Counter"
      ],
      "metadata": {
        "id": "6_UeGef5coV4"
      },
      "execution_count": 18,
      "outputs": []
    },
    {
      "cell_type": "code",
      "source": [
        "y_label = y[\"Modified Labels\"]\n",
        "under_sampler = RandomUnderSampler(random_state=42)\n",
        "print('Before sampling label dataset shape {}'.format(Counter(y_label)))\n",
        "X_label, y_label = under_sampler.fit_resample(x, y_label)\n",
        "print('Resampled dataset shape {}'.format(Counter(y_label)))"
      ],
      "metadata": {
        "colab": {
          "base_uri": "https://localhost:8080/"
        },
        "id": "4nsda5xbj1bO",
        "outputId": "0cc121d6-58f8-40e8-dfca-42698589ad59"
      },
      "execution_count": 42,
      "outputs": [
        {
          "output_type": "stream",
          "name": "stdout",
          "text": [
            "Before sampling label dataset shape Counter({1: 36545, 0: 13427})\n",
            "Resampled dataset shape Counter({0: 13427, 1: 13427})\n"
          ]
        }
      ]
    },
    {
      "cell_type": "code",
      "source": [
        "train_reduced = pd.concat([X_label, y_label], axis = 1)"
      ],
      "metadata": {
        "id": "zi8Dgw3lldo3"
      },
      "execution_count": 20,
      "outputs": []
    },
    {
      "cell_type": "code",
      "source": [
        "train_reduced"
      ],
      "metadata": {
        "id": "IDtj3Cq4mDL1"
      },
      "execution_count": null,
      "outputs": []
    },
    {
      "cell_type": "code",
      "source": [
        "train_reduced.shape"
      ],
      "metadata": {
        "id": "Coay51SVV7CC"
      },
      "execution_count": null,
      "outputs": []
    },
    {
      "cell_type": "code",
      "source": [
        "y_label1 = y[\"Modified Labels\"]\n",
        "over_sampler = RandomOverSampler(random_state=42)\n",
        "print('Before sampling label dataset shape {}'.format(Counter(y_label1)))\n",
        "X_label, y_label1 = over_sampler.fit_resample(x, y_label1)\n",
        "print('Resampled dataset shape {}'.format(Counter(y_label1)))"
      ],
      "metadata": {
        "colab": {
          "base_uri": "https://localhost:8080/"
        },
        "id": "s5voaojOknQ4",
        "outputId": "0ab12406-db33-4e1d-a3e4-8ba632bb10f2"
      },
      "execution_count": 23,
      "outputs": [
        {
          "output_type": "stream",
          "name": "stdout",
          "text": [
            "Before sampling label dataset shape Counter({1: 36545, 0: 13427})\n",
            "Resampled dataset shape Counter({1: 36545, 0: 36545})\n"
          ]
        }
      ]
    },
    {
      "cell_type": "code",
      "source": [
        "train_oversample = pd.concat([X_label, y_label1], axis = 1)"
      ],
      "metadata": {
        "id": "mVkCMMy6oZYf"
      },
      "execution_count": 24,
      "outputs": []
    },
    {
      "cell_type": "code",
      "source": [
        "train_oversample"
      ],
      "metadata": {
        "id": "qVcCIV0mqMiE"
      },
      "execution_count": null,
      "outputs": []
    },
    {
      "cell_type": "code",
      "source": [
        "train_oversample.shape"
      ],
      "metadata": {
        "id": "SqX0scs0qNdA"
      },
      "execution_count": null,
      "outputs": []
    },
    {
      "cell_type": "code",
      "source": [
        "combined_df_test.shape"
      ],
      "metadata": {
        "id": "0VZ6tSD0F_QE"
      },
      "execution_count": null,
      "outputs": []
    },
    {
      "cell_type": "code",
      "source": [
        "combined_df_test"
      ],
      "metadata": {
        "id": "ybIuyQPzGENo"
      },
      "execution_count": null,
      "outputs": []
    },
    {
      "cell_type": "code",
      "source": [
        "stances = train_reduced['Stance']\n",
        "stances.replace(0, 'unrelated',True)\n",
        "stances.replace(1, 'agree',True)\n",
        "stances.replace(2, 'disagree',True)\n",
        "stances.replace(3, 'discuss',True)"
      ],
      "metadata": {
        "id": "PGvOaHu6GlAT"
      },
      "execution_count": 29,
      "outputs": []
    },
    {
      "cell_type": "code",
      "source": [
        "stances"
      ],
      "metadata": {
        "id": "5WNn9qGcAHh5"
      },
      "execution_count": null,
      "outputs": []
    },
    {
      "cell_type": "code",
      "source": [
        "train_reduced"
      ],
      "metadata": {
        "id": "WZItlGZbGv5C"
      },
      "execution_count": null,
      "outputs": []
    },
    {
      "cell_type": "code",
      "source": [
        "train_reduced.shape"
      ],
      "metadata": {
        "colab": {
          "base_uri": "https://localhost:8080/"
        },
        "id": "9QBbyNK1qeD-",
        "outputId": "4075c0a1-2517-44ea-c183-f3cec84db26a"
      },
      "execution_count": 32,
      "outputs": [
        {
          "output_type": "execute_result",
          "data": {
            "text/plain": [
              "(26854, 5)"
            ]
          },
          "metadata": {},
          "execution_count": 32
        }
      ]
    },
    {
      "cell_type": "code",
      "source": [
        "stances2 = train_oversample['Stance']\n",
        "stances2.replace(0, 'unrelated',True)\n",
        "stances2.replace(1, 'agree',True)\n",
        "stances2.replace(2, 'disagree',True)\n",
        "stances2.replace(3, 'discuss',True)"
      ],
      "metadata": {
        "id": "5MiQWsMKqcRE"
      },
      "execution_count": 33,
      "outputs": []
    },
    {
      "cell_type": "code",
      "source": [
        "stances2"
      ],
      "metadata": {
        "id": "HpX340BAqs1B"
      },
      "execution_count": null,
      "outputs": []
    },
    {
      "cell_type": "code",
      "source": [
        "train_oversample"
      ],
      "metadata": {
        "id": "5ZhVskE0qr0A"
      },
      "execution_count": null,
      "outputs": []
    },
    {
      "cell_type": "code",
      "source": [
        "train_oversample.shape"
      ],
      "metadata": {
        "id": "yvw2jKoxqxoF"
      },
      "execution_count": null,
      "outputs": []
    },
    {
      "cell_type": "code",
      "source": [
        "stances1 = combined_df_test['Stance']\n",
        "stances1.replace(0, 'agree',True)\n",
        "stances1.replace(1, 'disagree',True)\n",
        "stances1.replace(2, 'discuss',True)\n",
        "stances1.replace(3, 'unrelated',True)\n",
        "combined_df_test['Stance'] = stances1"
      ],
      "metadata": {
        "id": "NWesttUyGxfN"
      },
      "execution_count": 37,
      "outputs": []
    },
    {
      "cell_type": "code",
      "source": [
        "combined_df_test"
      ],
      "metadata": {
        "id": "gR5j2abHG012"
      },
      "execution_count": null,
      "outputs": []
    },
    {
      "cell_type": "code",
      "source": [
        "train_reduced = train_reduced.drop(columns=['Modified Labels'])"
      ],
      "metadata": {
        "id": "bYYWKbG2AsNU"
      },
      "execution_count": 39,
      "outputs": []
    },
    {
      "cell_type": "code",
      "source": [
        "train_reduced"
      ],
      "metadata": {
        "id": "E2BSOd6HFVUu"
      },
      "execution_count": null,
      "outputs": []
    },
    {
      "cell_type": "code",
      "source": [
        "train_oversample = train_oversample.drop(columns=['Modified Labels'])"
      ],
      "metadata": {
        "id": "BUaw6Zewq91W"
      },
      "execution_count": 41,
      "outputs": []
    },
    {
      "cell_type": "code",
      "source": [
        "train_oversample.to_csv('train_oversample.csv', index=False, encoding='utf-8')"
      ],
      "metadata": {
        "id": "pS6n3L5EG4-m"
      },
      "execution_count": null,
      "outputs": []
    },
    {
      "cell_type": "code",
      "source": [
        "from google.colab import files\n",
        "files.download('train_oversample.csv') "
      ],
      "metadata": {
        "id": "z8aVk2Pmmx3m"
      },
      "execution_count": null,
      "outputs": []
    },
    {
      "cell_type": "code",
      "source": [
        "train_reduced.to_csv('train_reduced.csv', index=False, encoding='utf-8')"
      ],
      "metadata": {
        "id": "V_EHtTHynpzP"
      },
      "execution_count": null,
      "outputs": []
    },
    {
      "cell_type": "code",
      "source": [
        "files.download('train_reduced.csv') "
      ],
      "metadata": {
        "id": "8Mof2550nqVH"
      },
      "execution_count": null,
      "outputs": []
    },
    {
      "cell_type": "code",
      "source": [
        "combined_df_test.to_csv('test.csv', index=False, encoding='utf-8')"
      ],
      "metadata": {
        "id": "PFo2iL5kG9aG"
      },
      "execution_count": null,
      "outputs": []
    },
    {
      "cell_type": "code",
      "source": [
        "files.download('test.csv') "
      ],
      "metadata": {
        "id": "9kGlswCOnOMG"
      },
      "execution_count": null,
      "outputs": []
    }
  ]
}