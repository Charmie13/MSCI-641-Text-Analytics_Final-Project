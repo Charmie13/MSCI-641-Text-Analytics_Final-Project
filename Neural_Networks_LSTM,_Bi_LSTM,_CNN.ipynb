{
  "cells": [
    {
      "cell_type": "markdown",
      "metadata": {
        "id": "view-in-github",
        "colab_type": "text"
      },
      "source": [
        "<a href=\"https://colab.research.google.com/github/Charmie13/MSCI-641-Text-Analytics_Final-Project/blob/main/Neural_Networks_LSTM%2C_Bi_LSTM%2C_CNN.ipynb\" target=\"_parent\"><img src=\"https://colab.research.google.com/assets/colab-badge.svg\" alt=\"Open In Colab\"/></a>"
      ]
    },
    {
      "cell_type": "code",
      "execution_count": null,
      "metadata": {
        "id": "3ge-Fp-rZTbT"
      },
      "outputs": [],
      "source": [
        "from google.colab import drive\n",
        "drive.mount('/content/drive')"
      ]
    },
    {
      "cell_type": "code",
      "execution_count": null,
      "metadata": {
        "colab": {
          "base_uri": "https://localhost:8080/"
        },
        "id": "gOzFsp3dYy17",
        "outputId": "761102cc-2659-4cf4-cb23-6fcf14630835"
      },
      "outputs": [
        {
          "output_type": "stream",
          "name": "stdout",
          "text": [
            "--2022-08-08 07:04:13--  http://nlp.stanford.edu/data/glove.twitter.27B.zip\n",
            "Resolving nlp.stanford.edu (nlp.stanford.edu)... 171.64.67.140\n",
            "Connecting to nlp.stanford.edu (nlp.stanford.edu)|171.64.67.140|:80... connected.\n",
            "HTTP request sent, awaiting response... 302 Found\n",
            "Location: https://nlp.stanford.edu/data/glove.twitter.27B.zip [following]\n",
            "--2022-08-08 07:04:13--  https://nlp.stanford.edu/data/glove.twitter.27B.zip\n",
            "Connecting to nlp.stanford.edu (nlp.stanford.edu)|171.64.67.140|:443... connected.\n",
            "HTTP request sent, awaiting response... 301 Moved Permanently\n",
            "Location: https://downloads.cs.stanford.edu/nlp/data/glove.twitter.27B.zip [following]\n",
            "--2022-08-08 07:04:13--  https://downloads.cs.stanford.edu/nlp/data/glove.twitter.27B.zip\n",
            "Resolving downloads.cs.stanford.edu (downloads.cs.stanford.edu)... 171.64.64.22\n",
            "Connecting to downloads.cs.stanford.edu (downloads.cs.stanford.edu)|171.64.64.22|:443... connected.\n",
            "HTTP request sent, awaiting response... 200 OK\n",
            "Length: 1520408563 (1.4G) [application/zip]\n",
            "Saving to: ‘glove.twitter.27B.zip’\n",
            "\n",
            "glove.twitter.27B.z 100%[===================>]   1.42G  5.00MB/s    in 4m 44s  \n",
            "\n",
            "2022-08-08 07:08:57 (5.10 MB/s) - ‘glove.twitter.27B.zip’ saved [1520408563/1520408563]\n",
            "\n",
            "--2022-08-08 07:08:58--  http://nlp.stanford.edu/data/glove.6B.zip\n",
            "Resolving nlp.stanford.edu (nlp.stanford.edu)... 171.64.67.140\n",
            "Connecting to nlp.stanford.edu (nlp.stanford.edu)|171.64.67.140|:80... connected.\n",
            "HTTP request sent, awaiting response... 302 Found\n",
            "Location: https://nlp.stanford.edu/data/glove.6B.zip [following]\n",
            "--2022-08-08 07:08:58--  https://nlp.stanford.edu/data/glove.6B.zip\n",
            "Connecting to nlp.stanford.edu (nlp.stanford.edu)|171.64.67.140|:443... connected.\n",
            "HTTP request sent, awaiting response... 301 Moved Permanently\n",
            "Location: https://downloads.cs.stanford.edu/nlp/data/glove.6B.zip [following]\n",
            "--2022-08-08 07:08:58--  https://downloads.cs.stanford.edu/nlp/data/glove.6B.zip\n",
            "Resolving downloads.cs.stanford.edu (downloads.cs.stanford.edu)... 171.64.64.22\n",
            "Connecting to downloads.cs.stanford.edu (downloads.cs.stanford.edu)|171.64.64.22|:443... connected.\n",
            "HTTP request sent, awaiting response... 200 OK\n",
            "Length: 862182613 (822M) [application/zip]\n",
            "Saving to: ‘glove.6B.zip’\n",
            "\n",
            "glove.6B.zip        100%[===================>] 822.24M  5.00MB/s    in 2m 39s  \n",
            "\n",
            "2022-08-08 07:11:37 (5.17 MB/s) - ‘glove.6B.zip’ saved [862182613/862182613]\n",
            "\n",
            "Archive:  glove.twitter.27B.zip\n",
            "  inflating: data/glove_twitter/glove.twitter.27B.25d.txt  \n",
            "  inflating: data/glove_twitter/glove.twitter.27B.50d.txt  \n",
            "  inflating: data/glove_twitter/glove.twitter.27B.100d.txt  \n",
            "  inflating: data/glove_twitter/glove.twitter.27B.200d.txt  \n",
            "Archive:  glove.6B.zip\n",
            "  inflating: data/glove/glove.6B.50d.txt  \n",
            "  inflating: data/glove/glove.6B.100d.txt  \n",
            "  inflating: data/glove/glove.6B.200d.txt  \n",
            "  inflating: data/glove/glove.6B.300d.txt  \n"
          ]
        }
      ],
      "source": [
        "!mkdir data\n",
        "!mkdir data/glove\n",
        "!mkdir data/glove_twitter\n",
        "!wget http://nlp.stanford.edu/data/glove.twitter.27B.zip\n",
        "!wget http://nlp.stanford.edu/data/glove.6B.zip\n",
        "\n",
        "!unzip glove.twitter.27B.zip -d data/glove_twitter/\n",
        "!unzip glove.6B.zip -d data/glove"
      ]
    },
    {
      "cell_type": "code",
      "execution_count": null,
      "metadata": {
        "colab": {
          "base_uri": "https://localhost:8080/"
        },
        "id": "_2luDL_RZWAv",
        "outputId": "9d741d2e-1062-4140-80ba-1228df55f9e6"
      },
      "outputs": [
        {
          "output_type": "stream",
          "name": "stdout",
          "text": [
            "--2022-08-08 07:12:59--  https://dl.fbaipublicfiles.com/fasttext/vectors-english/wiki-news-300d-1M.vec.zip\n",
            "Resolving dl.fbaipublicfiles.com (dl.fbaipublicfiles.com)... 104.22.75.142, 172.67.9.4, 104.22.74.142, ...\n",
            "Connecting to dl.fbaipublicfiles.com (dl.fbaipublicfiles.com)|104.22.75.142|:443... connected.\n",
            "HTTP request sent, awaiting response... 200 OK\n",
            "Length: 681808098 (650M) [application/zip]\n",
            "Saving to: ‘wiki-news-300d-1M.vec.zip’\n",
            "\n",
            "wiki-news-300d-1M.v 100%[===================>] 650.22M  44.5MB/s    in 15s     \n",
            "\n",
            "2022-08-08 07:13:14 (44.4 MB/s) - ‘wiki-news-300d-1M.vec.zip’ saved [681808098/681808098]\n",
            "\n",
            "Archive:  wiki-news-300d-1M.vec.zip\n",
            "  inflating: data/wiki-news-vec/wiki-news-300d-1M.vec  \n"
          ]
        }
      ],
      "source": [
        "!wget https://dl.fbaipublicfiles.com/fasttext/vectors-english/wiki-news-300d-1M.vec.zip\n",
        "!unzip wiki-news-300d-1M.vec.zip -d data/wiki-news-vec/"
      ]
    },
    {
      "cell_type": "code",
      "execution_count": null,
      "metadata": {
        "id": "QpWBbkcJ-SN1"
      },
      "outputs": [],
      "source": [
        "import numpy as np, pandas as pd, csv, tensorflow as tf, gensim as gensim\n",
        "from collections import Counter\n",
        "from gensim.scripts.glove2word2vec import glove2word2vec\n",
        "from gensim.models import KeyedVectors\n",
        "from imblearn.under_sampling import RandomUnderSampler\n",
        "from imblearn.over_sampling import RandomOverSampler\n",
        "from sklearn.model_selection import train_test_split\n",
        "from keras.models import Sequential, Model\n",
        "from keras.layers import Input, Dense, LSTM, Embedding, Dropout, BatchNormalization, Activation, Bidirectional, Flatten\n",
        "from keras.layers.convolutional import Conv1D, MaxPooling1D, MaxPooling2D\n",
        "from keras.preprocessing.text import text_to_word_sequence, Tokenizer\n",
        "from keras_preprocessing.sequence import pad_sequences\n",
        "from score import report_score, score_submission\n",
        "from keras.utils.vis_utils import plot_model\n",
        "from sklearn.preprocessing import LabelEncoder\n",
        "from keras.utils.np_utils import to_categorical\n",
        "from nltk.corpus import stopwords\n",
        "import matplotlib.pyplot as plt"
      ]
    },
    {
      "cell_type": "code",
      "execution_count": null,
      "metadata": {
        "id": "oNrHKBTqlAxm"
      },
      "outputs": [],
      "source": [
        "def read_data(path1, path2):\n",
        "  train = pd.read_csv(path1)\n",
        "  test = pd.read_csv(path2)\n",
        "  print(\"Train Shape\" + str(train.shape))\n",
        "  print(\"Test Shape\" + str(test.shape))\n",
        "  return train, test"
      ]
    },
    {
      "cell_type": "code",
      "execution_count": null,
      "metadata": {
        "id": "hVhtMb7Bne4S"
      },
      "outputs": [],
      "source": [
        "#separate the text data based on the space\n",
        "def sequentialize_data(train, test):\n",
        "  train_head_seq = [text_to_word_sequence(head) for head in train['Headline']]\n",
        "  train_body_seq = [text_to_word_sequence(body) for body in train['articleBody']]\n",
        "  test_head_seq = [text_to_word_sequence(head) for head in test['Headline']]\n",
        "  test_body_seq = [text_to_word_sequence(body) for body in test['articleBody']]\n",
        "  print(\"Train head sequence \" +str(len(train_head_seq)))\n",
        "  print(\"Train body sequence \" +str(len(train_body_seq)))\n",
        "  print(\"Test head sequence \" +str(len(test_head_seq)))\n",
        "  print(\"Test body sequence \" +str(len(test_body_seq)))\n",
        "  return (train_head_seq, train_body_seq, test_head_seq, test_body_seq)"
      ]
    },
    {
      "cell_type": "code",
      "execution_count": null,
      "metadata": {
        "id": "9YLJptcXvuIq"
      },
      "outputs": [],
      "source": [
        "def concatenate_train_data(train_head_seq, train_body_seq):\n",
        "  words = []\n",
        "  for i in range(len(train_head_seq)):    \n",
        "      words.append(train_head_seq[i])\n",
        "  print(\"Length of words after adding Headlines\" + str(len(words)))\n",
        "  print(words[:250])\n",
        "  for i in range(len(train_body_seq)):\n",
        "    words.append(train_body_seq[i])\n",
        "  print(\"Length of words after adding Headlines\" + str(len(words)))\n",
        "  print(words[250:500])\n",
        "  return words"
      ]
    },
    {
      "cell_type": "code",
      "execution_count": null,
      "metadata": {
        "id": "3EyMtIQMYBjp"
      },
      "outputs": [],
      "source": [
        "# vectorize the data - the sequence that has been received has to now be converted into a set of vectors for the tensor to process.\n",
        "def vectorize_data(list):\n",
        "  symbols = '!\"\\'#$%&()*+,-./:;<=>?@[\\\\]^_`{|}~\\t\\n'\n",
        "  tokenizer = Tokenizer(num_words= 30000, filters = symbols)\n",
        "  tokenizer.fit_on_texts([word for word in words])\n",
        "  # print(\"Size of Vocabulary:\", len(tokenizer.word_index))\n",
        "  return tokenizer"
      ]
    },
    {
      "cell_type": "code",
      "execution_count": null,
      "metadata": {
        "id": "nUL9tAF6nQ_b"
      },
      "outputs": [],
      "source": [
        "def extend_data(train_head_seq, test_head_seq, train_body_seq, train, test, tokenizer):\n",
        "  train_seq = [list(i) for i in train_head_seq]\n",
        "  for i in range(len(train_head_seq)):\n",
        "      train_seq[i].extend(train_body_seq[i]) \n",
        "  test_seq = [list(i) for i in test_head_seq]\n",
        "  for i in range(len(test_head_seq)):\n",
        "      test_seq[i].extend(test_body_seq[i])\n",
        "  # print('After Sequentialization')\n",
        "  # print(\"Length of train_seq \" +str(len(train_seq)))\n",
        "  # print(\"Length of test_seq \" +str(len(test_seq)))\n",
        "  X_train = tokenizer.texts_to_sequences([' '.join(seq[:128]) for seq in train_seq])\n",
        "  X_train = pad_sequences(X_train, maxlen = 128, padding = 'post', truncating = 'post')\n",
        "  y_train = train['Stance']\n",
        "  # print('Train data After Tokenization')\n",
        "  # print(\"X_train Shape \" + str(X_train.shape))\n",
        "  # print(\"y_train Shape \" + str(y_train.shape))\n",
        "  X_test = tokenizer.texts_to_sequences([' '.join(seq[:128]) for seq in test_seq])\n",
        "  X_test = pad_sequences(X_test, maxlen = 128, padding = 'post', truncating = 'post')\n",
        "  y_test = test['Stance']\n",
        "  # print('Test data After Tokenization')\n",
        "  # print(\"X_test Shape \" + str(X_test.shape))\n",
        "  # print(\"y_test Shape \" + str(y_test.shape))\n",
        "  encoder = LabelEncoder()\n",
        "  encoder.fit(y_train)\n",
        "  train_encoded = encoder.transform(y_train)\n",
        "  y_train = to_categorical(train_encoded)\n",
        "  print('Train Data After Encoding, \\n')\n",
        "  print(\"X_train Shape \" + str(X_train.shape))\n",
        "  print(\"X_test Shape \" + str(X_test.shape))\n",
        "  print(\"y_train Shape \" + str(y_train.shape))\n",
        "  print(\"y_test Shape \" + str(y_test.shape)+'\\n')\n",
        "  X_train, X_val, y_train, y_val = train_test_split(X_train, y_train, random_state = 42, test_size = 0.1)\n",
        "  encoder = LabelEncoder()\n",
        "  encoder.fit(y_test)\n",
        "  test_encoded = encoder.transform(y_test)\n",
        "  y_test = to_categorical(test_encoded)\n",
        "  print('Train Data After Encoding and splitting, \\n')\n",
        "  print(\"X_train Shape \" + str(X_train.shape))\n",
        "  print(\"X_test Shape \" + str(X_test.shape))\n",
        "  print(\"y_train Shape \" + str(y_train.shape))\n",
        "  print(\"y_test Shape \" + str(y_test.shape))\n",
        "  return X_train, y_train, X_val, y_val, X_test, y_test"
      ]
    },
    {
      "cell_type": "code",
      "execution_count": null,
      "metadata": {
        "colab": {
          "base_uri": "https://localhost:8080/"
        },
        "id": "WotYpOra5hX3",
        "outputId": "6c1db8f6-e943-407a-f8a0-2de181daabb6"
      },
      "outputs": [
        {
          "output_type": "stream",
          "name": "stdout",
          "text": [
            "Train Shape(49972, 4)\n",
            "Test Shape(25413, 4)\n"
          ]
        }
      ],
      "source": [
        "i = 0\n",
        "if i == 0:\n",
        "  path1 = './train.csv'\n",
        "elif i == -1: \n",
        "  path1 = './train_undersample.csv'\n",
        "elif i == 1:\n",
        "  path1 = './train_oversample.csv'\n",
        "else:\n",
        "  path1 = './train.csv'\n",
        "train, test = read_data(path1, './test.csv')"
      ]
    },
    {
      "cell_type": "code",
      "execution_count": null,
      "metadata": {
        "colab": {
          "base_uri": "https://localhost:8080/"
        },
        "id": "SBM6fsSv5iA0",
        "outputId": "257517e4-fa99-4575-9cf3-d3b16a82d89b"
      },
      "outputs": [
        {
          "output_type": "stream",
          "name": "stdout",
          "text": [
            "Train head sequence 49972\n",
            "Train body sequence 49972\n",
            "Test head sequence 25413\n",
            "Test body sequence 25413\n"
          ]
        }
      ],
      "source": [
        "train_head_seq, train_body_seq, test_head_seq, test_body_seq = sequentialize_data(train, test)"
      ]
    },
    {
      "cell_type": "code",
      "execution_count": null,
      "metadata": {
        "colab": {
          "base_uri": "https://localhost:8080/"
        },
        "id": "OUQ6kdFG5iGl",
        "outputId": "5f6f9e40-84a7-4864-d8cc-d0906d587204"
      },
      "outputs": [
        {
          "output_type": "stream",
          "name": "stdout",
          "text": [
            "Length of words after adding Headlines49972\n",
            "[['police', 'find', 'mass', 'graves', 'with', 'at', 'least', \"'15\", \"bodies'\", 'near', 'mexico', 'town', 'where', '43', 'students', 'disappeared', 'after', 'police', 'clash'], ['hundreds', 'of', 'palestinians', 'flee', 'floods', 'in', 'gaza', 'as', 'israel', 'opens', 'dams'], ['christian', 'bale', 'passes', 'on', 'role', 'of', 'steve', 'jobs', 'actor', 'reportedly', 'felt', 'he', \"wasn't\", 'right', 'for', 'part'], ['hbo', 'and', 'apple', 'in', 'talks', 'for', '15', 'month', 'apple', 'tv', 'streaming', 'service', 'launching', 'in', 'april'], ['spider', 'burrowed', 'through', \"tourist's\", 'stomach', 'and', 'up', 'into', 'his', 'chest'], [\"'nasa\", 'confirms', 'earth', 'will', 'experience', '6', 'days', 'of', 'total', 'darkness', 'in', \"december'\", 'fake', 'news', 'story', 'goes', 'viral'], ['accused', 'boston', 'marathon', 'bomber', 'severely', 'injured', 'in', 'prison', 'may', 'never', 'walk', 'or', 'talk', 'again'], ['identity', 'of', 'isis', 'terrorist', 'known', 'as', \"'jihadi\", \"john'\", 'reportedly', 'revealed'], ['banksy', \"'arrested\", 'real', 'identity', \"revealed'\", 'is', 'the', 'same', 'hoax', 'from', 'last', 'year'], ['british', 'aid', 'worker', 'confirmed', 'murdered', 'by', 'isis'], ['gateway', 'pundit'], ['woman', 'detained', 'in', 'lebanon', 'is', 'not', 'al', \"baghdadi's\", 'wife', 'iraq', 'says'], ['kidnapped', 'nigerian', 'schoolgirls', 'government', 'claims', 'ceasefire', 'deal', 'with', 'boko', 'haram', 'that', 'will', 'bring', 'missing', 'girls', 'home'], ['no', 'that', 'high', 'school', 'kid', \"didn't\", 'make', '72', 'million', 'trading', 'stocks'], ['soon', 'marijuana', 'may', 'lead', 'to', 'ticket', 'not', 'arrest', 'in', 'new', 'york'], ['vandals', 'add', 'rude', 'paint', 'job', 'to', '2', '5m', 'bugatti', 'but', 'luckily', 'for', 'the', 'owner', 'it', 'all', 'turned', 'out', 'to', 'be', 'a', 'hoax'], ['boko', 'haram', 'denies', 'nigeria', 'cease', 'fire', 'claim'], ['no', 'robert', 'plant', 'didn’t', 'rip', 'up', 'an', '800', 'million', 'contract'], ['n', 'korea’s', 'kim', 'has', 'leg', 'injury', 'but', 'in', 'control'], ['isil', 'beheads', 'american', 'photojournalist', 'in', 'iraq'], ['tropical', 'spider', 'burrows', 'under', \"man's\", 'skin', 'through', 'scar'], ['boko', 'haram', 'ceasefire', 'ignored', 'as', 'violence', 'flares', 'in', 'borno', 'state'], [\"nbc's\", 'tom', 'brokaw', 'reportedly', 'wants', 'brian', 'williams', 'fired', 'over', 'fabricated', 'iraq', 'helicopter', 'story'], ['would', 'you', 'take', 'a', 'bite', 'out', 'of', 'the', \"world's\", 'oldest', 'burger', 'men', 'keep', 'quarter', 'pounder', 'they', 'bought', '20', 'years', 'ago', 'for', 'a', 'friend', 'who', 'never', 'showed', 'up', 'to', 'meet', 'them'], ['net', 'extra', 'back', 'from', 'the', 'dead', 'catholic', 'priest', 'claims', 'god', 'is', 'a', 'female'], ['rumor', 'debunked', 'robocop', 'style', 'robots', 'are', 'not', 'patrolling', \"microsoft's\", 'campus'], ['luke', 'somers', 'dies', 'in', 'rescue', 'attempt', 'sister', 'says', 'yemeni', 'defense', 'ministry', 'says', 'unnamed', 'us', 'hostage', 'freed'], ['christian', 'bale', 'exits', 'steve', 'jobs', 'movie', 'exclusive'], ['microsoft', 'tried', 'out', 'robot', 'security', 'guards', 'on', 'its', 'silicon', 'valley', 'campus'], ['report', 'christian', 'bale', 'just', 'bailed', 'on', 'the', 'steve', 'jobs', 'movie'], ['islamic', 'militants', 'post', 'video', 'claiming', 'to', 'show', 'beheading', 'of', 'u', 's', 'journalist'], ['insurgents', 'killed', 'in', 'nigeria', 'despite', 'alleged', 'truce', 'with', 'boko', 'haram'], ['texas', 'turkey', 'farm', 'contaminated', 'with', 'ebola', 'over', '250', '000', 'holiday', 'turkeys', 'infected'], ['see', 'it', 'isis', 'militants', 'caught', 'trying', 'to', 'cross', 'border', 'into', 'texas', 'congressman', 'claims'], ['thanks', 'uncle', 'sam', 'we', 'have', 'your', 'weapons', 'airdrop', 'isis', 'taunts', 'america', 'over', 'intercepted', 'weapons', 'meant', 'for', 'kurds'], ['report', 'isis', 'leader', 'abu', 'bakr', 'al', 'baghdadi', 'assassinated', 'in', 'u', 's', 'airstrike'], ['fisherman', 'lands', '19', 'stone', 'catfish', 'which', 'could', 'be', 'biggest', 'in', 'world', 'to', 'be', 'hooked'], ['would', 'be', 'rapist', 'has', 'penis', 'severed', 'by', 'angry', 'mob'], ['who', 'is', 'michael', 'zehaf', 'bibeau', 'ottawa', 'shooter', 'suspect', 'identified', 'by', 'canadian', 'officials'], ['taylor', 'lianne', 'chandler', 'michael', \"phelps'\", 'cougar', 'girlfriend', 'revealed'], ['at', 'cbs', 'detroit', 'fan', 'site', \"'scuttlebutt'\", 'is', 'enough', 'to', 'publish', 'batmobile', 'rumor'], ['nasa', 'questions', 'whether', 'crater', 'in', 'nicaragua', 'caused', 'by', 'meteorite'], ['seth', 'rogen', 'is', 'woz'], ['that', 'story', 'about', 'a', 'catholic', 'priest', 'dying', 'seeing', 'god', 'as', 'a', 'woman', 'and', 'coming', 'back', 'to', 'life', 'it’s', 'almost', 'definitely', 'fake'], ['experts', 'more', 'facts', 'needed', 'on', 'purported', 'audio', 'recording', 'of', 'michael', 'brown', 'shooting'], ['catholic', 'priest', 'dead', 'for', '48', 'minutes', 'is', 'miraculously', 'revived', '–', 'his', 'revelations', 'about', 'god', 'are', 'even', 'more', 'shocking'], ['student', 'accidentally', 'sets', 'college', 'on', 'fire', 'during', 'fireworks', 'proposal'], ['planetary', 'alignment', 'on', 'jan', '4', '2015', 'will', 'decrease', 'gravity', 'for', '5', 'minutes', 'causing', 'partial', 'weightlessness'], ['rumors', 'of', 'isis', \"leader's\", 'death', 'debunked'], ['‘banksy’', 'instagram', 'tribute', 'to', 'charlie', 'hebdo', 'victims', 'not', 'posted', 'by', 'artist'], ['boko', 'haram', 'ceasefire', 'ignored', 'as', 'violence', 'flares', 'in', 'borno', 'state'], ['breaking', 'news', 'isis', 'beheads', 'missing', 'american', 'journalist', 'james', 'wright', 'foley', 'as', 'warning', 'to', 'us', 'to', 'cease', 'action', 'in', 'iraq'], ['nigeria', 'and', 'boko', 'haram', \"'agree\", 'ceasefire', 'and', \"girls'\", \"release'\"], ['pope', 'francis', 'turns', 'out', 'not', 'to', 'have', 'made', 'pets', 'in', 'heaven', 'comment'], ['british', 'rapper', 'a', 'suspect', 'in', 'isis', 'beheading'], ['macaulay', 'culkin', 'hasn’t', 'died', 'despite', 'what', 'everyone', 'is', 'saying', 'on', 'facebook'], ['a', 'husband', 'breaks', 'down', 'in', 'tears', 'after', 'lost', 'voicemail', 'message', 'by', 'his', 'late', 'wife', 'is', 'recovered'], ['bali', 'awry'], ['islamic', 'state', 'leader', 'al', 'baghdadi', '“not', 'dead”'], ['eggnog', 'chugging', 'contest', 'leads', 'to', 'hospital', 'stay'], ['no', \"it's\", 'not', 'tiger', 'woods', 'selling', 'an', 'island', 'in', 'lake', 'mälaren'], ['why', 'the', 'gold', 'apple', 'watch', 'edition', 'must', 'cost', '10', '000'], ['would', 'be', 'rapist', 'has', 'penis', 'severed', 'by', 'angry', 'mob'], ['anna', 'wintour', 'is', 'rat', 'infestation', 'at', 'nyc', '‘vogue’', 'office', 'kim', 'kardashian’s', 'fault'], ['updated', '11', 'men', 'and', '0', 'women', 'on', \"tonight's\", 'espn', 'domestic', 'violence', 'panel'], [\"amazon's\", 'first', 'brick', 'and', 'mortar', 'store', 'said', 'to', 'open', 'in', 'manhattan'], ['did', 'kim', 'yo', 'jong', 'take', 'kim', 'jong', 'un’s', 'role', 'north', 'korea', 'ill', 'health', 'rumors', 'are', '‘fabricated’'], ['islamic', 'state', \"leader's\", 'family', 'detained', 'by', 'lebanon', 'officials', 'say'], ['us', 'confirms', 'death', 'of', 'somalia', 'terror', 'group', 'leader'], ['durex', 'is', 'not', 'making', 'pumpkin', 'spice', 'condoms', 'after', 'all', 'a', 'hoax', 'debunked'], ['islamic', 'state', 'beheads', 'missing', 'american', 'journalist', 'james', 'wright', 'foley'], ['spider', 'burrows', 'into', 'australian', \"man's\", 'appendix', 'scar', 'video'], ['indian', 'civil', 'servant', 'sacked', \"'after\", '24', 'year', \"sickie'\"], ['batmobile', \"wasn't\", 'stolen', 'cops'], ['michael', 'brown', 'shooting', 'audio', 'caught', 'on', 'tape'], ['breaking', 'news', 'isis', 'beheads', 'missing', 'american', 'journalist', 'james', 'wright', 'foley', 'as', 'warning', 'to', 'us', 'to', 'cease', 'action', 'in', 'iraq'], ['biological', 'warfare', 'on', 'the', 'horizon', 'isis', 'soldiers', 'may', 'be', 'infected', 'with', 'ebola'], ['moment', 'michael', 'brown', 'was', 'shot', 'dead', \"'caught\", 'on', 'audio', \"recording'\", 'fbi', 'handed', 'potentially', 'damning', 'tape', 'of', 'eleven', 'shots', 'being', 'fired', 'including', 'final', 'volley', 'of', \"'kill\", \"shots'\"], ['saudi', 'fatwa', 'banning', 'snowmen', 'triggers', 'heated', 'debate'], ['paul', 'rudd', 'is', 'not', 'the', 'viral', 'video', 'hero', 'who', 'tackled', 'a', 'gay', 'basher', 'in', 'dallas'], ['soldier', 'gunman', 'killed', 'in', 'shooting', 'incident', 'near', 'canadian', 'parliament'], ['everyone', 'chill', 'banksy', 'has', 'not', 'been', 'arrested'], ['update', 'soldier', 'gunman', 'who', 'died', 'in', 'ottawa', 'rampage', 'identified'], ['new', 'audio', 'shows', 'michael', 'brown', 'was', 'shot', 'at', '11', 'times'], ['no', 'islamic', 'state', 'militants', 'have', 'not', 'been', 'caught', 'by', 'u', 's', 'border', 'patrol'], ['report', 'audio', 'reveals', 'pause', 'between', 'gunshots', 'when', 'michael', 'brown', 'was', 'shot'], ['canadian', 'official', 'identifies', 'dead', 'ottawa', 'gunman', 'as', 'michael', 'zehaf', 'bibeau'], ['mystery', 'woman', 'behind', 'the', \"'richest\", 'hands', 'on', 'the', \"internet'\", 'revealed', 'former', 'pornstar', \"'makes\", '5m', 'a', 'year', 'unwrapping', 'disney', 'toys', 'on', \"youtube'\"], ['apple', '12', 'inch', 'macbook', 'air', 'details', 'emerge', 'device', 'could', 'be', 'thinner', 'lighter', 'than', 'current', 'model'], ['jihadi', 'john', 'identity', 'revealed', 'as', 'mohammed', 'emwazi', 'live'], ['is', 'militant', \"'jihadi\", \"john'\", 'named', 'as', 'mohammed', 'emwazi', 'from', 'london'], ['wife', 'and', 'son', 'of', 'isil', 'leader', 'abu', 'bakr', 'al', 'baghdadi', \"'detained\", 'at', 'lebanon', \"border'\"], ['islamic', 'state', 'militants', 'allegedly', 'used', 'chlorine', 'gas', 'against', 'iraqi', 'security', 'forces'], ['former', 'pga', 'tour', 'player', 'tiger', 'woods', 'suspended', 'for', 'drug', 'test', 'failure'], ['zack', 'snyder', 'responds', 'to', 'fake', 'stolen', 'batmobile', 'report'], ['ottawa', 'investigates', 'reports', 'that', 'isis', 'has', 'captured', 'canadian', 'israeli', 'woman'], ['priest', 'who', 'died', 'for', '48', 'minutes', 'says', 'he', 'met', 'god', 'and', 'she’s', 'a', 'woman'], ['mum', 'faces', 'real', 'life', \"sophie's\", 'choice', '–', 'as', 'she', 'tries', 'to', 'sell', 'her', 'son', 'to', 'fund', \"daughter's\", 'care'], ['fidel', 'castro', 'dead', 'yes', 'he', 'is…', 'but', 'the', 'cuban', 'leader', 'is', 'alive', 'death', 'rumors', 'proven', 'false'], ['cnn', 'broadcasts', 'purported', 'audio', 'containing', 'gunshots', 'that', 'felled', 'michael', 'brown', 'jr', 'leaders', 'celebrities', 'fill', 'pews', 'at', 'teen’s', 'funeral'], ['magic', 'mushrooms', 'found', 'in', 'buckingham', 'palace', 'by', 'alan', 'titchmarsh'], ['video', 'showing', 'american', 'journalist', 'beheaded', 'believed', 'real', 'officials', 'and', 'family', 'say'], ['canadian', 'soldier', 'shot', 'at', 'ottawa', 'war', 'memorial', 'report'], ['audio', 'recording', 'allegedly', 'captures', 'moment', 'michael', 'brown', 'was', 'shot'], ['kim', 'jong', 'un', \"'set\", 'to', 'open', 'a', 'new', 'restaurant', 'in', \"scotland'\"], ['new', 'audio', 'reveals', 'pause', 'in', 'gunfire', 'when', 'michael', 'brown', 'was', 'shot', 'attorney'], ['11', 'tripoli', 'planes', 'still', 'missing', 'sparks', '9', '11', 'concerns'], ['nypd', 'to', 'issue', 'tickets', 'instead', 'of', 'arrest', 'for', 'weed', 'possession', 'report', 'says'], ['india', 'rape', 'crisis', 'sees', 'mob', 'castrate', 'alleged', 'sex', 'attacker', 'in', 'shocking', 'scenes'], ['michael', 'phelps’', 'alleged', 'girlfriend', 'says', 'she', 'was', 'born', 'intersex'], ['seth', 'rogen', 'reported', 'to', 'play', 'woz', 'in', 'the', 'upcoming', 'steve', 'jobs', 'movie'], ['how', 'did', 'a', 'texas', \"plumber's\", 'truck', 'end', 'up', 'with', 'syrian', 'rebels', 'video'], ['nigeria', 'announces', 'truce', 'with', 'boko', 'haram', 'fate', 'of', 'schoolgirls', 'unclear'], ['islamic', 'state', 'beheads', 'missing', 'american', 'journalist', 'james', 'wright', 'foley'], ['scientists', 'doubt', 'that', 'meteor', 'caused', 'crater', 'in', 'nicaragua'], ['christian', 'bale', 'in', 'talks', 'to', 'play', 'steve', 'jobs', 'in', \"sony's\", 'next', 'biopic'], ['nigeria', 'says', 'boko', 'haram', 'cease', 'fire', 'may', 'lead', 'to', 'release', 'of', 'kidnapped', 'girls'], ['calm', 'yourselves', 'durex', 'has', 'not', 'come', 'out', 'with', 'a', 'pumpkin', 'spice', 'condom'], ['islamic', 'state', 'flying', 'three', 'jets', 'in', 'syria', 'monitor'], ['j', 'j', 'abrams', 'asks', 'disney', 'to', 'move', 'up', \"'star\", 'wars', 'the', 'force', \"awakens'\", 'release', 'date'], ['kim', 'jong', 'un', 'relying', 'on', '‘cobra', 'wine’', 'after', 'problems', 'with', 'trouser', 'snake'], ['nigeria', 'hopes', 'for', 'return', 'of', 'kidnapped', 'schoolgirls', 'rise', 'after', 'ceasefire', 'reported'], ['former', 'u', 's', 'soldier', 'says', 'is', 'used', 'chemical', 'weapons', 'in', 'kobani'], ['north', 'korean', 'dictator', 'kim', 'jong', 'un', 'to', 'open', 'restaurant', 'in', 'scotland'], ['eyewitness', 'says', 'viral', 'video', 'of', 'homeless', 'man', 'was', 'staged'], ['new', 'audio', 'shows', 'michael', 'brown', 'was', 'shot', 'at', '11', 'times'], ['meteorite', 'strike', 'in', 'nicaragua', 'puzzles', 'experts'], ['hunt', 'for', \"'cruel'\", 'owner', 'who', 'abandoned', 'dog', 'at', 'train', 'station'], ['met', 'police', 'denies', 'reports', 'of', 'banksy', 'arrest'], ['video', 'marine', 'saved', 'by', 'helmet', 'after', 'taliban', 'sniper', 'attack'], ['militant', 'group', 'says', 'it', 'killed', 'american', 'journalist', 'in', 'syria'], ['rare', 'case', 'seven', 'bosnian', 'girls', 'aged', '13', 'and', '14', 'fall', 'pregnant', 'after', 'five', 'day', 'school', 'trip', 'parents', 'outraged', 'after', 'school', 'cites', \"'parental\", \"neglect'\"], ['isis', 'claims', 'it', 'kidnapped', 'gill', 'rosenberg', 'the', 'first', 'western', 'woman', 'to', 'fall', 'into', 'the', \"group's\", 'hands'], ['what', 'tbs’s', 'sped', 'up', 'seinfeld', 'reruns', 'tell', 'us', 'about', 'the', 'sorry', 'state', 'of', 'america'], ['islamic', 'state', 'claims', 'to', 'have', 'beheaded', 'american', 'journalist'], ['boko', 'haram', \"'ceasefire'\", 'doubts', 'after', 'attacks', 'reported', 'in', 'nigeria'], ['us', 'probing', 'claims', 'isis', 'fighters', 'seized', 'airdropped', 'weapons', 'meant', 'for', 'kurds'], ['meteorite', \"'caused\", 'mysterious', 'boom', 'in', \"nicaragua'\"], ['michael', 'zehaf', 'bibeau', 'slain', 'ottawa', 'shooter', 'had', 'criminal', 'record', 'in', 'quebec', 'b', 'c'], ['hope', 'fades', 'for', \"girls'\", 'release', 'after', 'boko', 'haram', \"'truce'\", 'breached'], ['isis', 'cracks', 'down', 'on', 'five', 'confirmed', 'ebola', 'cases', 'among', 'fighters', 'official'], ['nasa', 'questions', 'whether', 'crater', 'in', 'nicaragua', 'caused', 'by', 'meteorite'], ['fears', 'islamic', 'state', 'could', 'launch', 'ebola', 'attack', 'on', 'britain', 'after', 'fighters', \"'contract\", \"virus'\"], ['court', 'orders', 'probe', 'into', 'complaints', 'of', \"'forced\", \"castration'\", 'in', 'religious', \"'dera'\", 'sect'], ['saudi', 'arabian', 'cleric', 'issues', 'fatwa', 'against', 'snowmen'], ['actor', 'has', 'his', 'testicles', 'stolen', 'after', 'meeting', '‘young', 'blonde', 'woman', 'at', 'a', 'bar’'], ['michael', 'phelps’', 'alleged', 'girlfriend', 'says', 'she', 'was', 'born', 'intersex'], ['report', 'possible', 'audio', 'tape', 'of', 'michael', 'brown', 'shooting'], ['amazon', 'plans', 'ad', 'supported', 'video', 'streaming', 'service', 'ny', 'post'], ['cbi', 'registers', \"'criminal\", \"conspiracy'\", 'case', 'against', 'dera', 'chief', 'after', 'claims', '400', 'male', 'followers', 'were', 'forcibly', 'castrated'], ['shots', 'heard', 'in', 'alleged', 'brown', 'shooting', 'recording', 'audio'], ['armed', 'u', 's', 'drones', 'spotted', 'flying', 'over', 'syria', 'in', 'possible', 'hunt', 'for', 'isis', 'leader'], ['oh', 'hey', 'paul', 'rudd', 'was', 'one', 'of', 'the', 'dallas', 'airport', 'homophobe', 'heroes', 'no', 'big'], ['tourist', 'wakes', 'to', 'find', 'strange', 'red', 'trail', 'on', 'his', 'stomach', 'and', 'discovers', 'a', 'spider', 'has', 'burrowed', 'through', 'his', 'appendix', 'scar', 'and', 'crawled', 'under', 'his', 'skin', 'while', 'on', 'holiday', 'in', 'bali'], ['isis', 'video', 'america’s', 'air', 'dropped', 'weapons', 'now', 'in', 'our', 'hands'], ['vice', 'ceo', 'throws', 'down', '300k', 'on', 'lavish', 'vegas', 'dinner'], ['what', 'glenn', 'beck', 'fears', 'may', 'be', 'done', 'with', 'the', '11', 'missing', 'jets'], ['two', 'gop', 'congressmen', 'say', 'suspected', 'terrorists', 'caught', 'crossing', 'u', 's', '–mexico', 'border'], [\"'hairgate'\", 'iphone', '6', 'users', 'encounter', 'latest', 'apple', 'problem', 'after', \"'bendgate'\"], ['once', 'again', 'the', 'banksy', \"'arrest'\", 'is', 'a', 'giant', 'hoax', 'repeat', 'a', 'hoax'], ['judicial', \"watch's\", 'farrell', 'isis', 'terrorists', 'did', 'cross', 'mexican', 'border'], ['amazon', 'com', 'to', 'open', 'first', 'physical', 'store', 'in', 'manhattan', 'dj'], ['lynch', 'mob', 'castrates', 'alleged', 'rapist', 'in', 'rajasthan'], ['vogue’s', 'rat', 'infestation', 'disturbing', 'new', 'details'], ['feminist', 'aborts', 'baby', 'for', 'being', 'a', 'boy', 'shocked', 'people', 'don’t', 'approve'], ['return', 'of', 'the', 'mac', 'seth', 'rogen', 'in', 'talks', 'to', 'star', 'as', 'apple', 'co', 'founder', 'steve', 'wozniak', 'in', 'upcoming', 'steve', 'jobs', 'biopic'], ['advisory', 'islamist', 'rebel', 'leader', 'killed', 'in', 'u', 's', 'strike', 'somali', 'government'], ['islamic', 'militants', 'post', 'video', 'claiming', 'to', 'show', 'beheading', 'of', 'u', 's', 'journalist'], ['video', 'marine', 'survives', 'taliban', 'sniper', 'headshot', 'thanks', 'to', 'helmet'], ['new', 'ios', '8', 'bug', 'can', 'delete', 'all', 'of', 'your', 'icloud', 'documents'], ['wildest', 'apple', 'watch', 'rumor', 'yet', '100', '000', 'apps', 'at', 'launch'], ['sergeant', 'at', 'arms', 'stopped', 'shooter', 'on', 'parliament', 'hill'], ['weather', 'reporter', 'caught', 'writing', 'his', 'name', 'in', 'the', 'snow', 'was', 'not', 'ready', 'to', 'go', 'on', 'camera', 'updated'], ['cheese', 'addiction', 'breaks', 'kim', 'jong', \"un's\", 'ankles'], ['popwatch', 'teenager', 'fights', 'for', 'the', 'right', 'to', 'be', 'recognized', 'as', \"teletubbies'\", 'smiling', 'sun', 'baby'], ['isis', 'cracks', 'down', 'on', 'five', 'confirmed', 'ebola', 'cases', 'among', 'fighters', 'official'], ['media', 'outlets', 'identify', \"'jihadi\", \"john'\"], ['j', 'j', 'abrams', 'asks', 'disney', 'to', 'move', 'up', \"'star\", 'wars', 'the', 'force', \"awakens'\", 'release', 'date'], ['iphone', 'game', 'developer', 'quits', 'job', 'by', 'hiding', 'the', 'greatest', 'letter', 'of', 'resignation', 'ever', 'inside', 'his', 'game'], ['lego', 'letter', 'to', 'parents', 'in', '1974', 'on', 'gender', 'equality', 'still', 'resonates', '40', 'years', 'on'], ['fidel', 'castro', 'death', 'watch', 'rumors', 'heat', 'up', 'cuba', 'denies'], ['christian', 'bale', \"won't\", 'play', 'steve', 'jobs', 'after', 'all'], ['suspected', 'meteorite', 'leaves', 'crater', 'in', 'managua', 'is', 'linked', 'to', 'asteroid'], ['kim', 'dine', 'with', 'me', 'porky', 'president', 'kim', 'jong', 'un', 'to', 'open', 'uk', 'restaurant', 'serving', 'dog'], ['canadian', 'soldier', 'shot', 'at', 'ottawa', 'war', 'memorial', 'report'], [\"'they\", 'ate', 'through', 'the', 'ceilings', 'and', 'pooped', 'on', 'the', \"keyboards'\", 'rats', 'are', \"'taking\", \"over'\", \"vogue's\", 'new', 'world', 'trade', 'center', 'office', 'and', 'anna', 'wintour', \"'no\", 'longer', 'wants', 'to', 'work', \"there'\"], ['mexico', 'prosecutor', 'students', 'not', 'in', '1st', 'mass', 'graves'], ['audio', 'recording', 'allegedly', 'captures', 'moment', 'michael', 'brown', 'was', 'shot'], ['in', 'moscow', 'police', 'are', 'looking', 'for', 'a', 'felon', 'cut', 'the', 'male', 'genitals'], ['lego', 'letter', 'from', 'the', '1970s', 'still', 'offers', 'a', 'powerful', 'message', 'to', 'parents', '40', 'years', 'later'], ['isis', 'leader', 'abu', 'bakr', 'al', \"baghdadi's\", \"'wife\", 'and', 'son', 'detained', 'in', \"lebanon'\"], ['who', 'investigates', 'media', 'reports', 'isis', 'fighters', 'contracted', 'ebola'], ['rumor', 'robert', 'plant', 'ripped', 'up', '800', 'million', 'contract', 'to', 'reunite', 'led', 'zeppelin', 'called', \"'rubbish'\"], ['michelle', 'obama’s', 'face', 'blurred', 'by', 'saudi', 'state', 'television'], ['more', 'than', '200', 'kidnapped', 'nigerian', 'girls', 'to', 'be', 'released', 'after', 'deal', 'reached', 'with', 'boko', 'haram'], ['islamic', 'state', 'militants', 'claim', 'to', 'have', 'beheaded', 'us', 'journalist', 'james', 'wright', 'foley'], ['islamic', 'state', 'killer', \"'jihadi\", \"john'\", 'named', 'as', 'mohammed', 'emwazi'], ['brian', 'williams', 'demands', 'apology', 'from', 'social', 'media', 'over', 'erroneous', 'urination', 'reports', 'video'], ['pentagon', 'isis', 'seized', 'materials', 'airdropped', 'to', 'kurds'], ['new', 'policy', 'could', 'reduce', 'marijuana', 'possession', 'arrests'], ['did', 'nbc', 'nightly', 'news', 'go', 'live', 'to', 'a', 'man', 'who', 'was', 'taking', 'a', 'piss'], [\"espn's\", 'domestic', 'violence', 'panel', 'is', 'missing', 'something', 'important'], ['boko', 'haram', 'denies', 'it', 'has', 'agreed', 'ceasefire'], ['islamic', 'state', 'claims', 'to', 'have', 'beheaded', 'american', 'journalist'], ['who', 'is', 'michael', 'zehaf', 'bibeau', 'ottawa', 'shooter', 'suspect', 'identified', 'by', 'canadian', 'officials'], ['audio', 'recording', 'of', 'michael', 'brown', 'being', 'gunned', 'down', 'was', 'made', 'at', 'the', 'time', 'he', 'was', 'killed', 'app', 'company', 'appears', 'to', 'confirm', 'tape', 'of', 'eleven', 'bullets', 'being', 'fired', 'including', 'final', 'volley', 'of', \"'kill\", \"shots'\"], ['islamic', 'state', 'releases', 'video', 'apparently', 'showing', 'the', 'beheading', 'of', 'missing', 'us', 'journalist', 'james', 'foley'], ['kurds', 'deny', 'gill', 'rosenberg', 'was', 'in', 'kobane'], ['tropical', 'spider', 'burrowed', 'under', \"man's\", 'skin', 'through', 'appendix', 'scar', 'and', 'lived', 'there', 'for', 'three', 'days'], ['after', 'giving', 'a', 'homeless', 'man', '100', 'this', 'guy', 'secretly', 'filmed', 'him'], ['cook', 'said', 'to', 'confirm', 'apple', 'watch', 'is', 'showerproof', 'lasts', 'a', 'day'], ['lynch', 'mob', 'chop', \"man's\", 'penis', 'off', 'after', 'catching', 'him', 'allegedly', 'trying', 'to', 'rape', 'teenager'], ['russian', 'yeti', 'or', 'bigfoot', 'hoax', 'new', 'footage', 'sparks', 'debate'], ['tropical', 'spider', 'burrowed', 'under', 'bali', \"tourist's\", 'skin'], ['alleged', 'audio', 'of', 'michael', 'brown', 'shooting', 'has', 'surfaced'], ['high', 'school', 'student', 'scores', '72m', 'playing', 'the', 'stock', 'market'], ['mexico', 'says', 'missing', 'students', 'not', 'found', 'in', 'first', 'mass', 'graves'], ['boko', 'haram', 'denies', 'ceasefire', 'claim', 'by', \"nigeria's\", 'government'], ['british', 'hostage', 'david', 'haines', 'beheaded', 'by', 'islamic', 'state', 'terrorists'], ['alleged', 'ottawa', 'gunman', 'what', 'we', 'know', 'so', 'far', 'about', 'michael', 'zehaf', 'bibeau'], ['see', 'how', 'this', 'homeless', 'man', 'spends', 'a', 'hundred', 'dollars', 'and', 'keep', 'a', 'tissue', 'handy', 'video'], ['l', 'jinny', 'abdel', 'majed', 'abdel', 'bary', 'uk', 'rapper', 'suspected', 'in', 'james', 'foley', 'killing', 'reports'], ['ottawa', 'shooting', 'soldier', 'shot', 'at', \"canada's\", 'national', 'war', 'memorial'], ['woman', 'ting', 'su', 'finds', 'husband', 'cheating', 'with', 'her', 'own', 'twin', 'gets', 'spectacular', 'revenge'], ['north', 'korean', 'leader', 'kim', 'jong', 'un', 'not', 'missing', 'just', 'having', 'ankle', 'surgery'], ['seth', 'rogen', 'reportedly', 'nabs', 'steve', 'wozniak', 'role', 'in', 'steve', 'jobs', 'filmsteve', 'jobs', 'iconic', 'moments'], ['police', 'hunt', 'tweed', 'jacket', 'wearing', 'man', 'who', 'slaps', 'shoppers', 'for', 'sneezing'], ['meteorite', 'leaves', 'house', 'sized', 'crater', 'in', 'nicaragua’s', 'capital'], ['does', \"vogue's\", 'new', 'office', 'have', 'a', 'rat', 'infestation'], ['meteorite', 'leaves', 'crater', 'in', 'nicaraguan', 'capital', 'managua'], ['james', 'foley', 'remembered', 'as', \"'brave\", 'and', \"tireless'\", 'journalist'], ['homeless', 'man', 'receives', '100', 'then', 'shocks', 'everyone', 'with', 'how', 'he', 'spends', 'it'], ['reports', 'big', 'bank', 'hank', 'of', 'pioneering', 'rap', 'group', 'sugarhill', 'gang', 'has', 'died'], ['islamic', 'state', 'using', \"'scorpion\", \"bombs'\", 'to', 'terrorise', 'victims'], ['kim', 'jong', 'un', '‘is', 'so', 'fat', 'from', 'eating', 'cheese', 'that', 'he', 'has', 'broken', 'his', 'ankles’'], ['first', 'bendgate', 'now', \"it's\", 'hairgate', 'angry', 'iphone', '6', 'owners', 'claim', 'design', 'is', 'causing', 'chunks', 'of', 'their', 'hair', 'to', 'be', 'ripped', 'out', 'when', 'they', 'make', 'a', 'phone', 'call'], ['vice', 'media', 'chief', 'said', 'to', 'pay', '300', '000', 'for', 'dinner', 'for', '30'], ['isis', 'getting', 'ebola'], ['tropical', 'spider', 'burrowed', 'under', \"man's\", 'skin', 'through', 'appendix', 'scar', 'and', 'lived', 'there', 'for', 'three', 'days'], ['apple', 'watch', 'may', 'be', 'powered', 'by', 'samsung', 'processor'], ['no', 'saudi', 'tv', 'did', 'not', 'blur', 'out', 'images', 'of', 'michelle', 'obama'], ['north', 'korean', 'leader', 'kim', 'jong', 'un’s', 'mystery', 'illness', 'actually', 'two', 'broken', 'ankles', 'newspaper', 'says'], ['boyfriend', 'cuts', 'off', 'his', 'penis', 'and', 'throws', 'it', 'in', 'the', 'bin', 'after', 'girlfriend', 'dumps', 'him', 'for', 'being', 'bad', 'in', 'bed'], ['jeh', 'johnson', 'politicians', \"shouldn't\", \"'feed\", 'the', 'flames', 'of', \"fear'\", 'over', 'isis', 'ebola'], ['zack', 'snyder', 'makes', 'fun', 'of', 'stolen', 'batmobile', 'rumor', 'with', 'new', 'image'], ['video', 'messaging', 'service', 'verifies', 'timing', 'of', 'cnn', 'audio', 'recording'], [\"'american\", 'bombing', 'had', 'signed', 'my', 'death', \"certificate'\", 'missing', 'us', 'journalist', 'james', 'wright', 'foley', 'goes', 'unflinching', 'to', 'his', 'death', 'as', 'isis', 'behead', 'him', 'in', 'horrific', 'video', 'as', 'a', 'warning', 'to', 'obama'], ['more', 'than', '200', 'kidnapped', 'nigerian', 'girls', 'to', 'be', 'released', 'after', 'deal', 'reached', 'with', 'boko', 'haram'], ['despite', 'ceasefire', 'announcement', 'new', 'boko', 'haram', 'attacks', 'reported'], ['apple', 'in', 'talks', 'to', 'become', 'launch', 'partner', 'for', 'cable', 'free', 'hbo', 'now', 'service']]\n",
            "Length of words after adding Headlines99944\n",
            "[['boko', 'haram', \"'ceasefire'\", 'doubts', 'after', 'attacks', 'reported', 'in', 'nigeria'], ['passenger', 'wears', 'a', 'hazmat', 'suit', 'to', 'dulles', 'airport'], ['eggnog', 'chugging', 'contest', 'leads', 'to', 'hospital', 'stay'], ['woman', 'spends', 'entire', 'week', 'in', 'kfc', 'after', 'getting', 'dumped', 'by', 'her', 'boyfriend'], ['taliban', 'member', 'swapped', 'by', 'obama', 'for', 'bowe', 'bergdahl', 'tried', 'to', 'return', 'to', 'terror', 'report'], ['obama', 'murder', 'of', 'james', 'foley', \"'shocks\", 'the', 'conscience', 'of', 'the', 'entire', \"world'\"], ['has', 'ebola', 'infected', 'isis', 'militants', 'in', 'mosul'], ['watch', 'isis', 'claims', 'to', 'have', 'captured', 'u', 's', 'airdropped', 'weapons'], ['isis', 'beheads', 'photojournalist', 'james', 'wright', 'foley', 'in', 'a', 'massage', 'to', 'us', 'to', 'end', 'its', 'intervention', 'in', 'iraq'], ['christian', 'bale', \"won't\", 'play', 'steve', 'jobs'], ['thanks', 'uncle', 'sam', 'we', 'have', 'your', 'weapons', 'airdrop', 'isis', 'taunts', 'america', 'over', 'intercepted', 'weapons', 'meant', 'for', 'kurds'], ['video', 'purports', 'to', 'show', 'beheading', 'of', 'u', 's', 'journalist', 'by', 'militants'], ['6', 'islamist', 'militants', 'killed', 'in', 'us', 'attack', 'in', 'somalia'], ['this', 'letter', 'to', 'parents', 'from', 'a', '1970s', 'lego', 'set', 'contains', 'an', 'important', 'message', 'for', 'gender', 'equality'], ['officials', 'refute', 'iraqi', 'media', 'reports', 'that', 'isis', 'members', 'have', 'contracted', 'ebola', 'in', 'mosul'], ['islamic', 'state', 'training', 'pilots', 'in', 'military', 'jets', 'monitors', 'say'], ['could', 'kim', 'jong', 'un', 'open', 'a', 'restaurant', 'in', 'scotland'], ['cheeky', 'vandals', 'paint', 'giant', 'penis', 'on', 'bonnet', 'of', '£1', '5', 'million', 'bugatti', 'veyron', 'sportscar'], ['nasa', 'questions', 'whether', 'crater', 'in', 'nicaragua', 'caused', 'by', 'meteorite'], ['expert', 'casts', 'doubt', 'on', 'bunbury', 'man', 'dylan', 'thomas’s', 'burrowing', 'stomach', 'spider', 'story'], ['soldier', 'shot', 'in', 'ottawa', 'at', 'war', 'memorial'], ['macaulay', 'culkin', 'dead', 'actor', 'is', 'victim', 'of', 'another', 'death', 'hoax'], ['batman', 'vs', 'superman', 'batmobile', 'stolen'], ['did', 'comcast', 'get', 'a', 'man', 'fired', 'from', 'his', 'job', 'for', 'complaining', 'about', 'its', 'service'], ['video', 'shows', 'isil', 'beheading', 'of', 'photojournalist', 'james', 'foley'], ['isis', 'claims', 'it', 'has', 'us', 'airdrop', 'of', 'weapons'], ['that', 'boko', 'haram', 'ceasefire', 'in', 'nigeria', 'isn’t', 'a', 'ceasefire'], ['l', 'jinny', 'abdel', 'majed', 'abdel', 'bary', 'uk', 'rapper', 'suspected', 'in', 'james', 'foley', 'killing', 'reports'], ['comcast', 'blocks', 'tor'], ['elderly', 'woman', 'arrested', 'for', 'kidnapping', 'neighbor’s', 'cats', 'making', 'fur', 'coats'], ['james', 'foley', 'american', 'journalist', 'james', 'wright', 'foley', 'beheaded', 'in', 'new', 'isis', 'video', 'breaking', 'news'], ['staff', 'reporter'], ['lebanon', 'detains', 'wife', 'and', 'son', 'of', 'al', 'baghdadi'], ['reports', 'isis', 'fighters', 'have', 'contracted', 'ebola', 'are', \"'incorrect'\", 'says', 'iraqi', 'health', 'ministry'], ['kim', 'jong', 'un', 'broke', 'both', 'ankles', 'and', 'is', 'hospitalized', 'report', 'claims'], ['new', 'ios', '8', 'bug', 'can', 'delete', 'all', 'of', 'your', 'icloud', 'documents'], ['texas', 'turkey', 'farm', 'contaminated', 'with', 'ebola', 'over', '250', '000', 'holiday', 'turkeys', 'infected'], ['the', 'apple', 'watch', 'will', 'debut', 'by', 'late', 'march', 'report'], ['robot', 'security', 'guards', 'now', 'patrolling', \"microsoft's\", 'silicon', 'valley', 'campus'], ['dylan', 'thomas', 'finds', 'tropical', 'spider', 'burrowed', 'under', 'skin'], ['rats', 'at', \"vogue's\", 'nyc', 'offices', 'watch', 'your', 'step', 'anna', 'wintour'], ['boko', 'haram', 'denies', 'it', 'has', 'agreed', 'ceasefire'], ['a', 'wanted', 'man', 'responded', 'to', 'a', 'police', 'facebook', 'post', 'that', 'he', 'would', 'turn', 'himself', 'in'], ['video', 'purports', 'to', 'show', 'beheading', 'of', 'u', 's', 'journalist', 'by', 'militants'], ['aaron', 'sorkin', 'confirms', 'christian', 'bale', 'will', 'play', 'steve', 'jobs'], ['isis', 'unleash', 'scorpion', 'bombs', 'in', 'iraq'], ['spider', 'burrows', 'into', 'australian', \"man's\", 'appendix', 'scar', 'video'], ['michael', 'phelps’', 'alleged', 'girlfriend', 'says', 'she', 'was', 'born', 'intersex'], ['isil', 'beheads', 'american', 'photojournalist', 'in', 'iraq'], ['kim', 'yo', 'jong', 'kim', 'jong', 'un’s', 'sister', 'takes', 'control', 'of', 'north', 'korea', 'while', 'brother', 'gets', 'treatment'], ['despite', 'no', 'ebola', 'case', 'in', 'kansas', 'city', 'the', 'rumor', 'goes', 'viral'], ['don’t', '‘reset', 'all', 'settings’', 'in', 'ios', '8', 'unless', 'you', 'want', 'to', 'lose', 'your', 'icloud', 'files'], ['soldier', 'shot', 'in', 'ottawa', 'at', 'war', 'memorial'], ['rumor', 'gold', 'apple', 'watch', 'edition', 'priced', 'up', 'to', '5', '000', 'steel', 'version', 'at', '500', 'will', 'debut', 'on', 'feb', '14'], ['the', 'pumpkin', 'spice', 'condom', 'is', 'just', 'a', 'figment', 'of', 'your', 'own', 'gross', 'imagination'], ['canadian', 'woman', \"'captured\", 'by', 'isis', 'in', \"syria'\", 'says', 'she', 'is', 'actually', 'fine', 'and', 'still', 'fighting', 'the', 'jihadists', 'despite', 'kidnap', 'reports'], ['more', 'than', '200', 'kidnapped', 'nigerian', 'girls', 'to', 'be', 'released', 'after', 'deal', 'reached', 'with', 'boko', 'haram'], ['this', 'woman', 'is', 'wrongly', 'being', 'called', 'a', 'sexual', 'predator', 'after', 'her', 'private', 'sex', 'tape', 'was', 'used', 'for', 'a', 'hoax'], ['jihadi', 'john', 'unmasked', 'islamic', 'state', 'killer', 'named', 'as', 'west', 'londoner', 'mohammed', 'emwazi'], ['pumpkin', 'spice', 'condoms', 'could', 'be', 'the', 'only', 'thing', 'to', 'save', 'the', 'world', 'from', 'basic', 'children'], ['north', 'korean', 'leader', 'kim', 'jong', 'un', 'had', 'ankle', 'surgery', 'report', 'says'], ['bunbury', 'local', 'discovered', 'a', 'spider', 'had', 'burrowed', 'under', 'his', 'skin', 'on', 'bali', 'holiday'], ['no', 'banksy', 'has', 'not', 'been', 'arrested', 'sigh'], ['dna', 'tests', 'prove', 'lebanon', 'is', 'holding', 'isis', 'chief', 'al', \"baghdadi's\", 'ex', 'wife', 'and', 'daughter', 'after', 'they', 'were', 'caught', 'with', 'fake', 'passports'], ['cnn', 'airs', 'alleged', 'audio', 'from', 'michael', 'brown', 'shooting'], ['guru', 'who', 'ordered', '400', 'followers', 'to', 'be', 'castrated', \"'so\", 'they', 'could', 'be', 'closer', 'to', \"god'\", 'is', 'investigated', 'for', 'grievous', 'bodily', 'harm', 'in', 'india'], ['guantanamo', 'detainee', 'freed', 'in', 'bowe', 'bergdahl', 'swap', \"'back\", 'to', \"terrorism'\"], ['ubs', 'survey', 'finds', '10', 'of', 'consumers', 'want', 'a', 'smartwatch', 'expects', '24m', 'apple', 'watch', 'sales', 'in', 'fiscal', '2015'], ['man', 'has', 'his', 'penis', 'cut', 'off', 'by', 'angry', 'mob', 'after', \"'attempted\", \"rape'\", 'of', 'teenager'], ['bugatti', 'veyron', 'vandalized', 'with', 'penis', 'graffiti', 'viral', 'photo', 'isn’t', 'what', 'it', 'seems'], ['has', \"kim's\", 'sister', 'taken', 'over', 'north', 'korea', 'dictator', 'fails', 'to', 'show', 'for', 'key', 'communist', 'event', 'but', 'does', 'send', 'a', 'nice', 'flower', 'basket', 'instead'], ['north', 'korea', 'leader', 'kim', 'jong', 'un', 'is', 'still', 'in', 'charge', 'source'], ['former', 'pga', 'tour', 'player', 'tiger', 'woods', 'suspended', 'for', 'drug', 'test', 'failure'], ['net', 'extra', 'back', 'from', 'the', 'dead', 'catholic', 'priest', 'claims', 'god', 'is', 'a', 'female'], ['isis', \"'fed\", 'murdered', 'kidnap', 'victim', 'to', 'his', 'own', 'mother', 'after', 'she', 'travelled', 'to', 'their', 'headquarters', 'and', 'demanded', 'to', 'see', \"him'\"], ['pictured', 'libyan', 'islamist', 'rebels', 'pose', 'with', 'planes', 'seized', 'from', 'tripoli', 'airport', 'as', 'u', 's', 'officials', 'warn', 'they', 'could', 'be', 'used', 'to', 'carry', 'out', 'terrorist', 'attack', 'on', '9', '11', 'anniversary'], ['alleged', 'audio', 'of', 'michael', 'brown', 'shooting', 'released'], ['boyfriend', 'cuts', 'off', 'his', 'penis', 'and', 'throws', 'it', 'in', 'the', 'bin', 'after', 'girlfriend', 'dumps', 'him', 'for', 'being', 'bad', 'in', 'bed'], ['man', 'who', 'skipped', 'work', 'for', '24', 'years', 'is', 'finally', 'fired'], ['big', 'bank', 'hank', 'of', 'the', 'sugarhill', 'gang', 'is', 'dead', 'at', '57'], ['isis', 'claims', 'to', 'behead', 'us', 'journalist'], ['michael', 'phelps’', 'alleged', 'girlfriend', 'says', 'she', 'was', 'born', 'intersex'], ['nigerians', 'doubtful', 'of', \"girls'\", 'release', 'after', 'boko', 'haram', \"'truce'\", 'breached'], ['islamic', 'state', 'in', 'video', 'titled', 'a', 'message', 'to', 'america', 'beheads', 'american', 'journalist', 'james', 'wright', 'foley', 'who', 'was', 'kidnapped', 'in', '2012'], ['viral', 'video', 'of', 'homeless', 'man', 'spending', '100', 'on', 'food', 'for', 'other', 'homeless', 'was', 'faked', 'witness', 'says'], ['kim', 'jong', 'un', \"'bans\", 'the', 'name', 'kim', 'jong', \"un'\"], ['scientists', 'doubt', 'that', 'meteor', 'caused', 'crater', 'in', 'nicaragua'], ['fence', 'jumper', 'made', 'it', 'deeper', 'into', 'the', 'white', 'house', 'than', 'secret', 'service', 'claims'], ['boko', 'haram', 'denies', 'truce', 'to', 'release', 'kidnapped', 'schoolgirls'], ['journalist', 'james', 'wright', 'foley', 'reportedly', 'beheaded', 'by', 'isis'], ['saudi', 'cleric', 'condemns', 'snowmen', 'as', 'anti', 'islamic'], ['islamic', 'state', 'may', 'have', 'fighter', 'jets', 'now', 'after', 'seizing', 'russian', 'made', 'migs'], ['absent', 'from', 'duty', 'for', '25', 'years', 'cpwd', 'official', 'dismissed'], ['did', 'a', 'meteorite', 'impact', 'in', 'nicaragua', 'over', 'the', 'weekend'], ['meteorite', 'strike', 'in', 'nicaragua', 'puzzles', 'experts'], ['fears', 'journalist', 'james', 'wright', 'foley', 'beheaded', 'by', 'islamic', 'state', 'jihadists', 'in', '‘message’', 'to', 'united', 'states'], ['zack', 'snyder', 'makes', 'fun', 'of', 'stolen', 'batmobile', 'rumor', 'with', 'new', 'image'], ['small', 'red', 'book', 'among', 'finds', 'in', '113', 'year', 'old', 'boston', 'time', 'capsule'], ['kurds', 'fear', 'isis', 'use', 'of', 'chemical', 'weapon', 'in', 'kobani'], ['new', 'audio', 'shows', 'michael', 'brown', 'was', 'shot', 'at', '11', 'times'], ['dhs', 'rebuffs', 'congressman’s', 'claim', 'isis', 'infiltrating', 'southern', 'border'], ['luke', 'somers', \"'killed\", 'in', 'failed', 'rescue', 'attempt', 'in', \"yemen'\"], ['anna', 'wintour', 'is', 'rat', 'infestation', 'at', 'nyc', '‘vogue’', 'office', 'kim', 'kardashian’s', 'fault'], ['no', 'there', 'aren’t', 'any', 'ebola', 'cases', 'in', 'iraq'], ['urgent', 'isis', 'kills', '300', 'iraqi', 'soldiers', 'by', 'chlorine', 'gas', 'attack', 'in', 'saqlawiyah'], ['this', 'letter', 'to', 'parents', 'from', 'a', '1970s', 'lego', 'set', 'contains', 'an', 'important', 'message', 'for', 'gender', 'equality'], ['ferguson', 'riots', 'audio', 'may', 'have', 'captured', 'michael', 'brown', 'shooting'], ['isis', 'claims', 'an', 'american', 'hostage', 'kayla', 'mueller', 'died', 'in', 'airstrike', 'in', 'syria'], ['did', 'paul', 'rudd', 'help', 'tackle', 'that', 'dallas', 'airport', 'gay', 'basher'], ['was', 'nbc', 'meteorologist', 'mike', 'seidel', 'peeing', 'in', 'the', 'snow', 'on', 'camera', 'a', 'testy', 'brian', 'williams', 'explains'], ['canadian', 'soldier', 'shot', 'at', 'ottawa', 'war', 'memorial', 'report'], ['isis', 'extremists', 'claim', 'to', 'behead', 'british', 'hostage', 'david', 'haines'], ['boko', 'haram', 'agrees', 'to', 'ceasefire', 'release', 'of', 'school', 'girls'], ['led', 'zeppelin’s', 'robert', 'plant', 'ripped', 'up', 'a', '924', 'million', 'reunion', 'contract'], ['‘teletubbies’', 'sun', 'baby', 'fans', 'freak', 'out', 'over', 'jess', 'smith', '19'], ['nigeria', 'boko', 'haram', 'reach', 'ceasefire', 'deal', 'kidnapped', 'girls', 'to', 'go', 'free', 'official', 'says'], ['boko', 'haram', 'denies', 'cease', 'fire', 'leader', 'says', 'he', 'married', 'off', 'kidnapped', 'girls'], ['north', 'korea', 'leader', 'kim', 'is', 'still', 'in', 'charge', 'has', 'injured', 'leg', 'source'], ['report', '4', 'isis', 'terrorists', 'caught', 'at', 'southern', 'border', 'in', '36', 'hrs'], ['rumor', 'gold', 'apple', 'watch', 'edition', 'priced', 'up', 'to', '5', '000', 'steel', 'version', 'at', '500', 'will', 'debut', 'on', 'feb', '14'], ['isis', 'reportedly', 'beheads', 'u', 's', 'journalist', 'james', 'wright', 'foley', 'on', 'camera'], ['missing', 'planes'], ['islamic', 'state', 'militants', 'claim', 'to', 'behead', 'missing', 'american', 'journalist'], ['isis', 'militants', 'allegedly', 'contracted', 'ebola'], ['boko', 'haram', 'ceasefire', 'ignored', 'as', 'violence', 'flares', 'in', 'borno', 'state'], ['report', 'missing', 'libyan', 'jetliners', 'raise', 'fears', 'of', 'suicide', 'airliner', 'attacks', 'on', '9', '11'], ['batman', 'set', 'to', 'play', 'steve', 'jobs', 'in', 'upcoming', 'biopic'], ['tropical', 'spider', \"'burrowed\", 'under', \"man's\", 'skin', 'through', \"scar'\", 'video', 'report'], ['isis', 'getting', 'ebola'], ['obama', 'denounces', 'james', \"foley's\", 'execution', \"'today\", 'the', 'entire', 'world', 'is', \"appalled'\"], ['report', 'alleged', 'new', 'audio', 'of', 'michael', 'brown', 'shooting'], ['apple', 'watch', 'to', 'feature', 'time', 'only', \"'power\", \"reserve'\", 'mode', 'prototypes', 'disguised', 'as', 'samsung', 'watches'], ['video', 'showing', 'american', 'journalist', 'beheaded', 'believed', 'real', 'officials', 'and', 'family', 'say'], ['report', 'former', 'baseball', 'star', 'jose', 'canseco', 'accidentally', 'shot', 'at', 'home'], ['luke', 'somers', \"'killed\", 'in', 'failed', 'rescue', 'attempt', 'in', \"yemen'\"], ['nicaragua', 'meteorite', 'impact', 'theory', 'may', 'be', 'meteor', 'wrong'], ['no', 'that', 'high', 'school', 'kid', \"didn't\", 'make', '72', 'million', 'trading', 'stocks'], ['isil', 'video', 'claims', 'beheading', 'of', 'kidnapped', 'journalist', 'james', 'foley'], ['tiger', 'woods', 'serving', 'secret', 'ped', 'suspension'], ['pentagon', 'confirms', 'al', 'shabab', 'leader', 'killed', 'in', 'airstrike', 'in', 'somalia'], ['pictured', 'libyan', 'islamist', 'rebels', 'pose', 'with', 'planes', 'seized', 'from', 'tripoli', 'airport', 'as', 'u', 's', 'officials', 'warn', 'they', 'could', 'be', 'used', 'to', 'carry', 'out', 'terrorist', 'attack', 'on', '9', '11', 'anniversary'], ['christian', 'bale', 'in', 'talks', 'to', 'play', 'steve', 'jobs', 'for', 'sony', 'danny', 'boyle'], ['this', 'is', 'why', 'rumors', 'that', 'isis', 'is', 'crossing', 'the', 'border', 'into', 'the', 'u', 's', 'aren’t', 'going', 'away'], ['nicaragua', 'meteorite', 'experts', 'attempt', 'to', 'understand', 'whether', 'mysterious', 'meteorite', 'fell', 'from', 'passing', 'pitbull', 'asteroid'], ['cook', 'said', 'to', 'confirm', 'apple', 'watch', 'is', 'showerproof', 'lasts', 'a', 'day'], ['mum', 'offers', 'to', 'sell', 'twin', 'boy', 'to', 'save', 'twin', 'girl'], ['mcdonald’s', 'removing', 'big', 'mac', 'apple', 'pies', 'and', 'eliminating', 'large', 'size', 'options'], ['cold', 'turkey'], ['founding', 'fathers', 'era', 'time', 'capsule', 'found', 'in', 'boston'], ['isis', 'appears', 'to', 'behead', 'american', 'photojournalist', 'in', 'youtube', 'video'], ['breaking', 'news', 'british', 'born', 'u', 's', 'photojournalist', 'held', 'hostage', 'by', 'al', 'qaeda', 'killed', 'in', 'failed', 'rescue', 'attempt', 'in', 'yemen'], ['you', 'may', 'be', 'able', 'to', 'make', 'appointments', 'at', 'the', 'apple', 'store', 'to', 'try', 'on', 'the', 'apple', 'watch', 'when', 'it', 'launches'], ['soldier', 'shot', 'at', 'war', 'memorial', 'multiple', 'shots', 'fired', 'in', 'parliament'], ['mass', 'graves', 'found', 'in', 'mexico', 'near', 'place', 'where', '43', 'students', 'went', 'missing'], ['whiz', 'kid', 'stock', 'picker', 'i', \"didn't\", 'actually', 'make', '72m', 'trading'], ['isis', 'video', 'claims', 'to', 'show', 'beheading', 'of', 'british', 'hostage', 'david', 'haines'], ['soldier', 'shot', 'near', 'canadian', 'parliament', 'building'], ['isis', 'leader', 'dead'], ['sick', 'kansas', 'city', 'man', 'said', 'not', 'to', 'have', 'ebola', 'u', 's', 'plans', 'new', 'steps', 'to', 'fight', 'virus'], ['british', 'rapper', 'a', 'suspect', 'in', 'isis', 'beheading'], ['jose', 'canseco', 'shoots', 'self', 'in', 'hand'], ['new', 'policy', 'could', 'reduce', 'marijuana', 'possession', 'arrests'], ['eyewitness', 'says', 'viral', 'video', 'of', 'homeless', 'man', 'was', 'staged'], ['this', 'soap', 'opera', 'star', 'reportedly', 'had', 'his', 'testicles', 'stolen', 'by', 'an', '‘attractive', 'blonde’', 'organ', 'trafficker'], ['seth', 'rogen', 'to', 'star', 'as', 'steve', 'wozniak', 'in', \"sony's\", 'steve', 'jobs', 'biopic', 'updated'], ['is', 'the', 'alleged', 'audio', 'of', 'the', 'gunshots', 'that', 'killed', 'michael', 'brown', 'a', 'hoax'], ['seth', 'rogen', 'to', 'play', 'woz', 'in', 'jobs', 'biopic'], ['isis', 'cracks', 'down', 'on', 'five', 'confirmed', 'ebola', 'cases', 'among', 'fighters', 'official'], ['rats', 'at', \"vogue's\", 'nyc', 'offices', 'watch', 'your', 'step', 'anna', 'wintour'], ['mum', 'faces', 'real', 'life', \"sophie's\", 'choice', '–', 'as', 'she', 'tries', 'to', 'sell', 'her', 'son', 'to', 'fund', \"daughter's\", 'care'], ['islamic', 'state', 'reports', 'youngest', 'jihadist', \"'martyred'\", 'in', 'battle'], ['‘teletubbies’', 'sun', 'baby', 'fans', 'freak', 'out', 'over', 'jess', 'smith', '19'], ['reports', 'boko', 'haram', 'may', 'release', 'schoolgirls', 'as', 'part', 'of', 'deal'], ['report', 'christian', 'bale', 'will', 'play', 'steve', 'jobs'], ['islamic', 'state', \"leader's\", 'family', 'detained', 'by', 'lebanon', 'officials', 'say'], ['hilarious', 'north', 'dakota', 'pays', 'special', 'tribute', 'to', 'president', 'obama'], ['isis', \"'fed\", 'murdered', 'kidnap', 'victim', 'to', 'his', 'own', 'mother', 'after', 'she', 'travelled', 'to', 'their', 'headquarters', 'and', 'demanded', 'to', 'see', \"him'\"], ['senior', 'western', 'intelligence', 'official', 'confirms', 'london', 'rapper', 'abdel', 'majed', 'abdel', 'bary', 'is', 'a', 'suspect', 'in', 'the', 'foley', 'killing'], ['apple', 'may', 'launch', '12', 'inch', 'macbook', 'air', 'with', 'retina', 'display'], ['bali', 'spider', 'burrows', 'under', 'aussie’s', 'chest'], ['confusion', 'as', 'cuba’s', 'castro', 'mourned', 'instead', 'of', 'kenya’s', 'fidel'], [\"apple's\", '12', 'inch', 'retina', 'macbook', 'air', 'shown', 'in', \"artist's\", 'renditions'], ['nun', 'gives', 'birth', 'intends', 'to', 'keep', 'baby'], ['pentagon', 'somali', 'terror', 'group', 'leader', 'killed', 'in', 'u', 's', 'airstrike'], ['news', \"you'll\", 'never', 'guess', 'how', 'a', 'homeless', 'man', 'spent', '100—watch', 'the', 'touching', 'video'], ['this', 'selfless', 'homeless', 'man', 'receives', '100', \"doesn't\", 'spend', 'a', 'dime', 'on', 'himself'], ['experts', 'more', 'facts', 'needed', 'on', 'purported', 'audio', 'recording', 'of', 'michael', 'brown', 'shooting'], ['no', 'a', 'bird', \"didn't\", 'poop', 'on', 'vladimir', 'putin'], ['microsoft', 'turns', 'to', 'robotic', 'security', 'guards', 'to', 'watch', 'for', 'trouble'], ['amazon', 'com', 'to', 'open', 'first', 'physical', 'store', 'in', 'manhattan', 'dj'], ['iraqi', 'media', 'isis', 'militants', 'have', 'contracted', 'ebola'], ['crazy', 'iphone', 'rig', 'shows', 'how', 'chinese', 'workers', 'manipulate', 'app', 'store', 'rankings'], ['everyone', 'chill', 'banksy', 'has', 'not', 'been', 'arrested'], ['missing', 'american', 'journalist', 'reportedly', 'beheaded', 'by', 'islamic', 'state'], ['update', 'soldier', 'gunman', 'who', 'died', 'in', 'ottawa', 'rampage', 'identified'], ['macaulay', 'culkin', 'dead'], ['report', 'audio', 'reveals', 'pause', 'between', 'gunshots', 'when', 'michael', 'brown', 'was', 'shot'], ['boko', 'haram', \"'ceasefire'\", 'doubts', 'after', 'attacks', 'reported', 'in', 'nigeria'], ['insurgents', 'killed', 'in', 'nigeria', 'despite', 'alleged', 'truce', 'with', 'boko', 'haram'], ['isis', 'executioner', \"'jihadi\", \"john'\", 'identified', 'as', 'mohammed', 'emwazi'], ['saddam', 'hussein’s', 'pilots', 'training', 'islamic', 'state', 'group'], ['wfb’s', 'bill', 'gertz', 'obama', 'administration', '‘trying', 'to', 'play', 'down’', 'missing', 'libyan', 'airliners'], ['palestine', 'accuses', 'israel', 'of', 'opening', 'dams', 'flooding', 'gaza', 'forcing', 'evacuations'], ['give', 'a', 'homeless', 'man', '100', 'and', 'see', 'what', 'he', 'does', 'with', 'it', 'video'], ['nigeria', 'claims', 'boko', 'haram', 'will', 'release', 'the', 'kidnapped', 'schoolgirls'], ['turkish', 'leader', 'says', 'u', 's', 'airdrop', 'aided', 'isis', 'militants'], ['cnn', 'posts', 'alleged', 'audio', 'of', 'michael', 'brown', 'shooting'], ['hospital', 'officials', 'kansas', 'city', 'patient', 'not', 'being', 'treated', 'for', 'ebola'], ['isis', 'claims', 'to', 'have', 'intercepted', 'supplies', 'from', 'u', 's', 'airdrop'], ['nigeria', 'announces', 'truce', 'with', 'boko', 'haram', 'fate', 'of', 'schoolgirls', 'unclear'], ['catholic', 'priest', 'claims', 'god', 'is', 'female', 'after', 'clinically', 'dead', 'experience'], ['seth', 'rogen', 'to', 'play', 'steve', 'wozniak', 'in', 'steve', 'jobs', 'biopic'], ['james', 'foley', 'killer', '‘jihadi', 'john’', 'believed', 'to', 'be', 'former', 'london', 'rapper', 'abdel', 'majed', 'abdel', 'bary'], ['tiger', 'woods', 'is', 'not', 'on', 'suspension', 'for', 'failing', 'a', 'drug', 'test', 'his', 'agent', 'and', 'a', 'pga', 'official', 'say'], ['bih', 'seven', 'primary', 'school', 'students', 'pregnant', 'after', 'five', 'day', 'excursion'], ['meet', 'the', '17', 'year', 'old', 'who', 'made', '72', 'million', 'during', 'his', 'high', 'school', 'lunch', 'breaks'], ['apple', 'watch', 'launch', 'expected', 'in', 'late', 'march'], ['calm', 'yourselves', 'durex', 'has', 'not', 'come', 'out', 'with', 'a', 'pumpkin', 'spice', 'condom'], ['isis', 'claims', 'it', 'has', 'us', 'airdrop', 'of', 'weapons'], ['nigeria', 'hopes', 'for', 'return', 'of', 'kidnapped', 'schoolgirls', 'rise', 'after', 'ceasefire', 'reported'], ['report', 'isis', 'kidnaps', 'canadian', 'israeli', 'former', 'idf', 'soldier', 'who', 'went', 'to', 'fight', 'with', 'the', 'kurds'], ['meteorite', 'leaves', 'crater', 'in', 'nicaraguan', 'capital', 'managua'], ['guantanamo', 'detainee', 'freed', 'in', 'bowe', 'bergdahl', 'swap', \"'back\", 'to', \"terrorism'\"], ['texas', 'city', \"plumber's\", 'truck', 'ends', 'up', 'in', 'syrian', 'war'], ['has', 'ebola', 'infected', 'isis', 'militants', 'in', 'mosul'], ['was', 'the', 'batmobile', 'stolen', 'in', 'detroit'], ['apple', 'watch', 'mass', 'production', 'kicks', 'off', 'in', 'january', 'report'], ['canadian', 'israeli', 'woman', 'may', 'have', 'been', 'captured', 'in', 'syria', 'reports'], ['us', 'probing', 'claims', 'isis', 'fighters', 'seized', 'airdropped', 'weapons', 'meant', 'for', 'kurds'], ['wfb’s', 'bill', 'gertz', 'obama', 'administration', '‘trying', 'to', 'play', 'down’', 'missing', 'libyan', 'airliners'], ['macaulay', 'culkin', 'dead', 'the', 'death', 'hoax', 'is', 'once', 'again', 'on', 'the', 'child', 'actor'], ['kim', 'jong', 'ill', 'analysts', 'say', '27', 'year', 'old', 'sister', 'kim', 'yo', 'jong', 'may', 'be', 'running', 'north', 'korea', 'video'], ['who', 'is', 'michael', 'zehaf', 'bibeau', 'ottawa', 'shooter', 'suspect', 'identified', 'by', 'canadian', 'officials'], ['gop', 'rep', '‘at', 'least', 'ten', 'isis', 'fighters', 'have', 'been', 'caught', 'coming', 'across', 'the', 'mexican', 'border’'], [\"'spiderman'\", 'squished', 'perth', 'experts', 'debunk', 'spider', 'burrowing', 'claims'], ['god', 'is', 'a', 'woman', '–', 'resurrected', 'father', 'narated'], ['photo', 'gallery', 'amazing', '£300', 'operation', 'by', 'north', 'walsham', 'vet', 'on', 'constipated', 'goldfish'], ['boko', 'haram', 'could', 'release', 'kidnapped', 'girls', 'nigerian', 'officials', 'say'], ['sorry', 'kfc', \"isn't\", 'going', 'to', 'be', 'selling', 'weed', 'in', 'colorado', 'restaurants'], ['matt', 'taibbi', 'on', 'leave', 'of', 'absence', 'from', 'first', 'look', 'media'], ['isis', 'fighters', 'getting', 'caught', 'coming', 'across', 'the', 'u', 's', 'mexican', 'border'], ['unverified', 'video', 'shows', 'beheading', 'of', 'aid', 'worker', 'david', 'haines'], ['dumped', 'woman', 'spends', 'a', 'week', 'in', 'kfc', 'to', 'get', 'over', 'ex'], ['man', 'cuts', 'off', 'manhood', 'throws', 'it', 'in', 'the', 'bin', 'after', 'girlfriend', 'leaves', 'over', 'small', 'penis'], ['wtc', 'rats', 'scare', 'off', 'anna', 'wintour'], ['managua', 'explosion', 'not', 'a', 'meteorite', 'nasa', 'suggests'], ['no', 'a', 'spider', 'did', 'not', 'burrow', 'under', 'a', \"man's\", 'skin', 'and', 'live', 'there', 'for', 'days'], ['parliament', 'hill', 'shooting', 'sergeant', 'at', 'arms', 'kevin', 'vickers', 'the', 'family', 'hero', 'who', 'took', 'down', 'ottawa', 'gunman'], ['in', 'kim', 'jong', \"un's\", 'absence', 'his', 'sister', 'may', 'rule', 'or', 'not'], ['yemen', 'says', 'u', 's', 'man', 'freed', 'sister', 'says', 'he’s', 'dead']]\n"
          ]
        }
      ],
      "source": [
        "words = []\n",
        "words = concatenate_train_data(train_head_seq, train_body_seq)"
      ]
    },
    {
      "cell_type": "code",
      "execution_count": null,
      "metadata": {
        "colab": {
          "base_uri": "https://localhost:8080/"
        },
        "id": "GwPeZDbn5iLt",
        "outputId": "cb7dabfd-abc1-4dd5-c1ab-474b8feef7c7"
      },
      "outputs": [
        {
          "output_type": "stream",
          "name": "stdout",
          "text": [
            "Train Data After Encoding, \n",
            "\n",
            "X_train Shape (49972, 128)\n",
            "X_test Shape (25413, 128)\n",
            "y_train Shape (49972, 4)\n",
            "y_test Shape (25413,)\n",
            "\n",
            "Train Data After Encoding and splitting, \n",
            "\n",
            "X_train Shape (44974, 128)\n",
            "X_test Shape (25413, 128)\n",
            "y_train Shape (44974, 4)\n",
            "y_test Shape (25413, 4)\n"
          ]
        }
      ],
      "source": [
        "tokenizer = vectorize_data(words)\n",
        "X_train, y_train, X_val, y_val, X_test, y_test = extend_data(train_head_seq, test_head_seq, train_body_seq, train, test, tokenizer)"
      ]
    },
    {
      "cell_type": "code",
      "execution_count": null,
      "metadata": {
        "colab": {
          "base_uri": "https://localhost:8080/"
        },
        "id": "75EfkwwL2h16",
        "outputId": "912c43d6-6161-4bae-d8c3-e4e404fdf86a"
      },
      "outputs": [
        {
          "output_type": "stream",
          "name": "stdout",
          "text": [
            "44974\n",
            "44974\n"
          ]
        }
      ],
      "source": [
        "print(len(X_train))\n",
        "print(len(y_train))"
      ]
    },
    {
      "cell_type": "code",
      "execution_count": null,
      "metadata": {
        "id": "JRH--9sn_Bg2"
      },
      "outputs": [],
      "source": [
        "glove_input_file = './data/glove_twitter/glove.twitter.27B.200d.txt'\n",
        "word2vec_output_file = 'glove.200d.txt.word2vec'\n",
        "glove2word2vec(glove_input_file, word2vec_output_file)\n",
        "embeddings = gensim.models.KeyedVectors.load_word2vec_format(word2vec_output_file, binary=False)"
      ]
    },
    {
      "cell_type": "code",
      "execution_count": null,
      "metadata": {
        "id": "XRpo7_c3_BkT"
      },
      "outputs": [],
      "source": [
        "weight_matrix = np.random.uniform(-0.05, 0.05, size=(len(tokenizer.word_index)+1, 200)) \n",
        "for word, i in tokenizer.word_index.items():\n",
        "    try:\n",
        "        word_embeddings_vector = embeddings[word]\n",
        "    except KeyError:\n",
        "        word_embeddings_vector = None\n",
        "    if word_embeddings_vector is not None:\n",
        "        weight_matrix[i] = word_embeddings_vector\n",
        "del embeddings"
      ]
    },
    {
      "cell_type": "code",
      "execution_count": null,
      "metadata": {
        "id": "aHTndrIM_Bnv",
        "colab": {
          "base_uri": "https://localhost:8080/"
        },
        "outputId": "22c4a23e-07e5-42a2-ab59-74bfc185fee7"
      },
      "outputs": [
        {
          "output_type": "stream",
          "name": "stdout",
          "text": [
            "Epoch 1/20\n",
            "352/352 [==============================] - 12s 23ms/step - loss: 0.7199 - accuracy: 0.7420 - val_loss: 0.5824 - val_accuracy: 0.7977\n",
            "Epoch 2/20\n",
            "352/352 [==============================] - 6s 18ms/step - loss: 0.5382 - accuracy: 0.8022 - val_loss: 0.5062 - val_accuracy: 0.8211\n",
            "Epoch 3/20\n",
            "352/352 [==============================] - 7s 21ms/step - loss: 0.4623 - accuracy: 0.8276 - val_loss: 0.4649 - val_accuracy: 0.8357\n",
            "Epoch 4/20\n",
            "352/352 [==============================] - 7s 19ms/step - loss: 0.3952 - accuracy: 0.8498 - val_loss: 0.4324 - val_accuracy: 0.8425\n",
            "Epoch 5/20\n",
            "352/352 [==============================] - 7s 19ms/step - loss: 0.3425 - accuracy: 0.8689 - val_loss: 0.3940 - val_accuracy: 0.8625\n",
            "Epoch 6/20\n",
            "352/352 [==============================] - 7s 19ms/step - loss: 0.2978 - accuracy: 0.8842 - val_loss: 0.3803 - val_accuracy: 0.8623\n",
            "Epoch 7/20\n",
            "352/352 [==============================] - 7s 19ms/step - loss: 0.2610 - accuracy: 0.8969 - val_loss: 0.3675 - val_accuracy: 0.8731\n",
            "Epoch 8/20\n",
            "352/352 [==============================] - 7s 19ms/step - loss: 0.2250 - accuracy: 0.9110 - val_loss: 0.3401 - val_accuracy: 0.8822\n",
            "Epoch 9/20\n",
            "352/352 [==============================] - 7s 19ms/step - loss: 0.1994 - accuracy: 0.9213 - val_loss: 0.3479 - val_accuracy: 0.8794\n",
            "Epoch 10/20\n",
            "352/352 [==============================] - 7s 19ms/step - loss: 0.1728 - accuracy: 0.9302 - val_loss: 0.3553 - val_accuracy: 0.8834\n",
            "Epoch 11/20\n",
            "352/352 [==============================] - 7s 19ms/step - loss: 0.1563 - accuracy: 0.9375 - val_loss: 0.3716 - val_accuracy: 0.8820\n",
            "Epoch 12/20\n",
            "352/352 [==============================] - 6s 18ms/step - loss: 0.1437 - accuracy: 0.9435 - val_loss: 0.3539 - val_accuracy: 0.8868\n",
            "Epoch 13/20\n",
            "352/352 [==============================] - 7s 18ms/step - loss: 0.1251 - accuracy: 0.9504 - val_loss: 0.3482 - val_accuracy: 0.8976\n",
            "Epoch 14/20\n",
            "352/352 [==============================] - 6s 18ms/step - loss: 0.1109 - accuracy: 0.9558 - val_loss: 0.3589 - val_accuracy: 0.8952\n",
            "Epoch 15/20\n",
            "352/352 [==============================] - 7s 19ms/step - loss: 0.1040 - accuracy: 0.9590 - val_loss: 0.3695 - val_accuracy: 0.8972\n",
            "Epoch 16/20\n",
            "352/352 [==============================] - 7s 19ms/step - loss: 0.0961 - accuracy: 0.9638 - val_loss: 0.3542 - val_accuracy: 0.8996\n",
            "Epoch 17/20\n",
            "352/352 [==============================] - 7s 19ms/step - loss: 0.0871 - accuracy: 0.9656 - val_loss: 0.3613 - val_accuracy: 0.9018\n",
            "Epoch 18/20\n",
            "352/352 [==============================] - 6s 18ms/step - loss: 0.0804 - accuracy: 0.9692 - val_loss: 0.3635 - val_accuracy: 0.9070\n",
            "Epoch 19/20\n",
            "352/352 [==============================] - 7s 19ms/step - loss: 0.0719 - accuracy: 0.9737 - val_loss: 0.3713 - val_accuracy: 0.9056\n",
            "Epoch 20/20\n",
            "352/352 [==============================] - 7s 18ms/step - loss: 0.0658 - accuracy: 0.9760 - val_loss: 0.3723 - val_accuracy: 0.9124\n",
            "Model: \"sequential_39\"\n",
            "_________________________________________________________________\n",
            " Layer (type)                Output Shape              Param #   \n",
            "=================================================================\n",
            " embedding_39 (Embedding)    (None, None, 200)         5574800   \n",
            "                                                                 \n",
            " lstm_22 (LSTM)              (None, 120)               154080    \n",
            "                                                                 \n",
            " dropout_31 (Dropout)        (None, 120)               0         \n",
            "                                                                 \n",
            " dense_45 (Dense)            (None, 4)                 484       \n",
            "                                                                 \n",
            "=================================================================\n",
            "Total params: 5,729,364\n",
            "Trainable params: 5,729,364\n",
            "Non-trainable params: 0\n",
            "_________________________________________________________________\n",
            "-------------------------------------------------------------\n",
            "|           |   agree   | disagree  |  discuss  | unrelated |\n",
            "-------------------------------------------------------------\n",
            "|   agree   |    238    |    37     |    321    |   1307    |\n",
            "-------------------------------------------------------------\n",
            "| disagree  |    68     |    24     |    135    |    470    |\n",
            "-------------------------------------------------------------\n",
            "|  discuss  |    253    |    44     |   1610    |   2557    |\n",
            "-------------------------------------------------------------\n",
            "| unrelated |   1063    |    132    |   4105    |   13049   |\n",
            "-------------------------------------------------------------\n",
            "Score: 5348.75 out of 11651.25\t(45.90709151378608%)\n"
          ]
        },
        {
          "output_type": "execute_result",
          "data": {
            "text/plain": [
              "45.90709151378608"
            ]
          },
          "metadata": {},
          "execution_count": 221
        }
      ],
      "source": [
        "model1 = Sequential()\n",
        "model1.add(Embedding(input_dim=len(tokenizer.word_index)+1, output_dim = 200, weights = [weight_matrix], trainable = True, mask_zero=True))\n",
        "model1.add(LSTM(120, return_sequences = False))\n",
        "model1.add(Dropout(rate = 0.3)) \n",
        "model1.add(Dense(4, activation='softmax'))\n",
        "model1.compile(loss = 'categorical_crossentropy',optimizer = 'adam', metrics = ['accuracy'])\n",
        "history = model1.fit(X_train, y_train, batch_size = 128, epochs = 20, validation_data = (X_val, y_val))\n",
        "pred = model1.predict(X_test)\n",
        "predicted_labels = [np.argmax(p, axis = -1) for p in pred]\n",
        "True_labels = [np.argmax(p, axis = -1) for p in y_test]\n",
        "for i in range(len(predicted_labels)):\n",
        "    if predicted_labels[i] == 0: predicted_labels[i] = \"unrelated\"\n",
        "    if predicted_labels[i] == 1: predicted_labels[i] = \"agree\"\n",
        "    if predicted_labels[i] == 2: predicted_labels[i] = \"disagree\"\n",
        "    if predicted_labels[i] == 3: predicted_labels[i] = \"discuss\"\n",
        "for i in range(len(True_labels)):\n",
        "    if True_labels[i] == 0: True_labels[i] = \"unrelated\"\n",
        "    if True_labels[i] == 1: True_labels[i] = \"agree\"\n",
        "    if True_labels[i] == 2: True_labels[i] = \"disagree\"\n",
        "    if True_labels[i] == 3: True_labels[i] = \"discuss\"\n",
        "test_df = pd.read_csv('competition_test_stances.csv')\n",
        "pred_stance = predicted_labels\n",
        "bodyid = []\n",
        "headline = []\n",
        "model1.summary()\n",
        "for i in range(len(test_df.Stance)):\n",
        "    bodyid.append(test_df['Body ID'][i])\n",
        "    headline.append(test_df['Headline'][i])\n",
        "df_submit = pd.DataFrame( data = {'Headline': headline, 'Body ID': bodyid, \"Stance\": pred_stance})\n",
        "df_submit.to_csv('answer_BaseLSTM.csv', index = False, encoding = 'utf-8')\n",
        "base_lstm_accuracy = history.history['accuracy']\n",
        "base_lstm_validation = history.history['accuracy']\n",
        "predicted = df_submit['Stance'].values\n",
        "actual = test_df['Stance'].values\n",
        "report_score(actual, predicted)"
      ]
    },
    {
      "cell_type": "markdown",
      "source": [
        "# Bi directional- LSTM with a 200D word embedding matrix"
      ],
      "metadata": {
        "id": "r5NKC6NGzUhz"
      }
    },
    {
      "cell_type": "code",
      "execution_count": null,
      "metadata": {
        "id": "bRDJdgim_Bxn",
        "colab": {
          "base_uri": "https://localhost:8080/"
        },
        "outputId": "1fd44032-1dd8-4c48-8337-294c22ac4f57"
      },
      "outputs": [
        {
          "output_type": "stream",
          "name": "stdout",
          "text": [
            "Epoch 1/20\n",
            "352/352 [==============================] - 21s 40ms/step - loss: 0.6515 - accuracy: 0.7612 - val_loss: 0.4672 - val_accuracy: 0.8305\n",
            "Epoch 2/20\n",
            "352/352 [==============================] - 12s 33ms/step - loss: 0.3785 - accuracy: 0.8551 - val_loss: 0.3256 - val_accuracy: 0.8762\n",
            "Epoch 3/20\n",
            "352/352 [==============================] - 12s 33ms/step - loss: 0.2667 - accuracy: 0.8956 - val_loss: 0.2713 - val_accuracy: 0.8958\n",
            "Epoch 4/20\n",
            "352/352 [==============================] - 12s 33ms/step - loss: 0.1912 - accuracy: 0.9266 - val_loss: 0.2302 - val_accuracy: 0.9140\n",
            "Epoch 5/20\n",
            "352/352 [==============================] - 12s 33ms/step - loss: 0.1339 - accuracy: 0.9497 - val_loss: 0.2050 - val_accuracy: 0.9228\n",
            "Epoch 6/20\n",
            "352/352 [==============================] - 12s 33ms/step - loss: 0.0964 - accuracy: 0.9649 - val_loss: 0.1753 - val_accuracy: 0.9398\n",
            "Epoch 7/20\n",
            "352/352 [==============================] - 12s 33ms/step - loss: 0.0688 - accuracy: 0.9757 - val_loss: 0.1706 - val_accuracy: 0.9436\n",
            "Epoch 8/20\n",
            "352/352 [==============================] - 12s 33ms/step - loss: 0.0520 - accuracy: 0.9819 - val_loss: 0.1768 - val_accuracy: 0.9438\n",
            "Epoch 9/20\n",
            "352/352 [==============================] - 12s 33ms/step - loss: 0.0434 - accuracy: 0.9842 - val_loss: 0.1736 - val_accuracy: 0.9414\n",
            "Epoch 10/20\n",
            "352/352 [==============================] - 12s 33ms/step - loss: 0.0331 - accuracy: 0.9886 - val_loss: 0.1690 - val_accuracy: 0.9494\n",
            "Epoch 11/20\n",
            "352/352 [==============================] - 12s 34ms/step - loss: 0.0314 - accuracy: 0.9893 - val_loss: 0.1868 - val_accuracy: 0.9488\n",
            "Epoch 12/20\n",
            "352/352 [==============================] - 12s 33ms/step - loss: 0.0221 - accuracy: 0.9926 - val_loss: 0.1945 - val_accuracy: 0.9466\n",
            "Epoch 13/20\n",
            "352/352 [==============================] - 12s 33ms/step - loss: 0.0247 - accuracy: 0.9922 - val_loss: 0.1913 - val_accuracy: 0.9512\n",
            "Epoch 14/20\n",
            "352/352 [==============================] - 12s 33ms/step - loss: 0.0185 - accuracy: 0.9941 - val_loss: 0.1905 - val_accuracy: 0.9506\n",
            "Epoch 15/20\n",
            "352/352 [==============================] - 12s 33ms/step - loss: 0.0198 - accuracy: 0.9936 - val_loss: 0.1861 - val_accuracy: 0.9518\n",
            "Epoch 16/20\n",
            "352/352 [==============================] - 12s 33ms/step - loss: 0.0143 - accuracy: 0.9952 - val_loss: 0.1911 - val_accuracy: 0.9544\n",
            "Epoch 17/20\n",
            "352/352 [==============================] - 12s 33ms/step - loss: 0.0156 - accuracy: 0.9949 - val_loss: 0.1952 - val_accuracy: 0.9530\n",
            "Epoch 18/20\n",
            "352/352 [==============================] - 12s 33ms/step - loss: 0.0127 - accuracy: 0.9962 - val_loss: 0.2096 - val_accuracy: 0.9528\n",
            "Epoch 19/20\n",
            "352/352 [==============================] - 12s 33ms/step - loss: 0.0128 - accuracy: 0.9962 - val_loss: 0.2077 - val_accuracy: 0.9516\n",
            "Epoch 20/20\n",
            "352/352 [==============================] - 12s 33ms/step - loss: 0.0128 - accuracy: 0.9959 - val_loss: 0.1983 - val_accuracy: 0.9530\n",
            "Model: \"sequential_40\"\n",
            "_________________________________________________________________\n",
            " Layer (type)                Output Shape              Param #   \n",
            "=================================================================\n",
            " embedding_40 (Embedding)    (None, None, 200)         5574800   \n",
            "                                                                 \n",
            " bidirectional_12 (Bidirecti  (None, 240)              308160    \n",
            " onal)                                                           \n",
            "                                                                 \n",
            " dropout_32 (Dropout)        (None, 240)               0         \n",
            "                                                                 \n",
            " dense_46 (Dense)            (None, 4)                 964       \n",
            "                                                                 \n",
            "=================================================================\n",
            "Total params: 5,883,924\n",
            "Trainable params: 5,883,924\n",
            "Non-trainable params: 0\n",
            "_________________________________________________________________\n",
            "-------------------------------------------------------------\n",
            "|           |   agree   | disagree  |  discuss  | unrelated |\n",
            "-------------------------------------------------------------\n",
            "|   agree   |    367    |    13     |    252    |   1271    |\n",
            "-------------------------------------------------------------\n",
            "| disagree  |    90     |    12     |    61     |    534    |\n",
            "-------------------------------------------------------------\n",
            "|  discuss  |    370    |    17     |   1702    |   2375    |\n",
            "-------------------------------------------------------------\n",
            "| unrelated |    687    |    46     |   1321    |   16295   |\n",
            "-------------------------------------------------------------\n",
            "Score: 6355.5 out of 11651.25\t(54.54779530093337%)\n"
          ]
        }
      ],
      "source": [
        "model2 = Sequential()\n",
        "model2.add(Embedding(input_dim=len(tokenizer.word_index)+1, output_dim = 200, weights = [weight_matrix], trainable = True, mask_zero=True))\n",
        "model2.add(Bidirectional(LSTM(120, return_sequences = False),merge_mode='concat'))\n",
        "model2.add(Dropout(rate = 0.3)) \n",
        "model2.add(Dense(4, activation='softmax'))\n",
        "model2.compile(loss = 'categorical_crossentropy',optimizer = 'adam', metrics = ['accuracy'])\n",
        "history = model2.fit(X_train, y_train, batch_size = 128, epochs = 20, validation_data = (X_val, y_val))\n",
        "model2.summary()\n",
        "pred = model2.predict(X_test)\n",
        "predicted_labels = [np.argmax(p, axis = -1) for p in pred]\n",
        "True_labels = [np.argmax(p, axis = -1) for p in y_test]\n",
        "for i in range(len(predicted_labels)):\n",
        "    if predicted_labels[i] == 0: predicted_labels[i] = \"unrelated\"\n",
        "    if predicted_labels[i] == 1: predicted_labels[i] = \"agree\"\n",
        "    if predicted_labels[i] == 2: predicted_labels[i] = \"disagree\"\n",
        "    if predicted_labels[i] == 3: predicted_labels[i] = \"discuss\"\n",
        "for i in range(len(True_labels)):\n",
        "    if True_labels[i] == 0: True_labels[i] = \"unrelated\"\n",
        "    if True_labels[i] == 1: True_labels[i] = \"agree\"\n",
        "    if True_labels[i] == 2: True_labels[i] = \"disagree\"\n",
        "    if True_labels[i] == 3: True_labels[i] = \"discuss\"\n",
        "test_df = pd.read_csv('competition_test_stances.csv')\n",
        "pred_stance = predicted_labels\n",
        "bodyid = []\n",
        "headline = []\n",
        "for i in range(len(test_df.Stance)):\n",
        "    bodyid.append(test_df['Body ID'][i])\n",
        "    headline.append(test_df['Headline'][i])\n",
        "df_submit = pd.DataFrame( data = {'Headline': headline, 'Body ID': bodyid, \"Stance\": pred_stance})\n",
        "df_submit.to_csv('answer_BiLSTM.csv', index = False, encoding = 'utf-8')\n",
        "predicted = df_submit['Stance'].values\n",
        "actual = test_df['Stance'].values\n",
        "report_score(actual, predicted)\n",
        "bilstm_concat_accuracy = history.history['accuracy']\n",
        "bilstm__concat_validation = history.history['accuracy']"
      ]
    },
    {
      "cell_type": "markdown",
      "source": [
        "Bi directional- LSTM with a 200D word embedding matrix - The LSTM models are being averaged out."
      ],
      "metadata": {
        "id": "HjED-lm9ALRl"
      }
    },
    {
      "cell_type": "code",
      "source": [
        "model3 = Sequential()\n",
        "model3.add(Embedding(input_dim=len(tokenizer.word_index)+1, output_dim = 200, weights = [weight_matrix], trainable = True, mask_zero=True))\n",
        "model3.add(Bidirectional(LSTM(120, return_sequences = False),merge_mode='ave'))\n",
        "model3.add(Dropout(rate = 0.3)) \n",
        "model3.add(Dense(4, activation='softmax'))\n",
        "model3.compile(loss = 'categorical_crossentropy',optimizer = 'adam', metrics = ['accuracy'])\n",
        "history = model3.fit(X_train, y_train, batch_size = 128, epochs = 20, validation_data = (X_val, y_val))\n",
        "model3.summary()\n",
        "pred = model3.predict(X_test)\n",
        "predicted_labels = [np.argmax(p, axis = -1) for p in pred]\n",
        "True_labels = [np.argmax(p, axis = -1) for p in y_test]\n",
        "for i in range(len(predicted_labels)):\n",
        "    if predicted_labels[i] == 0: predicted_labels[i] = \"unrelated\"\n",
        "    if predicted_labels[i] == 1: predicted_labels[i] = \"agree\"\n",
        "    if predicted_labels[i] == 2: predicted_labels[i] = \"disagree\"\n",
        "    if predicted_labels[i] == 3: predicted_labels[i] = \"discuss\"\n",
        "for i in range(len(True_labels)):\n",
        "    if True_labels[i] == 0: True_labels[i] = \"unrelated\"\n",
        "    if True_labels[i] == 1: True_labels[i] = \"agree\"\n",
        "    if True_labels[i] == 2: True_labels[i] = \"disagree\"\n",
        "    if True_labels[i] == 3: True_labels[i] = \"discuss\"\n",
        "test_df = pd.read_csv('competition_test_stances.csv')\n",
        "pred_stance = predicted_labels\n",
        "bodyid = []\n",
        "headline = []\n",
        "for i in range(len(test_df.Stance)):\n",
        "    bodyid.append(test_df['Body ID'][i])\n",
        "    headline.append(test_df['Headline'][i])\n",
        "df_submit = pd.DataFrame( data = {'Headline': headline, 'Body ID': bodyid, \"Stance\": pred_stance})\n",
        "# df_submit.to_csv('answer_BiLSTM.csv', index = False, encoding = 'utf-8')\n",
        "predicted = df_submit['Stance'].values\n",
        "actual = test_df['Stance'].values\n",
        "report_score(actual, predicted)\n",
        "bilstm_average_accuracy = history.history['accuracy']\n",
        "bilstm__average_validation = history.history['accuracy']"
      ],
      "metadata": {
        "colab": {
          "base_uri": "https://localhost:8080/"
        },
        "id": "J7pd_MMbXwqi",
        "outputId": "cf3338ce-1c94-4333-91a3-af314fcbf29a"
      },
      "execution_count": null,
      "outputs": [
        {
          "output_type": "stream",
          "name": "stdout",
          "text": [
            "Epoch 1/20\n",
            "352/352 [==============================] - 24s 41ms/step - loss: 0.6498 - accuracy: 0.7637 - val_loss: 0.4636 - val_accuracy: 0.8363\n",
            "Epoch 2/20\n",
            "352/352 [==============================] - 11s 33ms/step - loss: 0.3905 - accuracy: 0.8521 - val_loss: 0.3308 - val_accuracy: 0.8792\n",
            "Epoch 3/20\n",
            "352/352 [==============================] - 12s 33ms/step - loss: 0.2682 - accuracy: 0.8967 - val_loss: 0.2833 - val_accuracy: 0.8920\n",
            "Epoch 4/20\n",
            "352/352 [==============================] - 12s 33ms/step - loss: 0.1910 - accuracy: 0.9265 - val_loss: 0.2403 - val_accuracy: 0.9136\n",
            "Epoch 5/20\n",
            "352/352 [==============================] - 12s 33ms/step - loss: 0.1378 - accuracy: 0.9482 - val_loss: 0.2168 - val_accuracy: 0.9228\n",
            "Epoch 6/20\n",
            "352/352 [==============================] - 12s 33ms/step - loss: 0.1050 - accuracy: 0.9619 - val_loss: 0.1906 - val_accuracy: 0.9330\n",
            "Epoch 7/20\n",
            "352/352 [==============================] - 12s 33ms/step - loss: 0.0805 - accuracy: 0.9708 - val_loss: 0.1955 - val_accuracy: 0.9350\n",
            "Epoch 8/20\n",
            "352/352 [==============================] - 11s 33ms/step - loss: 0.0572 - accuracy: 0.9806 - val_loss: 0.2075 - val_accuracy: 0.9400\n",
            "Epoch 9/20\n",
            "352/352 [==============================] - 11s 33ms/step - loss: 0.0486 - accuracy: 0.9836 - val_loss: 0.2107 - val_accuracy: 0.9432\n",
            "Epoch 10/20\n",
            "352/352 [==============================] - 12s 33ms/step - loss: 0.0412 - accuracy: 0.9860 - val_loss: 0.2042 - val_accuracy: 0.9434\n",
            "Epoch 11/20\n",
            "352/352 [==============================] - 12s 33ms/step - loss: 0.0317 - accuracy: 0.9900 - val_loss: 0.2206 - val_accuracy: 0.9370\n",
            "Epoch 12/20\n",
            "352/352 [==============================] - 12s 34ms/step - loss: 0.0269 - accuracy: 0.9912 - val_loss: 0.2107 - val_accuracy: 0.9444\n",
            "Epoch 13/20\n",
            "352/352 [==============================] - 12s 33ms/step - loss: 0.0236 - accuracy: 0.9928 - val_loss: 0.2142 - val_accuracy: 0.9434\n",
            "Epoch 14/20\n",
            "352/352 [==============================] - 11s 33ms/step - loss: 0.0211 - accuracy: 0.9935 - val_loss: 0.2190 - val_accuracy: 0.9478\n",
            "Epoch 15/20\n",
            "352/352 [==============================] - 11s 32ms/step - loss: 0.0168 - accuracy: 0.9951 - val_loss: 0.2261 - val_accuracy: 0.9456\n",
            "Epoch 16/20\n",
            "352/352 [==============================] - 12s 33ms/step - loss: 0.0146 - accuracy: 0.9955 - val_loss: 0.2375 - val_accuracy: 0.9498\n",
            "Epoch 17/20\n",
            "352/352 [==============================] - 12s 33ms/step - loss: 0.0094 - accuracy: 0.9973 - val_loss: 0.2292 - val_accuracy: 0.9512\n",
            "Epoch 18/20\n",
            "352/352 [==============================] - 12s 33ms/step - loss: 0.0156 - accuracy: 0.9954 - val_loss: 0.2196 - val_accuracy: 0.9478\n",
            "Epoch 19/20\n",
            "352/352 [==============================] - 12s 33ms/step - loss: 0.0181 - accuracy: 0.9943 - val_loss: 0.2277 - val_accuracy: 0.9464\n",
            "Epoch 20/20\n",
            "352/352 [==============================] - 12s 33ms/step - loss: 0.0102 - accuracy: 0.9967 - val_loss: 0.2303 - val_accuracy: 0.9520\n",
            "Model: \"sequential_41\"\n",
            "_________________________________________________________________\n",
            " Layer (type)                Output Shape              Param #   \n",
            "=================================================================\n",
            " embedding_41 (Embedding)    (None, None, 200)         5574800   \n",
            "                                                                 \n",
            " bidirectional_13 (Bidirecti  (None, 120)              308160    \n",
            " onal)                                                           \n",
            "                                                                 \n",
            " dropout_33 (Dropout)        (None, 120)               0         \n",
            "                                                                 \n",
            " dense_47 (Dense)            (None, 4)                 484       \n",
            "                                                                 \n",
            "=================================================================\n",
            "Total params: 5,883,444\n",
            "Trainable params: 5,883,444\n",
            "Non-trainable params: 0\n",
            "_________________________________________________________________\n",
            "-------------------------------------------------------------\n",
            "|           |   agree   | disagree  |  discuss  | unrelated |\n",
            "-------------------------------------------------------------\n",
            "|   agree   |    378    |    25     |    358    |   1142    |\n",
            "-------------------------------------------------------------\n",
            "| disagree  |    111    |    23     |    98     |    465    |\n",
            "-------------------------------------------------------------\n",
            "|  discuss  |    304    |    42     |   1673    |   2445    |\n",
            "-------------------------------------------------------------\n",
            "| unrelated |    722    |    112    |   1897    |   15618   |\n",
            "-------------------------------------------------------------\n",
            "Score: 6213.0 out of 11651.25\t(53.32475056324429%)\n"
          ]
        }
      ]
    },
    {
      "cell_type": "markdown",
      "source": [
        "Bi directional- LSTM with a 200D word embedding matrix - The LSTMs output are being Added to produce and output"
      ],
      "metadata": {
        "id": "Kz8i3CEEASki"
      }
    },
    {
      "cell_type": "code",
      "source": [
        "model4 = Sequential()\n",
        "model4.add(Embedding(input_dim=len(tokenizer.word_index)+1, output_dim = 200, weights = [weight_matrix], trainable = True, mask_zero=True))\n",
        "model4.add(Bidirectional(LSTM(120, return_sequences = False),merge_mode='sum'))\n",
        "model4.add(Dropout(rate = 0.3)) \n",
        "model4.add(Dense(4, activation='softmax'))\n",
        "model4.compile(loss = 'categorical_crossentropy',optimizer = 'adam', metrics = ['accuracy'])\n",
        "history = model4.fit(X_train, y_train, batch_size = 128, epochs = 20, validation_data = (X_val, y_val))\n",
        "model4.summary()\n",
        "pred = model4.predict(X_test)\n",
        "predicted_labels = [np.argmax(p, axis = -1) for p in pred]\n",
        "True_labels = [np.argmax(p, axis = -1) for p in y_test]\n",
        "for i in range(len(predicted_labels)):\n",
        "    if predicted_labels[i] == 0: predicted_labels[i] = \"unrelated\"\n",
        "    if predicted_labels[i] == 1: predicted_labels[i] = \"agree\"\n",
        "    if predicted_labels[i] == 2: predicted_labels[i] = \"disagree\"\n",
        "    if predicted_labels[i] == 3: predicted_labels[i] = \"discuss\"\n",
        "for i in range(len(True_labels)):\n",
        "    if True_labels[i] == 0: True_labels[i] = \"unrelated\"\n",
        "    if True_labels[i] == 1: True_labels[i] = \"agree\"\n",
        "    if True_labels[i] == 2: True_labels[i] = \"disagree\"\n",
        "    if True_labels[i] == 3: True_labels[i] = \"discuss\"\n",
        "test_df = pd.read_csv('competition_test_stances.csv')\n",
        "pred_stance = predicted_labels\n",
        "bodyid = []\n",
        "headline = []\n",
        "for i in range(len(test_df.Stance)):\n",
        "    bodyid.append(test_df['Body ID'][i])\n",
        "    headline.append(test_df['Headline'][i])\n",
        "df_submit = pd.DataFrame( data = {'Headline': headline, 'Body ID': bodyid, \"Stance\": pred_stance})\n",
        "df_submit.to_csv('answer_BiLSTM.csv', index = False, encoding = 'utf-8')\n",
        "predicted = df_submit['Stance'].values\n",
        "actual = test_df['Stance'].values\n",
        "report_score(actual, predicted)\n",
        "bilstm_sum_accuracy = history.history['accuracy']\n",
        "bilstm_sum_validation = history.history['accuracy']"
      ],
      "metadata": {
        "colab": {
          "base_uri": "https://localhost:8080/"
        },
        "id": "m0HmP8I8Xw-j",
        "outputId": "0e95d9ea-84ce-4c95-abca-ea79e501f1cb"
      },
      "execution_count": null,
      "outputs": [
        {
          "output_type": "stream",
          "name": "stdout",
          "text": [
            "Epoch 1/20\n",
            "352/352 [==============================] - 21s 39ms/step - loss: 0.6468 - accuracy: 0.7621 - val_loss: 0.4659 - val_accuracy: 0.8349\n",
            "Epoch 2/20\n",
            "352/352 [==============================] - 12s 34ms/step - loss: 0.3716 - accuracy: 0.8594 - val_loss: 0.3202 - val_accuracy: 0.8778\n",
            "Epoch 3/20\n",
            "352/352 [==============================] - 12s 33ms/step - loss: 0.2393 - accuracy: 0.9085 - val_loss: 0.2505 - val_accuracy: 0.8994\n",
            "Epoch 4/20\n",
            "352/352 [==============================] - 12s 33ms/step - loss: 0.1666 - accuracy: 0.9372 - val_loss: 0.2227 - val_accuracy: 0.9192\n",
            "Epoch 5/20\n",
            "352/352 [==============================] - 12s 33ms/step - loss: 0.1195 - accuracy: 0.9553 - val_loss: 0.2025 - val_accuracy: 0.9300\n",
            "Epoch 6/20\n",
            "352/352 [==============================] - 12s 33ms/step - loss: 0.0859 - accuracy: 0.9683 - val_loss: 0.2007 - val_accuracy: 0.9318\n",
            "Epoch 7/20\n",
            "352/352 [==============================] - 11s 32ms/step - loss: 0.0667 - accuracy: 0.9759 - val_loss: 0.1920 - val_accuracy: 0.9416\n",
            "Epoch 8/20\n",
            "352/352 [==============================] - 11s 33ms/step - loss: 0.0508 - accuracy: 0.9827 - val_loss: 0.1908 - val_accuracy: 0.9460\n",
            "Epoch 9/20\n",
            "352/352 [==============================] - 12s 33ms/step - loss: 0.0408 - accuracy: 0.9857 - val_loss: 0.2212 - val_accuracy: 0.9396\n",
            "Epoch 10/20\n",
            "352/352 [==============================] - 12s 33ms/step - loss: 0.0353 - accuracy: 0.9885 - val_loss: 0.2113 - val_accuracy: 0.9442\n",
            "Epoch 11/20\n",
            "352/352 [==============================] - 12s 33ms/step - loss: 0.0314 - accuracy: 0.9893 - val_loss: 0.2098 - val_accuracy: 0.9448\n",
            "Epoch 12/20\n",
            "352/352 [==============================] - 11s 33ms/step - loss: 0.0235 - accuracy: 0.9925 - val_loss: 0.2185 - val_accuracy: 0.9488\n",
            "Epoch 13/20\n",
            "352/352 [==============================] - 11s 33ms/step - loss: 0.0206 - accuracy: 0.9936 - val_loss: 0.1993 - val_accuracy: 0.9518\n",
            "Epoch 14/20\n",
            "352/352 [==============================] - 12s 34ms/step - loss: 0.0188 - accuracy: 0.9943 - val_loss: 0.1935 - val_accuracy: 0.9540\n",
            "Epoch 15/20\n",
            "352/352 [==============================] - 12s 33ms/step - loss: 0.0164 - accuracy: 0.9949 - val_loss: 0.2059 - val_accuracy: 0.9490\n",
            "Epoch 16/20\n",
            "352/352 [==============================] - 12s 33ms/step - loss: 0.0186 - accuracy: 0.9939 - val_loss: 0.2198 - val_accuracy: 0.9466\n",
            "Epoch 17/20\n",
            "352/352 [==============================] - 12s 33ms/step - loss: 0.0154 - accuracy: 0.9949 - val_loss: 0.2283 - val_accuracy: 0.9484\n",
            "Epoch 18/20\n",
            "352/352 [==============================] - 12s 33ms/step - loss: 0.0129 - accuracy: 0.9960 - val_loss: 0.2268 - val_accuracy: 0.9518\n",
            "Epoch 19/20\n",
            "352/352 [==============================] - 12s 33ms/step - loss: 0.0125 - accuracy: 0.9961 - val_loss: 0.2234 - val_accuracy: 0.9516\n",
            "Epoch 20/20\n",
            "352/352 [==============================] - 11s 33ms/step - loss: 0.0120 - accuracy: 0.9963 - val_loss: 0.2261 - val_accuracy: 0.9542\n",
            "Model: \"sequential_42\"\n",
            "_________________________________________________________________\n",
            " Layer (type)                Output Shape              Param #   \n",
            "=================================================================\n",
            " embedding_42 (Embedding)    (None, None, 200)         5574800   \n",
            "                                                                 \n",
            " bidirectional_14 (Bidirecti  (None, 120)              308160    \n",
            " onal)                                                           \n",
            "                                                                 \n",
            " dropout_34 (Dropout)        (None, 120)               0         \n",
            "                                                                 \n",
            " dense_48 (Dense)            (None, 4)                 484       \n",
            "                                                                 \n",
            "=================================================================\n",
            "Total params: 5,883,444\n",
            "Trainable params: 5,883,444\n",
            "Non-trainable params: 0\n",
            "_________________________________________________________________\n",
            "-------------------------------------------------------------\n",
            "|           |   agree   | disagree  |  discuss  | unrelated |\n",
            "-------------------------------------------------------------\n",
            "|   agree   |    351    |    13     |    536    |   1003    |\n",
            "-------------------------------------------------------------\n",
            "| disagree  |    55     |     9     |    141    |    492    |\n",
            "-------------------------------------------------------------\n",
            "|  discuss  |    297    |    35     |   2183    |   1949    |\n",
            "-------------------------------------------------------------\n",
            "| unrelated |    579    |    62     |   2160    |   15548   |\n",
            "-------------------------------------------------------------\n",
            "Score: 6699.25 out of 11651.25\t(57.49812251904302%)\n"
          ]
        }
      ]
    },
    {
      "cell_type": "markdown",
      "source": [
        "Bi directional- LSTM with a 200D word embedding matrix. The outputs from the two LSTMs are being multiplied to produces probabilities."
      ],
      "metadata": {
        "id": "C6BXfkEkAtFc"
      }
    },
    {
      "cell_type": "code",
      "source": [
        "model5 = Sequential()\n",
        "model5.add(Embedding(input_dim=len(tokenizer.word_index)+1, output_dim = 200, weights = [weight_matrix], trainable = True, mask_zero=True))\n",
        "model5.add(Bidirectional(LSTM(120, return_sequences = False),merge_mode='mul'))\n",
        "model5.add(Dropout(rate = 0.3)) \n",
        "model5.add(Dense(4, activation='softmax'))\n",
        "model5.compile(loss = 'categorical_crossentropy',optimizer = 'adam', metrics = ['accuracy'])\n",
        "history = model5.fit(X_train, y_train, batch_size = 128, epochs = 20, validation_data = (X_val, y_val))\n",
        "model5.summary()\n",
        "pred = model5.predict(X_test)\n",
        "predicted_labels = [np.argmax(p, axis = -1) for p in pred]\n",
        "True_labels = [np.argmax(p, axis = -1) for p in y_test]\n",
        "for i in range(len(predicted_labels)):\n",
        "    if predicted_labels[i] == 0: predicted_labels[i] = \"unrelated\"\n",
        "    if predicted_labels[i] == 1: predicted_labels[i] = \"agree\"\n",
        "    if predicted_labels[i] == 2: predicted_labels[i] = \"disagree\"\n",
        "    if predicted_labels[i] == 3: predicted_labels[i] = \"discuss\"\n",
        "for i in range(len(True_labels)):\n",
        "    if True_labels[i] == 0: True_labels[i] = \"unrelated\"\n",
        "    if True_labels[i] == 1: True_labels[i] = \"agree\"\n",
        "    if True_labels[i] == 2: True_labels[i] = \"disagree\"\n",
        "    if True_labels[i] == 3: True_labels[i] = \"discuss\"\n",
        "test_df = pd.read_csv('competition_test_stances.csv')\n",
        "pred_stance = predicted_labels\n",
        "bodyid = []\n",
        "headline = []\n",
        "for i in range(len(test_df.Stance)):\n",
        "    bodyid.append(test_df['Body ID'][i])\n",
        "    headline.append(test_df['Headline'][i])\n",
        "df_submit = pd.DataFrame( data = {'Headline': headline, 'Body ID': bodyid, \"Stance\": pred_stance})\n",
        "# df_submit.to_csv('answer_BiLSTM.csv', index = False, encoding = 'utf-8')\n",
        "predicted = df_submit['Stance'].values\n",
        "actual = test_df['Stance'].values\n",
        "report_score(actual, predicted)\n",
        "bilstm_mul_accuracy = history.history['accuracy']\n",
        "bilstm__mul_validation = history.history['accuracy']"
      ],
      "metadata": {
        "colab": {
          "base_uri": "https://localhost:8080/"
        },
        "id": "qmIVGu4KX3sA",
        "outputId": "79be0fb4-628e-4899-8d7c-a51213b01268"
      },
      "execution_count": null,
      "outputs": [
        {
          "output_type": "stream",
          "name": "stdout",
          "text": [
            "Epoch 1/20\n",
            "352/352 [==============================] - 23s 40ms/step - loss: 0.6710 - accuracy: 0.7562 - val_loss: 0.4693 - val_accuracy: 0.8255\n",
            "Epoch 2/20\n",
            "352/352 [==============================] - 12s 33ms/step - loss: 0.3871 - accuracy: 0.8538 - val_loss: 0.3159 - val_accuracy: 0.8824\n",
            "Epoch 3/20\n",
            "352/352 [==============================] - 12s 35ms/step - loss: 0.2420 - accuracy: 0.9104 - val_loss: 0.2334 - val_accuracy: 0.9132\n",
            "Epoch 4/20\n",
            "352/352 [==============================] - 12s 33ms/step - loss: 0.1634 - accuracy: 0.9400 - val_loss: 0.1852 - val_accuracy: 0.9346\n",
            "Epoch 5/20\n",
            "352/352 [==============================] - 12s 33ms/step - loss: 0.1167 - accuracy: 0.9582 - val_loss: 0.1689 - val_accuracy: 0.9410\n",
            "Epoch 6/20\n",
            "352/352 [==============================] - 12s 33ms/step - loss: 0.0860 - accuracy: 0.9687 - val_loss: 0.1692 - val_accuracy: 0.9436\n",
            "Epoch 7/20\n",
            "352/352 [==============================] - 12s 33ms/step - loss: 0.0640 - accuracy: 0.9780 - val_loss: 0.1608 - val_accuracy: 0.9468\n",
            "Epoch 8/20\n",
            "352/352 [==============================] - 12s 33ms/step - loss: 0.0499 - accuracy: 0.9835 - val_loss: 0.1438 - val_accuracy: 0.9548\n",
            "Epoch 9/20\n",
            "352/352 [==============================] - 12s 33ms/step - loss: 0.0372 - accuracy: 0.9872 - val_loss: 0.1338 - val_accuracy: 0.9606\n",
            "Epoch 10/20\n",
            "352/352 [==============================] - 12s 33ms/step - loss: 0.0298 - accuracy: 0.9899 - val_loss: 0.1325 - val_accuracy: 0.9604\n",
            "Epoch 11/20\n",
            "352/352 [==============================] - 11s 33ms/step - loss: 0.0265 - accuracy: 0.9913 - val_loss: 0.1368 - val_accuracy: 0.9590\n",
            "Epoch 12/20\n",
            "352/352 [==============================] - 12s 33ms/step - loss: 0.0237 - accuracy: 0.9922 - val_loss: 0.1358 - val_accuracy: 0.9600\n",
            "Epoch 13/20\n",
            "352/352 [==============================] - 12s 33ms/step - loss: 0.0149 - accuracy: 0.9956 - val_loss: 0.1444 - val_accuracy: 0.9598\n",
            "Epoch 14/20\n",
            "352/352 [==============================] - 11s 33ms/step - loss: 0.0200 - accuracy: 0.9940 - val_loss: 0.1406 - val_accuracy: 0.9642\n",
            "Epoch 15/20\n",
            "352/352 [==============================] - 12s 34ms/step - loss: 0.0127 - accuracy: 0.9961 - val_loss: 0.1421 - val_accuracy: 0.9636\n",
            "Epoch 16/20\n",
            "352/352 [==============================] - 12s 33ms/step - loss: 0.0115 - accuracy: 0.9965 - val_loss: 0.1546 - val_accuracy: 0.9610\n",
            "Epoch 17/20\n",
            "352/352 [==============================] - 11s 33ms/step - loss: 0.0124 - accuracy: 0.9960 - val_loss: 0.1503 - val_accuracy: 0.9634\n",
            "Epoch 18/20\n",
            "352/352 [==============================] - 12s 33ms/step - loss: 0.0114 - accuracy: 0.9966 - val_loss: 0.1662 - val_accuracy: 0.9630\n",
            "Epoch 19/20\n",
            "352/352 [==============================] - 12s 33ms/step - loss: 0.0092 - accuracy: 0.9974 - val_loss: 0.1519 - val_accuracy: 0.9638\n",
            "Epoch 20/20\n",
            "352/352 [==============================] - 12s 33ms/step - loss: 0.0126 - accuracy: 0.9961 - val_loss: 0.1477 - val_accuracy: 0.9632\n",
            "Model: \"sequential_43\"\n",
            "_________________________________________________________________\n",
            " Layer (type)                Output Shape              Param #   \n",
            "=================================================================\n",
            " embedding_43 (Embedding)    (None, None, 200)         5574800   \n",
            "                                                                 \n",
            " bidirectional_15 (Bidirecti  (None, 120)              308160    \n",
            " onal)                                                           \n",
            "                                                                 \n",
            " dropout_35 (Dropout)        (None, 120)               0         \n",
            "                                                                 \n",
            " dense_49 (Dense)            (None, 4)                 484       \n",
            "                                                                 \n",
            "=================================================================\n",
            "Total params: 5,883,444\n",
            "Trainable params: 5,883,444\n",
            "Non-trainable params: 0\n",
            "_________________________________________________________________\n",
            "-------------------------------------------------------------\n",
            "|           |   agree   | disagree  |  discuss  | unrelated |\n",
            "-------------------------------------------------------------\n",
            "|   agree   |    469    |    22     |    402    |   1010    |\n",
            "-------------------------------------------------------------\n",
            "| disagree  |    91     |    20     |    140    |    446    |\n",
            "-------------------------------------------------------------\n",
            "|  discuss  |    315    |    47     |   2098    |   2004    |\n",
            "-------------------------------------------------------------\n",
            "| unrelated |    796    |    62     |   1832    |   15659   |\n",
            "-------------------------------------------------------------\n",
            "Score: 6756.0 out of 11651.25\t(57.98519472159639%)\n"
          ]
        }
      ]
    },
    {
      "cell_type": "markdown",
      "source": [
        "Convolutional Neural Network - With a 200 dimensional word vector used from GloVe, 3 Hidden Layers and a dropout of 25% in the final layer."
      ],
      "metadata": {
        "id": "yf-5u0QLA2Om"
      }
    },
    {
      "cell_type": "code",
      "execution_count": null,
      "metadata": {
        "id": "8dqjFKHX_B7L",
        "colab": {
          "base_uri": "https://localhost:8080/"
        },
        "outputId": "54c718af-375d-4370-a81c-638489e30103"
      },
      "outputs": [
        {
          "output_type": "stream",
          "name": "stdout",
          "text": [
            "Epoch 1/20\n",
            "352/352 [==============================] - 5s 13ms/step - loss: 0.6500 - accuracy: 0.7618 - val_loss: 0.4587 - val_accuracy: 0.8313\n",
            "Epoch 2/20\n",
            "352/352 [==============================] - 4s 12ms/step - loss: 0.3530 - accuracy: 0.8679 - val_loss: 0.2817 - val_accuracy: 0.8976\n",
            "Epoch 3/20\n",
            "352/352 [==============================] - 4s 12ms/step - loss: 0.2236 - accuracy: 0.9163 - val_loss: 0.2319 - val_accuracy: 0.9120\n",
            "Epoch 4/20\n",
            "352/352 [==============================] - 4s 12ms/step - loss: 0.1602 - accuracy: 0.9401 - val_loss: 0.2160 - val_accuracy: 0.9228\n",
            "Epoch 5/20\n",
            "352/352 [==============================] - 4s 12ms/step - loss: 0.1213 - accuracy: 0.9539 - val_loss: 0.1992 - val_accuracy: 0.9342\n",
            "Epoch 6/20\n",
            "352/352 [==============================] - 4s 12ms/step - loss: 0.0998 - accuracy: 0.9622 - val_loss: 0.2051 - val_accuracy: 0.9328\n",
            "Epoch 7/20\n",
            "352/352 [==============================] - 4s 12ms/step - loss: 0.0843 - accuracy: 0.9686 - val_loss: 0.2107 - val_accuracy: 0.9420\n",
            "Epoch 8/20\n",
            "352/352 [==============================] - 4s 12ms/step - loss: 0.0669 - accuracy: 0.9757 - val_loss: 0.2273 - val_accuracy: 0.9334\n",
            "Epoch 9/20\n",
            "352/352 [==============================] - 4s 12ms/step - loss: 0.0632 - accuracy: 0.9779 - val_loss: 0.1920 - val_accuracy: 0.9486\n",
            "Epoch 10/20\n",
            "352/352 [==============================] - 4s 12ms/step - loss: 0.0551 - accuracy: 0.9799 - val_loss: 0.2266 - val_accuracy: 0.9440\n",
            "Epoch 11/20\n",
            "352/352 [==============================] - 4s 12ms/step - loss: 0.0523 - accuracy: 0.9818 - val_loss: 0.2160 - val_accuracy: 0.9460\n",
            "Epoch 12/20\n",
            "352/352 [==============================] - 4s 12ms/step - loss: 0.0428 - accuracy: 0.9851 - val_loss: 0.2141 - val_accuracy: 0.9480\n",
            "Epoch 13/20\n",
            "352/352 [==============================] - 4s 12ms/step - loss: 0.0416 - accuracy: 0.9854 - val_loss: 0.2672 - val_accuracy: 0.9394\n",
            "Epoch 14/20\n",
            "352/352 [==============================] - 5s 13ms/step - loss: 0.0404 - accuracy: 0.9863 - val_loss: 0.2493 - val_accuracy: 0.9474\n",
            "Epoch 15/20\n",
            "352/352 [==============================] - 4s 12ms/step - loss: 0.0370 - accuracy: 0.9879 - val_loss: 0.2624 - val_accuracy: 0.9502\n",
            "Epoch 16/20\n",
            "352/352 [==============================] - 4s 12ms/step - loss: 0.0352 - accuracy: 0.9888 - val_loss: 0.2770 - val_accuracy: 0.9484\n",
            "Epoch 17/20\n",
            "352/352 [==============================] - 4s 12ms/step - loss: 0.0344 - accuracy: 0.9892 - val_loss: 0.2863 - val_accuracy: 0.9472\n",
            "Epoch 18/20\n",
            "352/352 [==============================] - 4s 12ms/step - loss: 0.0375 - accuracy: 0.9883 - val_loss: 0.2531 - val_accuracy: 0.9492\n",
            "Epoch 19/20\n",
            "352/352 [==============================] - 4s 12ms/step - loss: 0.0338 - accuracy: 0.9891 - val_loss: 0.2466 - val_accuracy: 0.9542\n",
            "Epoch 20/20\n",
            "352/352 [==============================] - 4s 12ms/step - loss: 0.0258 - accuracy: 0.9914 - val_loss: 0.2326 - val_accuracy: 0.9536\n",
            "Model: \"sequential_44\"\n",
            "_________________________________________________________________\n",
            " Layer (type)                Output Shape              Param #   \n",
            "=================================================================\n",
            " embedding_44 (Embedding)    (None, 128, 200)          5574800   \n",
            "                                                                 \n",
            " conv1d_40 (Conv1D)          (None, 128, 256)          153856    \n",
            "                                                                 \n",
            " max_pooling1d_39 (MaxPoolin  (None, 64, 256)          0         \n",
            " g1D)                                                            \n",
            "                                                                 \n",
            " conv1d_41 (Conv1D)          (None, 64, 128)           98432     \n",
            "                                                                 \n",
            " max_pooling1d_40 (MaxPoolin  (None, 32, 128)          0         \n",
            " g1D)                                                            \n",
            "                                                                 \n",
            " conv1d_42 (Conv1D)          (None, 32, 64)            24640     \n",
            "                                                                 \n",
            " max_pooling1d_41 (MaxPoolin  (None, 16, 64)           0         \n",
            " g1D)                                                            \n",
            "                                                                 \n",
            " flatten_14 (Flatten)        (None, 1024)              0         \n",
            "                                                                 \n",
            " dense_50 (Dense)            (None, 128)               131200    \n",
            "                                                                 \n",
            " dropout_36 (Dropout)        (None, 128)               0         \n",
            "                                                                 \n",
            " dense_51 (Dense)            (None, 4)                 516       \n",
            "                                                                 \n",
            "=================================================================\n",
            "Total params: 5,983,444\n",
            "Trainable params: 5,983,444\n",
            "Non-trainable params: 0\n",
            "_________________________________________________________________\n",
            "-------------------------------------------------------------\n",
            "|           |   agree   | disagree  |  discuss  | unrelated |\n",
            "-------------------------------------------------------------\n",
            "|   agree   |    467    |    52     |    500    |    884    |\n",
            "-------------------------------------------------------------\n",
            "| disagree  |    181    |    19     |    151    |    346    |\n",
            "-------------------------------------------------------------\n",
            "|  discuss  |    507    |    32     |   2253    |   1672    |\n",
            "-------------------------------------------------------------\n",
            "| unrelated |   1241    |    110    |   2445    |   14553   |\n",
            "-------------------------------------------------------------\n",
            "Score: 6733.0 out of 11651.25\t(57.78779100954833%)\n"
          ]
        }
      ],
      "source": [
        "model6 = Sequential()\n",
        "model6.add(Embedding(input_dim = len(tokenizer.word_index)+1, output_dim = 200, weights = [weight_matrix], trainable = True, input_length = 128))\n",
        "model6.add(Conv1D(256, 3, padding='same', activation='relu'))\n",
        "model6.add(MaxPooling1D())\n",
        "model6.add(Conv1D(128, 3, padding='same', activation='relu'))\n",
        "model6.add(MaxPooling1D())\n",
        "model6.add(Conv1D(64, 3, padding='same', activation='relu'))\n",
        "model6.add(MaxPooling1D())\n",
        "model6.add(Flatten())\n",
        "model6.add(Dense(128, activation = 'relu'))\n",
        "model6.add(Dropout(rate = 0.25))\n",
        "model6.add(Dense(4,activation ='softmax'))\n",
        "model6.compile(loss='categorical_crossentropy', optimizer = 'adam', metrics = ['accuracy'])\n",
        "history = model6.fit(X_train, y_train, batch_size = 128, epochs = 20, validation_data = (X_val, y_val))\n",
        "model6.summary()\n",
        "pred = model6.predict(X_test)\n",
        "predicted_labels = [np.argmax(p, axis = -1) for p in pred]\n",
        "True_labels = [np.argmax(p, axis = -1) for p in y_test]\n",
        "for i in range(len(predicted_labels)):\n",
        "    if predicted_labels[i] == 0: predicted_labels[i] = \"unrelated\"\n",
        "    if predicted_labels[i] == 1: predicted_labels[i] = \"agree\"\n",
        "    if predicted_labels[i] == 2: predicted_labels[i] = \"disagree\"\n",
        "    if predicted_labels[i] == 3: predicted_labels[i] = \"discuss\"\n",
        "for i in range(len(True_labels)):\n",
        "    if True_labels[i] == 0: True_labels[i] = \"unrelated\"\n",
        "    if True_labels[i] == 1: True_labels[i] = \"agree\"\n",
        "    if True_labels[i] == 2: True_labels[i] = \"disagree\"\n",
        "    if True_labels[i] == 3: True_labels[i] = \"discuss\"\n",
        "test_df = pd.read_csv('competition_test_stances.csv')\n",
        "pred_stance = predicted_labels\n",
        "bodyid = []\n",
        "headline = []\n",
        "for i in range(len(test_df.Stance)):\n",
        "    bodyid.append(test_df['Body ID'][i])\n",
        "    headline.append(test_df['Headline'][i])\n",
        "df_submit = pd.DataFrame( data = {'Headline': headline, 'Body ID': bodyid, \"Stance\": pred_stance})\n",
        "# df_submit.to_csv('answer_cnn.csv', index = False, encoding = 'utf-8')\n",
        "predicted = df_submit['Stance'].values\n",
        "actual = test_df['Stance'].values\n",
        "report_score(actual, predicted)\n",
        "cnn_accuracy_3 = history.history['accuracy']\n",
        "cnn_validation_3 = history.history['accuracy']"
      ]
    },
    {
      "cell_type": "code",
      "execution_count": null,
      "metadata": {
        "id": "0OxQqjHB_CEv"
      },
      "outputs": [],
      "source": [
        "word_embeddings = gensim.models.KeyedVectors.load_word2vec_format('data/wiki-news-vec/wiki-news-300d-1M.vec', binary=False)\n",
        "weight_matrix = np.random.uniform(-0.05, 0.05, size=(len(tokenizer.word_index)+1, 300)) \n",
        "for word, i in tokenizer.word_index.items(): \n",
        "    try:\n",
        "        word_embeddings_vector = word_embeddings[word]\n",
        "    except KeyError:\n",
        "        word_embeddings_vector = None\n",
        "    if word_embeddings_vector is not None:\n",
        "        weight_matrix[i] = word_embeddings_vector            \n",
        "del word_embeddings"
      ]
    },
    {
      "cell_type": "markdown",
      "source": [
        ""
      ],
      "metadata": {
        "id": "yvSMCmdjBqVc"
      }
    },
    {
      "cell_type": "markdown",
      "source": [
        "Convolutional Neural Network - With a 200 dimensional word vector used from FastText, 3 Hidden Layers and a dropout of 25% in the final layer."
      ],
      "metadata": {
        "id": "lzF_a3jyB8qo"
      }
    },
    {
      "cell_type": "code",
      "execution_count": null,
      "metadata": {
        "id": "I0j11jso_CH_",
        "colab": {
          "base_uri": "https://localhost:8080/"
        },
        "outputId": "bb1db9b3-0a31-4bfe-d6c4-a65d8c05e756"
      },
      "outputs": [
        {
          "output_type": "stream",
          "name": "stdout",
          "text": [
            "Epoch 1/20\n",
            "352/352 [==============================] - 6s 15ms/step - loss: 0.6243 - accuracy: 0.7718 - val_loss: 0.4064 - val_accuracy: 0.8505\n",
            "Epoch 2/20\n",
            "352/352 [==============================] - 5s 14ms/step - loss: 0.3322 - accuracy: 0.8727 - val_loss: 0.2709 - val_accuracy: 0.8906\n",
            "Epoch 3/20\n",
            "352/352 [==============================] - 5s 14ms/step - loss: 0.2148 - accuracy: 0.9173 - val_loss: 0.2304 - val_accuracy: 0.9130\n",
            "Epoch 4/20\n",
            "352/352 [==============================] - 5s 14ms/step - loss: 0.1582 - accuracy: 0.9402 - val_loss: 0.1921 - val_accuracy: 0.9316\n",
            "Epoch 5/20\n",
            "352/352 [==============================] - 5s 14ms/step - loss: 0.1247 - accuracy: 0.9529 - val_loss: 0.1889 - val_accuracy: 0.9350\n",
            "Epoch 6/20\n",
            "352/352 [==============================] - 5s 14ms/step - loss: 0.1018 - accuracy: 0.9614 - val_loss: 0.2012 - val_accuracy: 0.9386\n",
            "Epoch 7/20\n",
            "352/352 [==============================] - 5s 14ms/step - loss: 0.0867 - accuracy: 0.9667 - val_loss: 0.1844 - val_accuracy: 0.9412\n",
            "Epoch 8/20\n",
            "352/352 [==============================] - 5s 14ms/step - loss: 0.0772 - accuracy: 0.9707 - val_loss: 0.2035 - val_accuracy: 0.9436\n",
            "Epoch 9/20\n",
            "352/352 [==============================] - 5s 14ms/step - loss: 0.0677 - accuracy: 0.9747 - val_loss: 0.2100 - val_accuracy: 0.9476\n",
            "Epoch 10/20\n",
            "352/352 [==============================] - 5s 14ms/step - loss: 0.0615 - accuracy: 0.9768 - val_loss: 0.2115 - val_accuracy: 0.9466\n",
            "Epoch 11/20\n",
            "352/352 [==============================] - 5s 14ms/step - loss: 0.0533 - accuracy: 0.9803 - val_loss: 0.2362 - val_accuracy: 0.9450\n",
            "Epoch 12/20\n",
            "352/352 [==============================] - 5s 14ms/step - loss: 0.0510 - accuracy: 0.9819 - val_loss: 0.2130 - val_accuracy: 0.9484\n",
            "Epoch 13/20\n",
            "352/352 [==============================] - 5s 14ms/step - loss: 0.0467 - accuracy: 0.9827 - val_loss: 0.2165 - val_accuracy: 0.9526\n",
            "Epoch 14/20\n",
            "352/352 [==============================] - 5s 14ms/step - loss: 0.0414 - accuracy: 0.9850 - val_loss: 0.2292 - val_accuracy: 0.9504\n",
            "Epoch 15/20\n",
            "352/352 [==============================] - 5s 14ms/step - loss: 0.0404 - accuracy: 0.9858 - val_loss: 0.2566 - val_accuracy: 0.9482\n",
            "Epoch 16/20\n",
            "352/352 [==============================] - 5s 14ms/step - loss: 0.0360 - accuracy: 0.9868 - val_loss: 0.2602 - val_accuracy: 0.9540\n",
            "Epoch 17/20\n",
            "352/352 [==============================] - 5s 14ms/step - loss: 0.0386 - accuracy: 0.9868 - val_loss: 0.2338 - val_accuracy: 0.9544\n",
            "Epoch 18/20\n",
            "352/352 [==============================] - 5s 14ms/step - loss: 0.0328 - accuracy: 0.9895 - val_loss: 0.2610 - val_accuracy: 0.9534\n",
            "Epoch 19/20\n",
            "352/352 [==============================] - 5s 14ms/step - loss: 0.0314 - accuracy: 0.9900 - val_loss: 0.2411 - val_accuracy: 0.9566\n",
            "Epoch 20/20\n",
            "352/352 [==============================] - 5s 14ms/step - loss: 0.0303 - accuracy: 0.9908 - val_loss: 0.2524 - val_accuracy: 0.9516\n",
            "Model: \"sequential_45\"\n",
            "_________________________________________________________________\n",
            " Layer (type)                Output Shape              Param #   \n",
            "=================================================================\n",
            " embedding_45 (Embedding)    (None, 128, 300)          8362200   \n",
            "                                                                 \n",
            " conv1d_43 (Conv1D)          (None, 128, 256)          230656    \n",
            "                                                                 \n",
            " max_pooling1d_42 (MaxPoolin  (None, 64, 256)          0         \n",
            " g1D)                                                            \n",
            "                                                                 \n",
            " conv1d_44 (Conv1D)          (None, 64, 128)           98432     \n",
            "                                                                 \n",
            " max_pooling1d_43 (MaxPoolin  (None, 32, 128)          0         \n",
            " g1D)                                                            \n",
            "                                                                 \n",
            " conv1d_45 (Conv1D)          (None, 32, 64)            24640     \n",
            "                                                                 \n",
            " max_pooling1d_44 (MaxPoolin  (None, 16, 64)           0         \n",
            " g1D)                                                            \n",
            "                                                                 \n",
            " flatten_15 (Flatten)        (None, 1024)              0         \n",
            "                                                                 \n",
            " dense_52 (Dense)            (None, 128)               131200    \n",
            "                                                                 \n",
            " dropout_37 (Dropout)        (None, 128)               0         \n",
            "                                                                 \n",
            " dense_53 (Dense)            (None, 4)                 516       \n",
            "                                                                 \n",
            "=================================================================\n",
            "Total params: 8,847,644\n",
            "Trainable params: 8,847,644\n",
            "Non-trainable params: 0\n",
            "_________________________________________________________________\n",
            "-------------------------------------------------------------\n",
            "|           |   agree   | disagree  |  discuss  | unrelated |\n",
            "-------------------------------------------------------------\n",
            "|   agree   |    415    |    63     |    391    |   1034    |\n",
            "-------------------------------------------------------------\n",
            "| disagree  |    188    |    26     |    95     |    388    |\n",
            "-------------------------------------------------------------\n",
            "|  discuss  |    512    |    63     |   1761    |   2128    |\n",
            "-------------------------------------------------------------\n",
            "| unrelated |   1275    |    264    |   2169    |   14641   |\n",
            "-------------------------------------------------------------\n",
            "Score: 6190.25 out of 11651.25\t(53.129492543718484%)\n"
          ]
        }
      ],
      "source": [
        "model7 = Sequential()\n",
        "model7.add(Embedding(input_dim = len(tokenizer.word_index)+1, output_dim = 300, weights = [weight_matrix], trainable = True, input_length = 128))\n",
        "model7.add(Conv1D(256, 3, padding='same', activation='relu'))\n",
        "model7.add(MaxPooling1D())\n",
        "model7.add(Conv1D(128, 3, padding='same', activation='relu'))\n",
        "model7.add(MaxPooling1D())\n",
        "model7.add(Conv1D(64, 3, padding='same', activation='relu'))\n",
        "model7.add(MaxPooling1D())\n",
        "model7.add(Flatten())\n",
        "model7.add(Dense(128, activation = 'relu'))\n",
        "model7.add(Dropout(rate = 0.25))\n",
        "model7.add(Dense(4,activation ='softmax'))\n",
        "model7.compile(loss='categorical_crossentropy', optimizer = 'adam', metrics = ['accuracy'])\n",
        "history = model7.fit(X_train, y_train, batch_size = 128, epochs = 20, validation_data = (X_val, y_val))\n",
        "model7.summary()\n",
        "pred = model7.predict(X_test)\n",
        "predicted_labels = [np.argmax(p, axis = -1) for p in pred]\n",
        "True_labels = [np.argmax(p, axis = -1) for p in y_test]\n",
        "for i in range(len(predicted_labels)):\n",
        "    if predicted_labels[i] == 0: predicted_labels[i] = \"unrelated\"\n",
        "    if predicted_labels[i] == 1: predicted_labels[i] = \"agree\"\n",
        "    if predicted_labels[i] == 2: predicted_labels[i] = \"disagree\"\n",
        "    if predicted_labels[i] == 3: predicted_labels[i] = \"discuss\"\n",
        "for i in range(len(True_labels)):\n",
        "    if True_labels[i] == 0: True_labels[i] = \"unrelated\"\n",
        "    if True_labels[i] == 1: True_labels[i] = \"agree\"\n",
        "    if True_labels[i] == 2: True_labels[i] = \"disagree\"\n",
        "    if True_labels[i] == 3: True_labels[i] = \"discuss\"\n",
        "test_df = pd.read_csv('competition_test_stances.csv')\n",
        "pred_stance = predicted_labels\n",
        "bodyid = []\n",
        "headline = []\n",
        "for i in range(len(test_df.Stance)):\n",
        "    bodyid.append(test_df['Body ID'][i])\n",
        "    headline.append(test_df['Headline'][i])\n",
        "df_submit = pd.DataFrame( data = {'Headline': headline, 'Body ID': bodyid, \"Stance\": pred_stance})\n",
        "# df_submit.to_csv('answer_cnn_fastrack.csv', index = False, encoding = 'utf-8')\n",
        "predicted = df_submit['Stance'].values\n",
        "actual = test_df['Stance'].values\n",
        "report_score(actual, predicted)\n",
        "cnn_fasttext_accuracy = history.history['accuracy']\n",
        "cnn_fasttext_validation = history.history['accuracy']"
      ]
    },
    {
      "cell_type": "markdown",
      "source": [
        "Trying on Some Ensemble Methods on the CNN model using the Fast Text Word Embedding"
      ],
      "metadata": {
        "id": "P1iUo8gEvlxD"
      }
    },
    {
      "cell_type": "markdown",
      "source": [
        "Trying out a CNN network that has only 2 hidden layers and no dropout functions"
      ],
      "metadata": {
        "id": "ckX1ulHk4UEH"
      }
    },
    {
      "cell_type": "code",
      "source": [
        "model8 = Sequential()\n",
        "model8.add(Embedding(input_dim = len(tokenizer.word_index)+1, output_dim = 300, weights = [weight_matrix], trainable = True, input_length = 128))\n",
        "model8.add(Conv1D(128, 3, padding='same', activation='relu'))\n",
        "model8.add(MaxPooling1D())\n",
        "model8.add(Conv1D(64, 3, padding='same', activation='relu'))\n",
        "model8.add(MaxPooling1D())\n",
        "model8.add(Flatten())\n",
        "model8.add(Dense(4,activation ='softmax'))\n",
        "model8.compile(loss='categorical_crossentropy', optimizer = 'adam', metrics = ['accuracy'])\n",
        "history = model8.fit(X_train, y_train, batch_size = 128, epochs = 20, validation_data = (X_val, y_val))\n",
        "model8.summary()\n",
        "pred = model8.predict(X_test)\n",
        "predicted_labels = [np.argmax(p, axis = -1) for p in pred]\n",
        "True_labels = [np.argmax(p, axis = -1) for p in y_test]\n",
        "for i in range(len(predicted_labels)):\n",
        "    if predicted_labels[i] == 0: predicted_labels[i] = \"unrelated\"\n",
        "    if predicted_labels[i] == 1: predicted_labels[i] = \"agree\"\n",
        "    if predicted_labels[i] == 2: predicted_labels[i] = \"disagree\"\n",
        "    if predicted_labels[i] == 3: predicted_labels[i] = \"discuss\"\n",
        "for i in range(len(True_labels)):\n",
        "    if True_labels[i] == 0: True_labels[i] = \"unrelated\"\n",
        "    if True_labels[i] == 1: True_labels[i] = \"agree\"\n",
        "    if True_labels[i] == 2: True_labels[i] = \"disagree\"\n",
        "    if True_labels[i] == 3: True_labels[i] = \"discuss\"\n",
        "test_df = pd.read_csv('competition_test_stances.csv')\n",
        "pred_stance = predicted_labels\n",
        "bodyid = []\n",
        "headline = []\n",
        "for i in range(len(test_df.Stance)):\n",
        "    bodyid.append(test_df['Body ID'][i])\n",
        "    headline.append(test_df['Headline'][i])\n",
        "df_submit = pd.DataFrame( data = {'Headline': headline, 'Body ID': bodyid, \"Stance\": pred_stance})\n",
        "# df_submit.to_csv('answer_cnn_fastrack.csv', index = False, encoding = 'utf-8')\n",
        "predicted = df_submit['Stance'].values\n",
        "actual = test_df['Stance'].values\n",
        "report_score(actual, predicted)\n",
        "cnn2_fasttext_accuracy_2 = history.history['accuracy']\n",
        "cnn2_fasttext_validation_2 = history.history['accuracy']"
      ],
      "metadata": {
        "id": "ojlB4XT9v2DZ",
        "colab": {
          "base_uri": "https://localhost:8080/"
        },
        "outputId": "a12ca7c7-b429-4664-ae68-82b480597cbf"
      },
      "execution_count": null,
      "outputs": [
        {
          "output_type": "stream",
          "name": "stdout",
          "text": [
            "Epoch 1/20\n",
            "352/352 [==============================] - 5s 11ms/step - loss: 0.6319 - accuracy: 0.7696 - val_loss: 0.4916 - val_accuracy: 0.8233\n",
            "Epoch 2/20\n",
            "352/352 [==============================] - 4s 10ms/step - loss: 0.4362 - accuracy: 0.8335 - val_loss: 0.4443 - val_accuracy: 0.8313\n",
            "Epoch 3/20\n",
            "352/352 [==============================] - 4s 10ms/step - loss: 0.3582 - accuracy: 0.8603 - val_loss: 0.4398 - val_accuracy: 0.8393\n",
            "Epoch 4/20\n",
            "352/352 [==============================] - 4s 10ms/step - loss: 0.3130 - accuracy: 0.8766 - val_loss: 0.4463 - val_accuracy: 0.8359\n",
            "Epoch 5/20\n",
            "352/352 [==============================] - 4s 10ms/step - loss: 0.2805 - accuracy: 0.8880 - val_loss: 0.4582 - val_accuracy: 0.8331\n",
            "Epoch 6/20\n",
            "352/352 [==============================] - 4s 10ms/step - loss: 0.2517 - accuracy: 0.9010 - val_loss: 0.4638 - val_accuracy: 0.8353\n",
            "Epoch 7/20\n",
            "352/352 [==============================] - 4s 10ms/step - loss: 0.2186 - accuracy: 0.9141 - val_loss: 0.4892 - val_accuracy: 0.8413\n",
            "Epoch 8/20\n",
            "352/352 [==============================] - 4s 10ms/step - loss: 0.1820 - accuracy: 0.9286 - val_loss: 0.5283 - val_accuracy: 0.8553\n",
            "Epoch 9/20\n",
            "352/352 [==============================] - 4s 10ms/step - loss: 0.1497 - accuracy: 0.9443 - val_loss: 0.5015 - val_accuracy: 0.8485\n",
            "Epoch 10/20\n",
            "352/352 [==============================] - 4s 10ms/step - loss: 0.1189 - accuracy: 0.9567 - val_loss: 0.4803 - val_accuracy: 0.8635\n",
            "Epoch 11/20\n",
            "352/352 [==============================] - 4s 10ms/step - loss: 0.0949 - accuracy: 0.9652 - val_loss: 0.4840 - val_accuracy: 0.8669\n",
            "Epoch 12/20\n",
            "352/352 [==============================] - 4s 10ms/step - loss: 0.0783 - accuracy: 0.9722 - val_loss: 0.4995 - val_accuracy: 0.8633\n",
            "Epoch 13/20\n",
            "352/352 [==============================] - 4s 10ms/step - loss: 0.0597 - accuracy: 0.9798 - val_loss: 0.5398 - val_accuracy: 0.8685\n",
            "Epoch 14/20\n",
            "352/352 [==============================] - 4s 10ms/step - loss: 0.0510 - accuracy: 0.9830 - val_loss: 0.5621 - val_accuracy: 0.8768\n",
            "Epoch 15/20\n",
            "352/352 [==============================] - 4s 10ms/step - loss: 0.0434 - accuracy: 0.9857 - val_loss: 0.5893 - val_accuracy: 0.8754\n",
            "Epoch 16/20\n",
            "352/352 [==============================] - 4s 10ms/step - loss: 0.0392 - accuracy: 0.9877 - val_loss: 0.6117 - val_accuracy: 0.8812\n",
            "Epoch 17/20\n",
            "352/352 [==============================] - 4s 10ms/step - loss: 0.0367 - accuracy: 0.9883 - val_loss: 0.6446 - val_accuracy: 0.8764\n",
            "Epoch 18/20\n",
            "352/352 [==============================] - 4s 10ms/step - loss: 0.0336 - accuracy: 0.9895 - val_loss: 0.6368 - val_accuracy: 0.8778\n",
            "Epoch 19/20\n",
            "352/352 [==============================] - 4s 10ms/step - loss: 0.0325 - accuracy: 0.9903 - val_loss: 0.6766 - val_accuracy: 0.8737\n",
            "Epoch 20/20\n",
            "352/352 [==============================] - 4s 10ms/step - loss: 0.0317 - accuracy: 0.9905 - val_loss: 0.6995 - val_accuracy: 0.8743\n",
            "Model: \"sequential_46\"\n",
            "_________________________________________________________________\n",
            " Layer (type)                Output Shape              Param #   \n",
            "=================================================================\n",
            " embedding_46 (Embedding)    (None, 128, 300)          8362200   \n",
            "                                                                 \n",
            " conv1d_46 (Conv1D)          (None, 128, 128)          115328    \n",
            "                                                                 \n",
            " max_pooling1d_45 (MaxPoolin  (None, 64, 128)          0         \n",
            " g1D)                                                            \n",
            "                                                                 \n",
            " conv1d_47 (Conv1D)          (None, 64, 64)            24640     \n",
            "                                                                 \n",
            " max_pooling1d_46 (MaxPoolin  (None, 32, 64)           0         \n",
            " g1D)                                                            \n",
            "                                                                 \n",
            " flatten_16 (Flatten)        (None, 2048)              0         \n",
            "                                                                 \n",
            " dense_54 (Dense)            (None, 4)                 8196      \n",
            "                                                                 \n",
            "=================================================================\n",
            "Total params: 8,510,364\n",
            "Trainable params: 8,510,364\n",
            "Non-trainable params: 0\n",
            "_________________________________________________________________\n",
            "-------------------------------------------------------------\n",
            "|           |   agree   | disagree  |  discuss  | unrelated |\n",
            "-------------------------------------------------------------\n",
            "|   agree   |    164    |     1     |    219    |   1519    |\n",
            "-------------------------------------------------------------\n",
            "| disagree  |    46     |     0     |    95     |    556    |\n",
            "-------------------------------------------------------------\n",
            "|  discuss  |    74     |     0     |   1005    |   3385    |\n",
            "-------------------------------------------------------------\n",
            "| unrelated |    543    |     1     |   2751    |   15054   |\n",
            "-------------------------------------------------------------\n",
            "Score: 5041.25 out of 11651.25\t(43.26788971140436%)\n"
          ]
        }
      ]
    },
    {
      "cell_type": "code",
      "source": [
        "model9 = Sequential()\n",
        "model9.add(Embedding(input_dim = len(tokenizer.word_index)+1, output_dim = 300, weights = [weight_matrix], trainable = True, input_length = 128))\n",
        "model9.add(Conv1D(256, 3, padding='same', activation='relu'))\n",
        "model9.add(MaxPooling1D())\n",
        "model9.add(Conv1D(128, 3, padding='same', activation='relu'))\n",
        "model9.add(MaxPooling1D())\n",
        "model9.add(Conv1D(64, 3, padding='same', activation='relu'))\n",
        "model9.add(MaxPooling1D())\n",
        "model9.add(Flatten())\n",
        "model9.add(Dense(128, activation = 'relu'))\n",
        "model9.add(Dropout(rate = 0.25))\n",
        "model9.add(Dense(4,activation ='softmax'))\n",
        "model9.compile(loss='categorical_crossentropy', optimizer = 'adam', metrics = ['accuracy'])\n",
        "history = model9.fit(X_train, y_train, batch_size = 128, epochs = 20, validation_data = (X_val, y_val))\n",
        "model9.summary()\n",
        "pred = model9.predict(X_test)\n",
        "predicted_labels = [np.argmax(p, axis = -1) for p in pred]\n",
        "True_labels = [np.argmax(p, axis = -1) for p in y_test]\n",
        "for i in range(len(predicted_labels)):\n",
        "    if predicted_labels[i] == 0: predicted_labels[i] = \"unrelated\"\n",
        "    if predicted_labels[i] == 1: predicted_labels[i] = \"agree\"\n",
        "    if predicted_labels[i] == 2: predicted_labels[i] = \"disagree\"\n",
        "    if predicted_labels[i] == 3: predicted_labels[i] = \"discuss\"\n",
        "for i in range(len(True_labels)):\n",
        "    if True_labels[i] == 0: True_labels[i] = \"unrelated\"\n",
        "    if True_labels[i] == 1: True_labels[i] = \"agree\"\n",
        "    if True_labels[i] == 2: True_labels[i] = \"disagree\"\n",
        "    if True_labels[i] == 3: True_labels[i] = \"discuss\"\n",
        "test_df = pd.read_csv('competition_test_stances.csv')\n",
        "pred_stance = predicted_labels\n",
        "bodyid = []\n",
        "headline = []\n",
        "for i in range(len(test_df.Stance)):\n",
        "    bodyid.append(test_df['Body ID'][i])\n",
        "    headline.append(test_df['Headline'][i])\n",
        "df_submit = pd.DataFrame( data = {'Headline': headline, 'Body ID': bodyid, \"Stance\": pred_stance})\n",
        "# df_submit.to_csv('answer_cnn_fastrack.csv', index = False, encoding = 'utf-8')\n",
        "predicted = df_submit['Stance'].values\n",
        "actual = test_df['Stance'].values\n",
        "report_score(actual, predicted)\n",
        "cnn2_fasttext_accuracy = history.history['accuracy']\n",
        "cnn2_fasttext_validation = history.history['accuracy']"
      ],
      "metadata": {
        "id": "PEHMulT_v1I8",
        "colab": {
          "base_uri": "https://localhost:8080/"
        },
        "outputId": "2cc9d337-728b-4545-ba2f-45650bcb05c9"
      },
      "execution_count": null,
      "outputs": [
        {
          "output_type": "stream",
          "name": "stdout",
          "text": [
            "Epoch 1/20\n",
            "352/352 [==============================] - 6s 15ms/step - loss: 0.6037 - accuracy: 0.7750 - val_loss: 0.3735 - val_accuracy: 0.8609\n",
            "Epoch 2/20\n",
            "352/352 [==============================] - 5s 14ms/step - loss: 0.3120 - accuracy: 0.8818 - val_loss: 0.2644 - val_accuracy: 0.9028\n",
            "Epoch 3/20\n",
            "352/352 [==============================] - 5s 14ms/step - loss: 0.2113 - accuracy: 0.9200 - val_loss: 0.2369 - val_accuracy: 0.9152\n",
            "Epoch 4/20\n",
            "352/352 [==============================] - 5s 14ms/step - loss: 0.1624 - accuracy: 0.9379 - val_loss: 0.2353 - val_accuracy: 0.9256\n",
            "Epoch 5/20\n",
            "352/352 [==============================] - 5s 14ms/step - loss: 0.1334 - accuracy: 0.9484 - val_loss: 0.2359 - val_accuracy: 0.9242\n",
            "Epoch 6/20\n",
            "352/352 [==============================] - 5s 14ms/step - loss: 0.1129 - accuracy: 0.9568 - val_loss: 0.2071 - val_accuracy: 0.9338\n",
            "Epoch 7/20\n",
            "352/352 [==============================] - 5s 14ms/step - loss: 0.0978 - accuracy: 0.9627 - val_loss: 0.2070 - val_accuracy: 0.9430\n",
            "Epoch 8/20\n",
            "352/352 [==============================] - 5s 14ms/step - loss: 0.0816 - accuracy: 0.9690 - val_loss: 0.2088 - val_accuracy: 0.9422\n",
            "Epoch 9/20\n",
            "352/352 [==============================] - 5s 14ms/step - loss: 0.0717 - accuracy: 0.9738 - val_loss: 0.2287 - val_accuracy: 0.9438\n",
            "Epoch 10/20\n",
            "352/352 [==============================] - 5s 14ms/step - loss: 0.0653 - accuracy: 0.9767 - val_loss: 0.2553 - val_accuracy: 0.9464\n",
            "Epoch 11/20\n",
            "352/352 [==============================] - 5s 15ms/step - loss: 0.0579 - accuracy: 0.9801 - val_loss: 0.2083 - val_accuracy: 0.9482\n",
            "Epoch 12/20\n",
            "352/352 [==============================] - 5s 14ms/step - loss: 0.0557 - accuracy: 0.9809 - val_loss: 0.2514 - val_accuracy: 0.9452\n",
            "Epoch 13/20\n",
            "352/352 [==============================] - 5s 14ms/step - loss: 0.0498 - accuracy: 0.9833 - val_loss: 0.2265 - val_accuracy: 0.9490\n",
            "Epoch 14/20\n",
            "352/352 [==============================] - 5s 14ms/step - loss: 0.0475 - accuracy: 0.9843 - val_loss: 0.2234 - val_accuracy: 0.9528\n",
            "Epoch 15/20\n",
            "352/352 [==============================] - 5s 14ms/step - loss: 0.0406 - accuracy: 0.9869 - val_loss: 0.2461 - val_accuracy: 0.9508\n",
            "Epoch 16/20\n",
            "352/352 [==============================] - 5s 14ms/step - loss: 0.0405 - accuracy: 0.9874 - val_loss: 0.2209 - val_accuracy: 0.9502\n",
            "Epoch 17/20\n",
            "352/352 [==============================] - 5s 14ms/step - loss: 0.0362 - accuracy: 0.9884 - val_loss: 0.2817 - val_accuracy: 0.9494\n",
            "Epoch 18/20\n",
            "352/352 [==============================] - 5s 14ms/step - loss: 0.0346 - accuracy: 0.9881 - val_loss: 0.2318 - val_accuracy: 0.9530\n",
            "Epoch 19/20\n",
            "352/352 [==============================] - 5s 14ms/step - loss: 0.0335 - accuracy: 0.9892 - val_loss: 0.2806 - val_accuracy: 0.9524\n",
            "Epoch 20/20\n",
            "352/352 [==============================] - 5s 14ms/step - loss: 0.0349 - accuracy: 0.9889 - val_loss: 0.2669 - val_accuracy: 0.9596\n",
            "Model: \"sequential_47\"\n",
            "_________________________________________________________________\n",
            " Layer (type)                Output Shape              Param #   \n",
            "=================================================================\n",
            " embedding_47 (Embedding)    (None, 128, 300)          8362200   \n",
            "                                                                 \n",
            " conv1d_48 (Conv1D)          (None, 128, 256)          230656    \n",
            "                                                                 \n",
            " max_pooling1d_47 (MaxPoolin  (None, 64, 256)          0         \n",
            " g1D)                                                            \n",
            "                                                                 \n",
            " conv1d_49 (Conv1D)          (None, 64, 128)           98432     \n",
            "                                                                 \n",
            " max_pooling1d_48 (MaxPoolin  (None, 32, 128)          0         \n",
            " g1D)                                                            \n",
            "                                                                 \n",
            " conv1d_50 (Conv1D)          (None, 32, 64)            24640     \n",
            "                                                                 \n",
            " max_pooling1d_49 (MaxPoolin  (None, 16, 64)           0         \n",
            " g1D)                                                            \n",
            "                                                                 \n",
            " flatten_17 (Flatten)        (None, 1024)              0         \n",
            "                                                                 \n",
            " dense_55 (Dense)            (None, 128)               131200    \n",
            "                                                                 \n",
            " dropout_38 (Dropout)        (None, 128)               0         \n",
            "                                                                 \n",
            " dense_56 (Dense)            (None, 4)                 516       \n",
            "                                                                 \n",
            "=================================================================\n",
            "Total params: 8,847,644\n",
            "Trainable params: 8,847,644\n",
            "Non-trainable params: 0\n",
            "_________________________________________________________________\n",
            "-------------------------------------------------------------\n",
            "|           |   agree   | disagree  |  discuss  | unrelated |\n",
            "-------------------------------------------------------------\n",
            "|   agree   |    322    |     7     |    429    |   1145    |\n",
            "-------------------------------------------------------------\n",
            "| disagree  |    85     |     9     |    112    |    491    |\n",
            "-------------------------------------------------------------\n",
            "|  discuss  |    350    |    21     |   1988    |   2105    |\n",
            "-------------------------------------------------------------\n",
            "| unrelated |    883    |    18     |   2448    |   15000   |\n",
            "-------------------------------------------------------------\n",
            "Score: 6320.0 out of 11651.25\t(54.24310696277224%)\n"
          ]
        }
      ]
    },
    {
      "cell_type": "code",
      "source": [
        "epochs = [x for x in range(1,21)]\n",
        "plt.plot(epochs, base_lstm_accuracy)\n",
        "plt.plot(epochs, bilstm_concat_accuracy)\n",
        "plt.plot(epochs, bilstm_average_accuracy)\n",
        "plt.plot(epochs, bilstm_mul_accuracy)\n",
        "plt.plot(epochs, bilstm_sum_accuracy)\n",
        "plt.plot(epochs, cnn_accuracy_3)\n",
        "plt.plot(epochs, cnn_fasttext_accuracy)\n",
        "plt.plot(epochs, bilstm_sum_accuracy)\n",
        "plt.xlabel(\"Epochs\")\n",
        "plt.ylabel(\"Accuracies\")\n",
        "plt.legend(['lstm', 'bilstm', 'cnn','cnn_f'])\n",
        "plt.title(\"Training Accuracies of Different Models\")\n",
        "plt.show()"
      ],
      "metadata": {
        "colab": {
          "base_uri": "https://localhost:8080/",
          "height": 295
        },
        "id": "31BGkKVxS61M",
        "outputId": "6c9a1ae5-62d0-4803-fd46-da6b006bc251"
      },
      "execution_count": null,
      "outputs": [
        {
          "output_type": "display_data",
          "data": {
            "text/plain": [
              "<Figure size 432x288 with 1 Axes>"
            ],
            "image/png": "[encoded data removed]"
          },
          "metadata": {
            "needs_background": "light"
          }
        }
      ]
    },
    {
      "cell_type": "code",
      "source": [
        "plt.plot(epochs, base_lstm_validation)\n",
        "plt.plot(epochs, bilstm__concat_validation)\n",
        "plt.plot(epochs, bilstm__average_validation)\n",
        "plt.plot(epochs, bilstm__mul_validation)\n",
        "plt.plot(epochs, bilstm_sum_validation)\n",
        "plt.plot(epochs, cnn_validation_3)\n",
        "plt.plot(epochs, cnn_fasttext_validation)\n",
        "plt.plot(epochs, cnn2_fasttext_validation_2)\n",
        "plt.plot(epochs, cnn2_fasttext_validation)\n",
        "plt.plot(epochs, bilstm_sum_accuracy)\n",
        "plt.xlabel(\"Epochs\")\n",
        "plt.ylabel(\"Validation Accuracies\")\n",
        "plt.legend(['lstm', 'bilstm', 'cnn','cnn_f'])\n",
        "plt.title(\"Validation Accuracies of Different Models\")\n",
        "plt.show()\n"
      ],
      "metadata": {
        "colab": {
          "base_uri": "https://localhost:8080/",
          "height": 295
        },
        "id": "ErF6nhsGUH_M",
        "outputId": "9cdbdfe5-2a8d-44fe-9068-d1b821102d65"
      },
      "execution_count": null,
      "outputs": [
        {
          "output_type": "display_data",
          "data": {
            "text/plain": [
              "<Figure size 432x288 with 1 Axes>"
            ],
            "image/png": "[encoded data removed]"
          },
          "metadata": {
            "needs_background": "light"
          }
        }
      ]
    }
  ],
  "metadata": {
    "accelerator": "GPU",
    "colab": {
      "collapsed_sections": [],
      "name": "Neural_Networks_LSTM,_Bi_LSTM,_CNN.ipynb",
      "provenance": [],
      "include_colab_link": true
    },
    "gpuClass": "standard",
    "kernelspec": {
      "display_name": "Python 3",
      "name": "python3"
    },
    "language_info": {
      "name": "python"
    }
  },
  "nbformat": 4,
  "nbformat_minor": 0
}